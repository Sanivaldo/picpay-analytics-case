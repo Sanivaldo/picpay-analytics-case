{
 "cells": [
  {
   "cell_type": "markdown",
   "metadata": {
    "application/vnd.databricks.v1+cell": {
     "cellMetadata": {},
     "inputWidgets": {},
     "nuid": "58cc3d8c-1eca-48d0-92f5-2f7a95acff5a",
     "showTitle": false,
     "tableResultSettingsMap": {},
     "title": ""
    }
   },
   "source": [
    "# PicPay – Case Técnico: Receita Financeira\n",
    "\n",
    "Este notebook apresenta a solução para o case técnico de receita financeira enviado pelo PicPay. O objetivo é aplicar regras de negócio sobre transações financeiras, com foco no cálculo de receitas provenientes de:\n",
    "\n",
    "- P2P (pagamentos entre usuários via cartão de crédito)\n",
    "- BILLS (pagamento de boletos, com ou sem parcelamento)\n",
    "\n",
    "\n",
    "O pipeline organiza as etapas de ingestão, tratamento e geração de dados analíticos em camadas, utilizando recursos nativos da plataforma Azure.\n",
    "\n",
    "- **Bronze**: ingestão dos dados brutos no formato original (CSV)\n",
    "- **Silver**: aplicação de regras de negócio e normalização dos dados\n",
    "- **Gold**: geração da tabela de parcelas detalhadas (Tabela Price) com juros compostos\n",
    "\n"
   ]
  },
  {
   "cell_type": "markdown",
   "metadata": {
    "application/vnd.databricks.v1+cell": {
     "cellMetadata": {},
     "inputWidgets": {},
     "nuid": "f67e2b92-64b0-41f6-b4f6-f7423b7e836f",
     "showTitle": false,
     "tableResultSettingsMap": {},
     "title": ""
    }
   },
   "source": [
    "## Autenticação com o Azure Data Lake Storage (ADLS Gen2)\n",
    "\n",
    "A leitura e escrita dos dados neste notebook é feita diretamente no Azure Data Lake Storage Gen2.  \n",
    "Para garantir segurança e evitar exposição de credenciais, foi utilizado um Secret Scope (`picpay_scope`) configurado no Azure Databricks.\n",
    "\n",
    "A chave da Storage Account foi armazenada no Databricks por meio da CLI, e acessada de forma segura utilizando a função `dbutils.secrets.get()`."
   ]
  },
  {
   "cell_type": "code",
   "execution_count": 0,
   "metadata": {
    "application/vnd.databricks.v1+cell": {
     "cellMetadata": {
      "byteLimit": 2048000,
      "rowLimit": 10000
     },
     "inputWidgets": {},
     "nuid": "85553ca6-fa43-4404-8552-1ba91820cae6",
     "showTitle": false,
     "tableResultSettingsMap": {},
     "title": ""
    }
   },
   "outputs": [],
   "source": [
    "spark.conf.set(\n",
    "    \"fs.azure.account.key.stcensodados.dfs.core.windows.net\",\n",
    "    dbutils.secrets.get(scope=\"picpay_scope\", key=\"stcensodados_key\")\n",
    ")"
   ]
  },
  {
   "cell_type": "markdown",
   "metadata": {
    "application/vnd.databricks.v1+cell": {
     "cellMetadata": {},
     "inputWidgets": {},
     "nuid": "eae509bc-6c3c-482e-85fe-7227d385f8cf",
     "showTitle": false,
     "tableResultSettingsMap": {},
     "title": ""
    }
   },
   "source": [
    "## Leitura dos dados brutos (Camada Bronze)\n",
    "\n",
    "Nesta etapa, os dados da camada Bronze são lidos diretamente do Data Lake.\n",
    "\n",
    "O arquivo `transactions.csv` foi carregado via updload para a camada bronze (raw) no adls.\n",
    "\n",
    "sep = ';'\n"
   ]
  },
  {
   "cell_type": "code",
   "execution_count": 0,
   "metadata": {
    "application/vnd.databricks.v1+cell": {
     "cellMetadata": {
      "byteLimit": 2048000,
      "rowLimit": 10000
     },
     "inputWidgets": {},
     "nuid": "4d207214-aa87-4ffa-b62e-f35818a7ffb6",
     "showTitle": false,
     "tableResultSettingsMap": {},
     "title": ""
    }
   },
   "outputs": [
    {
     "output_type": "display_data",
     "data": {
      "text/html": [
       "<style scoped>\n",
       "  .table-result-container {\n",
       "    max-height: 300px;\n",
       "    overflow: auto;\n",
       "  }\n",
       "  table, th, td {\n",
       "    border: 1px solid black;\n",
       "    border-collapse: collapse;\n",
       "  }\n",
       "  th, td {\n",
       "    padding: 5px;\n",
       "  }\n",
       "  th {\n",
       "    text-align: left;\n",
       "  }\n",
       "</style><div class='table-result-container'><table class='table-result'><thead style='background-color: white'><tr><th>transaction_id</th><th>transaction_date</th><th>transaction_type</th><th>transaction_value</th><th>receiver_used_cc_limit</th><th>payment_method</th><th>installments</th><th>p2p_surcharge_rate</th><th>bills_surcharge_rate</th><th>installment_rate</th></tr></thead><tbody><tr><td>1</td><td>03/01/2021</td><td>P2P</td><td>400</td><td>600</td><td>Credit card</td><td>12</td><td>1.99</td><td>2.99</td><td>3.49</td></tr><tr><td>2</td><td>14/09/2021</td><td>BILLS</td><td>650</td><td>300</td><td>Credit card</td><td>5</td><td>1.99</td><td>2.99</td><td>3.49</td></tr><tr><td>3</td><td>20/07/2021</td><td>BILLS</td><td>1200</td><td>0</td><td>Credit card</td><td>8</td><td>1.99</td><td>2.99</td><td>3.49</td></tr><tr><td>4</td><td>06/08/2021</td><td>P2P</td><td>350</td><td>800</td><td>Credit card</td><td>9</td><td>1.99</td><td>2.99</td><td>3.49</td></tr><tr><td>5</td><td>13/04/2021</td><td>P2P</td><td>3500</td><td>0</td><td>Credit card</td><td>10</td><td>1.99</td><td>2.99</td><td>3.49</td></tr><tr><td>6</td><td>24/05/2021</td><td>P2P</td><td>3420</td><td>0</td><td>Credit card</td><td>7</td><td>1.99</td><td>2.99</td><td>3.49</td></tr><tr><td>7</td><td>31/03/2021</td><td>BILLS</td><td>5000</td><td>0</td><td>Credit card</td><td>12</td><td>1.99</td><td>2.99</td><td>3.49</td></tr><tr><td>8</td><td>30/08/2021</td><td>P2P</td><td>2800</td><td>0</td><td>Credit card</td><td>12</td><td>1.99</td><td>2.99</td><td>3.49</td></tr><tr><td>9</td><td>28/08/2021</td><td>BILLS</td><td>6000</td><td>0</td><td>Credit card</td><td>4</td><td>1.99</td><td>2.99</td><td>3.49</td></tr><tr><td>10</td><td>27/09/2021</td><td>P2P</td><td>8000</td><td>0</td><td>Credit card</td><td>6</td><td>1.99</td><td>2.99</td><td>3.49</td></tr></tbody></table></div>"
      ]
     },
     "metadata": {
      "application/vnd.databricks.v1+output": {
       "addedWidgets": {},
       "aggData": [],
       "aggError": "",
       "aggOverflow": false,
       "aggSchema": [],
       "aggSeriesLimitReached": false,
       "aggType": "",
       "arguments": {},
       "columnCustomDisplayInfos": {},
       "data": [
        [
         "1",
         "03/01/2021",
         "P2P",
         "400",
         "600",
         "Credit card",
         "12",
         "1.99",
         "2.99",
         "3.49"
        ],
        [
         "2",
         "14/09/2021",
         "BILLS",
         "650",
         "300",
         "Credit card",
         "5",
         "1.99",
         "2.99",
         "3.49"
        ],
        [
         "3",
         "20/07/2021",
         "BILLS",
         "1200",
         "0",
         "Credit card",
         "8",
         "1.99",
         "2.99",
         "3.49"
        ],
        [
         "4",
         "06/08/2021",
         "P2P",
         "350",
         "800",
         "Credit card",
         "9",
         "1.99",
         "2.99",
         "3.49"
        ],
        [
         "5",
         "13/04/2021",
         "P2P",
         "3500",
         "0",
         "Credit card",
         "10",
         "1.99",
         "2.99",
         "3.49"
        ],
        [
         "6",
         "24/05/2021",
         "P2P",
         "3420",
         "0",
         "Credit card",
         "7",
         "1.99",
         "2.99",
         "3.49"
        ],
        [
         "7",
         "31/03/2021",
         "BILLS",
         "5000",
         "0",
         "Credit card",
         "12",
         "1.99",
         "2.99",
         "3.49"
        ],
        [
         "8",
         "30/08/2021",
         "P2P",
         "2800",
         "0",
         "Credit card",
         "12",
         "1.99",
         "2.99",
         "3.49"
        ],
        [
         "9",
         "28/08/2021",
         "BILLS",
         "6000",
         "0",
         "Credit card",
         "4",
         "1.99",
         "2.99",
         "3.49"
        ],
        [
         "10",
         "27/09/2021",
         "P2P",
         "8000",
         "0",
         "Credit card",
         "6",
         "1.99",
         "2.99",
         "3.49"
        ]
       ],
       "datasetInfos": [],
       "dbfsResultPath": null,
       "isJsonSchema": true,
       "metadata": {},
       "overflow": false,
       "plotOptions": {
        "customPlotOptions": {},
        "displayType": "table",
        "pivotAggregation": null,
        "pivotColumns": null,
        "xColumns": null,
        "yColumns": null
       },
       "removedWidgets": [],
       "schema": [
        {
         "metadata": "{}",
         "name": "transaction_id",
         "type": "\"string\""
        },
        {
         "metadata": "{}",
         "name": "transaction_date",
         "type": "\"string\""
        },
        {
         "metadata": "{}",
         "name": "transaction_type",
         "type": "\"string\""
        },
        {
         "metadata": "{}",
         "name": "transaction_value",
         "type": "\"string\""
        },
        {
         "metadata": "{}",
         "name": "receiver_used_cc_limit",
         "type": "\"string\""
        },
        {
         "metadata": "{}",
         "name": "payment_method",
         "type": "\"string\""
        },
        {
         "metadata": "{}",
         "name": "installments",
         "type": "\"string\""
        },
        {
         "metadata": "{}",
         "name": "p2p_surcharge_rate",
         "type": "\"string\""
        },
        {
         "metadata": "{}",
         "name": "bills_surcharge_rate",
         "type": "\"string\""
        },
        {
         "metadata": "{}",
         "name": "installment_rate",
         "type": "\"string\""
        }
       ],
       "type": "table"
      }
     },
     "output_type": "display_data"
    }
   ],
   "source": [
    "bronze_path = \"abfss://raw@stcensodados.dfs.core.windows.net/picpay_analytics_case_receitas/transactions.csv\"\n",
    "\n",
    "df_raw = spark.read.option(\"header\", True).option(\"sep\", \";\").csv(bronze_path)\n",
    "\n",
    "display(df_raw)"
   ]
  },
  {
   "cell_type": "markdown",
   "metadata": {
    "application/vnd.databricks.v1+cell": {
     "cellMetadata": {},
     "inputWidgets": {},
     "nuid": "f4a09463-d51a-4056-a9c0-7b2682569ec9",
     "showTitle": false,
     "tableResultSettingsMap": {},
     "title": ""
    }
   },
   "source": [
    "## Análise exploratória inicial\n",
    "\n",
    "Antes da fase de transformação, foram inspecionados alguns pontos, tais como a estrutura do dataset, tipos de dados incorretos, campos nulos e avaliar a consistência dos valores.\n",
    "\n",
    "Abaixo, são verificados:\n",
    "- Schema do DataFrame\n",
    "- Quantidade de linhas e colunas\n",
    "- Amostras de valores únicos\n",
    "- Estatísticas descritivas de colunas numéricas\n"
   ]
  },
  {
   "cell_type": "code",
   "execution_count": 0,
   "metadata": {
    "application/vnd.databricks.v1+cell": {
     "cellMetadata": {
      "byteLimit": 2048000,
      "rowLimit": 10000
     },
     "inputWidgets": {},
     "nuid": "5ad249ad-6f8e-410b-bc8b-e1d577c7ce25",
     "showTitle": false,
     "tableResultSettingsMap": {},
     "title": ""
    }
   },
   "outputs": [
    {
     "output_type": "stream",
     "name": "stdout",
     "output_type": "stream",
     "text": [
      "root\n |-- transaction_id: string (nullable = true)\n |-- transaction_date: string (nullable = true)\n |-- transaction_type: string (nullable = true)\n |-- transaction_value: string (nullable = true)\n |-- receiver_used_cc_limit: string (nullable = true)\n |-- payment_method: string (nullable = true)\n |-- installments: string (nullable = true)\n |-- p2p_surcharge_rate: string (nullable = true)\n |-- bills_surcharge_rate: string (nullable = true)\n |-- installment_rate: string (nullable = true)\n\nTotal de linhas: 10 | Total de colunas: 10\n"
     ]
    }
   ],
   "source": [
    "# Ver estrutura do DataFrame\n",
    "df_raw.printSchema()\n",
    "\n",
    "# Contagem de linhas e colunas\n",
    "print(f\"Total de linhas: {df_raw.count()} | Total de colunas: {len(df_raw.columns)}\")\n"
   ]
  },
  {
   "cell_type": "code",
   "execution_count": 0,
   "metadata": {
    "application/vnd.databricks.v1+cell": {
     "cellMetadata": {
      "byteLimit": 2048000,
      "rowLimit": 10000
     },
     "inputWidgets": {},
     "nuid": "d8834a15-ed90-4b11-a9c1-fb7f024a7ead",
     "showTitle": false,
     "tableResultSettingsMap": {},
     "title": ""
    }
   },
   "outputs": [
    {
     "output_type": "stream",
     "name": "stdout",
     "output_type": "stream",
     "text": [
      "+----------------+\n|transaction_type|\n+----------------+\n|             P2P|\n|           BILLS|\n+----------------+\n\n+--------------+\n|payment_method|\n+--------------+\n|   Credit card|\n+--------------+\n\n"
     ]
    }
   ],
   "source": [
    "# Verificar valores únicos de colunas categóricas\n",
    "df_raw.select(\"transaction_type\").distinct().show()\n",
    "df_raw.select(\"payment_method\").distinct().show()\n"
   ]
  },
  {
   "cell_type": "code",
   "execution_count": 0,
   "metadata": {
    "application/vnd.databricks.v1+cell": {
     "cellMetadata": {
      "byteLimit": 2048000,
      "rowLimit": 10000
     },
     "inputWidgets": {},
     "nuid": "7d4e5d85-2e60-40e5-97cd-5a21737d9117",
     "showTitle": false,
     "tableResultSettingsMap": {},
     "title": ""
    }
   },
   "outputs": [
    {
     "output_type": "stream",
     "name": "stdout",
     "output_type": "stream",
     "text": [
      "+-------+-----------------+----------------------+\n|summary|transaction_value|receiver_used_cc_limit|\n+-------+-----------------+----------------------+\n|  count|               10|                    10|\n|   mean|           3132.0|                 170.0|\n| stddev|2599.939315531123|      298.328677803526|\n|    min|             1200|                     0|\n|    max|             8000|                   800|\n+-------+-----------------+----------------------+\n\n"
     ]
    }
   ],
   "source": [
    "# Estatísticas básicas de colunas numéricas\n",
    "df_raw.describe([\"transaction_value\", \"receiver_used_cc_limit\"]).show()\n"
   ]
  },
  {
   "cell_type": "markdown",
   "metadata": {
    "application/vnd.databricks.v1+cell": {
     "cellMetadata": {},
     "inputWidgets": {},
     "nuid": "fd1edf30-5a34-42cd-8a6d-70b12b8f7fdc",
     "showTitle": false,
     "tableResultSettingsMap": {},
     "title": ""
    }
   },
   "source": [
    "## Camada Silver: Conversão e Normalização dos Dados\n",
    "\n",
    "Nesta etapa, os dados da camada Bronze são padronizados para facilitar a aplicação das regras de negócio e análise posterior.\n",
    "\n",
    "Essas foram as transformações aplicadas:\n",
    "- Conversão de colunas numéricas e de data para tipos apropriados\n",
    "- Normalização de colunas categóricas (remoção de espaços e valores nulos)\n",
    "- Conversão de taxas percentuais para valores decimais\n",
    "- Remoção de linhas com `transaction_type` vazio"
   ]
  },
  {
   "cell_type": "code",
   "execution_count": 0,
   "metadata": {
    "application/vnd.databricks.v1+cell": {
     "cellMetadata": {
      "byteLimit": 2048000,
      "rowLimit": 10000
     },
     "inputWidgets": {},
     "nuid": "09f7454e-1f13-4498-b5cd-d4c49bfd0e67",
     "showTitle": false,
     "tableResultSettingsMap": {},
     "title": ""
    }
   },
   "outputs": [
    {
     "output_type": "display_data",
     "data": {
      "text/html": [
       "<style scoped>\n",
       "  .table-result-container {\n",
       "    max-height: 300px;\n",
       "    overflow: auto;\n",
       "  }\n",
       "  table, th, td {\n",
       "    border: 1px solid black;\n",
       "    border-collapse: collapse;\n",
       "  }\n",
       "  th, td {\n",
       "    padding: 5px;\n",
       "  }\n",
       "  th {\n",
       "    text-align: left;\n",
       "  }\n",
       "</style><div class='table-result-container'><table class='table-result'><thead style='background-color: white'><tr><th>id_transacao</th><th>data_transacao</th><th>tipo_transacao</th><th>valor_transacao</th><th>valor_utilizado_limite</th><th>forma_pagamento</th><th>parcelas</th><th>taxa_p2p</th><th>taxa_boleto</th><th>taxa_parcelamento</th></tr></thead><tbody><tr><td>1</td><td>2021-01-03</td><td>P2P</td><td>400.0</td><td>600.0</td><td>Credit card</td><td>12</td><td>0.0199</td><td>0.029900000000000003</td><td>0.0349</td></tr><tr><td>2</td><td>2021-09-14</td><td>BILLS</td><td>650.0</td><td>300.0</td><td>Credit card</td><td>5</td><td>0.0199</td><td>0.029900000000000003</td><td>0.0349</td></tr><tr><td>3</td><td>2021-07-20</td><td>BILLS</td><td>1200.0</td><td>0.0</td><td>Credit card</td><td>8</td><td>0.0199</td><td>0.029900000000000003</td><td>0.0349</td></tr><tr><td>4</td><td>2021-08-06</td><td>P2P</td><td>350.0</td><td>800.0</td><td>Credit card</td><td>9</td><td>0.0199</td><td>0.029900000000000003</td><td>0.0349</td></tr><tr><td>5</td><td>2021-04-13</td><td>P2P</td><td>3500.0</td><td>0.0</td><td>Credit card</td><td>10</td><td>0.0199</td><td>0.029900000000000003</td><td>0.0349</td></tr><tr><td>6</td><td>2021-05-24</td><td>P2P</td><td>3420.0</td><td>0.0</td><td>Credit card</td><td>7</td><td>0.0199</td><td>0.029900000000000003</td><td>0.0349</td></tr><tr><td>7</td><td>2021-03-31</td><td>BILLS</td><td>5000.0</td><td>0.0</td><td>Credit card</td><td>12</td><td>0.0199</td><td>0.029900000000000003</td><td>0.0349</td></tr><tr><td>8</td><td>2021-08-30</td><td>P2P</td><td>2800.0</td><td>0.0</td><td>Credit card</td><td>12</td><td>0.0199</td><td>0.029900000000000003</td><td>0.0349</td></tr><tr><td>9</td><td>2021-08-28</td><td>BILLS</td><td>6000.0</td><td>0.0</td><td>Credit card</td><td>4</td><td>0.0199</td><td>0.029900000000000003</td><td>0.0349</td></tr><tr><td>10</td><td>2021-09-27</td><td>P2P</td><td>8000.0</td><td>0.0</td><td>Credit card</td><td>6</td><td>0.0199</td><td>0.029900000000000003</td><td>0.0349</td></tr></tbody></table></div>"
      ]
     },
     "metadata": {
      "application/vnd.databricks.v1+output": {
       "addedWidgets": {},
       "aggData": [],
       "aggError": "",
       "aggOverflow": false,
       "aggSchema": [],
       "aggSeriesLimitReached": false,
       "aggType": "",
       "arguments": {},
       "columnCustomDisplayInfos": {},
       "data": [
        [
         "1",
         "2021-01-03",
         "P2P",
         400.0,
         600.0,
         "Credit card",
         12,
         0.0199,
         0.029900000000000003,
         0.0349
        ],
        [
         "2",
         "2021-09-14",
         "BILLS",
         650.0,
         300.0,
         "Credit card",
         5,
         0.0199,
         0.029900000000000003,
         0.0349
        ],
        [
         "3",
         "2021-07-20",
         "BILLS",
         1200.0,
         0.0,
         "Credit card",
         8,
         0.0199,
         0.029900000000000003,
         0.0349
        ],
        [
         "4",
         "2021-08-06",
         "P2P",
         350.0,
         800.0,
         "Credit card",
         9,
         0.0199,
         0.029900000000000003,
         0.0349
        ],
        [
         "5",
         "2021-04-13",
         "P2P",
         3500.0,
         0.0,
         "Credit card",
         10,
         0.0199,
         0.029900000000000003,
         0.0349
        ],
        [
         "6",
         "2021-05-24",
         "P2P",
         3420.0,
         0.0,
         "Credit card",
         7,
         0.0199,
         0.029900000000000003,
         0.0349
        ],
        [
         "7",
         "2021-03-31",
         "BILLS",
         5000.0,
         0.0,
         "Credit card",
         12,
         0.0199,
         0.029900000000000003,
         0.0349
        ],
        [
         "8",
         "2021-08-30",
         "P2P",
         2800.0,
         0.0,
         "Credit card",
         12,
         0.0199,
         0.029900000000000003,
         0.0349
        ],
        [
         "9",
         "2021-08-28",
         "BILLS",
         6000.0,
         0.0,
         "Credit card",
         4,
         0.0199,
         0.029900000000000003,
         0.0349
        ],
        [
         "10",
         "2021-09-27",
         "P2P",
         8000.0,
         0.0,
         "Credit card",
         6,
         0.0199,
         0.029900000000000003,
         0.0349
        ]
       ],
       "datasetInfos": [],
       "dbfsResultPath": null,
       "isJsonSchema": true,
       "metadata": {},
       "overflow": false,
       "plotOptions": {
        "customPlotOptions": {},
        "displayType": "table",
        "pivotAggregation": null,
        "pivotColumns": null,
        "xColumns": null,
        "yColumns": null
       },
       "removedWidgets": [],
       "schema": [
        {
         "metadata": "{}",
         "name": "id_transacao",
         "type": "\"string\""
        },
        {
         "metadata": "{}",
         "name": "data_transacao",
         "type": "\"date\""
        },
        {
         "metadata": "{}",
         "name": "tipo_transacao",
         "type": "\"string\""
        },
        {
         "metadata": "{}",
         "name": "valor_transacao",
         "type": "\"double\""
        },
        {
         "metadata": "{}",
         "name": "valor_utilizado_limite",
         "type": "\"double\""
        },
        {
         "metadata": "{}",
         "name": "forma_pagamento",
         "type": "\"string\""
        },
        {
         "metadata": "{}",
         "name": "parcelas",
         "type": "\"integer\""
        },
        {
         "metadata": "{}",
         "name": "taxa_p2p",
         "type": "\"double\""
        },
        {
         "metadata": "{}",
         "name": "taxa_boleto",
         "type": "\"double\""
        },
        {
         "metadata": "{}",
         "name": "taxa_parcelamento",
         "type": "\"double\""
        }
       ],
       "type": "table"
      }
     },
     "output_type": "display_data"
    }
   ],
   "source": [
    "from pyspark.sql.functions import col, to_date, trim\n",
    "\n",
    "df_silver = df_raw \\\n",
    "    .filter(col(\"transaction_type\") != \"\") \\\n",
    "    .withColumnRenamed(\"transaction_id\", \"id_transacao\") \\\n",
    "    .withColumnRenamed(\"transaction_date\", \"data_transacao\") \\\n",
    "    .withColumnRenamed(\"transaction_type\", \"tipo_transacao\") \\\n",
    "    .withColumnRenamed(\"transaction_value\", \"valor_transacao\") \\\n",
    "    .withColumnRenamed(\"receiver_used_cc_limit\", \"valor_utilizado_limite\") \\\n",
    "    .withColumnRenamed(\"payment_method\", \"forma_pagamento\") \\\n",
    "    .withColumnRenamed(\"installments\", \"parcelas\") \\\n",
    "    .withColumnRenamed(\"p2p_surcharge_rate\", \"taxa_p2p\") \\\n",
    "    .withColumnRenamed(\"bills_surcharge_rate\", \"taxa_boleto\") \\\n",
    "    .withColumnRenamed(\"installment_rate\", \"taxa_parcelamento\") \\\n",
    "    .withColumn(\"data_transacao\", to_date(\"data_transacao\", \"dd/MM/yyyy\")) \\\n",
    "    .withColumn(\"valor_transacao\", col(\"valor_transacao\").cast(\"double\")) \\\n",
    "    .withColumn(\"valor_utilizado_limite\", col(\"valor_utilizado_limite\").cast(\"double\")) \\\n",
    "    .withColumn(\"parcelas\", col(\"parcelas\").cast(\"int\")) \\\n",
    "    .withColumn(\"taxa_p2p\", col(\"taxa_p2p\").cast(\"double\") / 100) \\\n",
    "    .withColumn(\"taxa_boleto\", col(\"taxa_boleto\").cast(\"double\") / 100) \\\n",
    "    .withColumn(\"taxa_parcelamento\", col(\"taxa_parcelamento\").cast(\"double\") / 100) \\\n",
    "    .withColumn(\"tipo_transacao\", trim(col(\"tipo_transacao\"))) \\\n",
    "    .withColumn(\"forma_pagamento\", trim(col(\"forma_pagamento\")))\n",
    "\n",
    "display(df_silver)"
   ]
  },
  {
   "cell_type": "code",
   "execution_count": 0,
   "metadata": {
    "application/vnd.databricks.v1+cell": {
     "cellMetadata": {
      "byteLimit": 2048000,
      "rowLimit": 10000
     },
     "inputWidgets": {},
     "nuid": "0142076a-3904-4f13-b84d-fe259d55fa69",
     "showTitle": false,
     "tableResultSettingsMap": {},
     "title": ""
    }
   },
   "outputs": [],
   "source": [
    "silver_path = \"abfss://processed@stcensodados.dfs.core.windows.net/picpay_analytics_case_receitas/transactions_silver\"\n",
    "\n",
    "df_silver.write.format(\"delta\").mode(\"overwrite\").save(silver_path)\n"
   ]
  },
  {
   "cell_type": "markdown",
   "metadata": {
    "application/vnd.databricks.v1+cell": {
     "cellMetadata": {},
     "inputWidgets": {},
     "nuid": "841ea54e-74d9-4254-b7c1-9b4f3120157a",
     "showTitle": false,
     "tableResultSettingsMap": {},
     "title": ""
    }
   },
   "source": [
    "## Cálculo da taxa sobre transações P2P\n",
    "\n",
    "Esta etapa aplica a regra de negócio definida para transações do tipo P2P, onde é cobrada uma taxa de 1,99% sobre o valor excedente a R$800, por recebedor, considerando o total de recebimentos via cartão de crédito no mês.\n",
    "\n",
    "O resultado será armazenado em uma nova coluna chamada `valor_taxa_p2p`.\n"
   ]
  },
  {
   "cell_type": "code",
   "execution_count": 0,
   "metadata": {
    "application/vnd.databricks.v1+cell": {
     "cellMetadata": {
      "byteLimit": 2048000,
      "rowLimit": 10000
     },
     "inputWidgets": {},
     "nuid": "ada15b9c-73ff-4ad9-aa25-7ef013c74a33",
     "showTitle": false,
     "tableResultSettingsMap": {},
     "title": ""
    }
   },
   "outputs": [],
   "source": [
    "from pyspark.sql.functions import month, year, sum as _sum, col, when\n",
    "\n",
    "# Adiciona colunas de ano e mês\n",
    "df_p2p = df_silver \\\n",
    "    .withColumn(\"ano\", year(\"data_transacao\")) \\\n",
    "    .withColumn(\"mes\", month(\"data_transacao\"))\n",
    "\n",
    "# Filtra somente transações P2P com pagamento via cartão de crédito\n",
    "df_p2p_filtrado = df_p2p.filter(\n",
    "    (col(\"tipo_transacao\") == \"P2P\") &\n",
    "    (col(\"forma_pagamento\") == \"Credit card\")\n",
    ")\n",
    "\n",
    "# Agrega por mês/ano e ID (substituir por recebedor se houver)\n",
    "df_p2p_agrupado = df_p2p_filtrado.groupBy(\"ano\", \"mes\", \"id_transacao\") \\\n",
    "    .agg(_sum(\"valor_transacao\").alias(\"valor_total_mes\"))\n",
    "\n",
    "# Calcula o excedente e aplica taxa de 1,99%\n",
    "df_p2p_taxado = df_p2p_agrupado.withColumn(\n",
    "    \"valor_taxa_p2p\",\n",
    "    when(col(\"valor_total_mes\") > 800, (col(\"valor_total_mes\") - 800) * 0.0199).otherwise(0)\n",
    ")\n"
   ]
  },
  {
   "cell_type": "markdown",
   "metadata": {
    "application/vnd.databricks.v1+cell": {
     "cellMetadata": {},
     "inputWidgets": {},
     "nuid": "ed91eb26-d389-4da8-8cc7-381c7c928856",
     "showTitle": false,
     "tableResultSettingsMap": {},
     "title": ""
    }
   },
   "source": [
    "## Cálculo da taxa de boleto (BILLS)\n",
    "\n",
    "Para transações do tipo `BILLS` pagas com cartão de crédito, é aplicada uma taxa fixa de 2,99% sobre o valor da transação.\n",
    "\n",
    "Caso o pagamento tenha sido parcelado (coluna `parcelas` > 1), é aplicado também juros compostos mensais de 3,49%, com base no sistema de amortização francês (Tabela Price).\n",
    "\n",
    "O valor da transação é ajustado com a taxa fixa antes do cálculo dos juros.\n"
   ]
  },
  {
   "cell_type": "code",
   "execution_count": 0,
   "metadata": {
    "application/vnd.databricks.v1+cell": {
     "cellMetadata": {
      "byteLimit": 2048000,
      "rowLimit": 10000
     },
     "inputWidgets": {},
     "nuid": "76c6b542-8c3e-44c6-9801-8478b54b623a",
     "showTitle": false,
     "tableResultSettingsMap": {},
     "title": ""
    }
   },
   "outputs": [],
   "source": [
    "from pyspark.sql.functions import when\n",
    "\n",
    "# Aplica a taxa de 2,99% se for BILLS com cartão de crédito\n",
    "df_silver = df_silver.withColumn(\n",
    "    \"valor_com_taxa\",\n",
    "    when(\n",
    "        (col(\"tipo_transacao\") == \"BILLS\") &\n",
    "        (col(\"forma_pagamento\") == \"Credit card\"),\n",
    "        col(\"valor_transacao\") * (1 + col(\"taxa_boleto\"))\n",
    "    ).otherwise(col(\"valor_transacao\"))\n",
    ")\n"
   ]
  },
  {
   "cell_type": "code",
   "execution_count": 0,
   "metadata": {
    "application/vnd.databricks.v1+cell": {
     "cellMetadata": {
      "byteLimit": 2048000,
      "rowLimit": 10000
     },
     "inputWidgets": {},
     "nuid": "dc2949ee-89a2-46fd-a3cb-4d9912652c6c",
     "showTitle": false,
     "tableResultSettingsMap": {},
     "title": ""
    }
   },
   "outputs": [],
   "source": [
    "from pyspark.sql.functions import pow\n",
    "\n",
    "juros_mensal = 0.0349\n",
    "\n",
    "df_silver = df_silver.withColumn(\n",
    "    \"valor_parcela\",\n",
    "    when(\n",
    "        (col(\"tipo_transacao\") == \"BILLS\") &\n",
    "        (col(\"forma_pagamento\") == \"Credit card\") &\n",
    "        (col(\"parcelas\") > 1),\n",
    "        col(\"valor_com_taxa\") * (juros_mensal / (1 - pow(1 + juros_mensal, -col(\"parcelas\"))))\n",
    "    )\n",
    ")\n",
    "\n",
    "df_silver = df_silver.withColumn(\n",
    "    \"valor_total_a_pagar\",\n",
    "    when(col(\"valor_parcela\").isNotNull(), col(\"valor_parcela\") * col(\"parcelas\"))\n",
    ")\n",
    "\n",
    "df_silver = df_silver.withColumn(\n",
    "    \"valor_juros_total\",\n",
    "    col(\"valor_total_a_pagar\") - col(\"valor_com_taxa\")\n",
    ")\n"
   ]
  },
  {
   "cell_type": "markdown",
   "metadata": {
    "application/vnd.databricks.v1+cell": {
     "cellMetadata": {},
     "inputWidgets": {},
     "nuid": "16896879-f9be-400e-b530-84a7f71734a7",
     "showTitle": false,
     "tableResultSettingsMap": {},
     "title": ""
    }
   },
   "source": [
    "## Geração da tabela de parcelas (transactions_installments)\n",
    "\n",
    "Para cada transação do tipo BILLS com parcelamento, são geradas as respectivas parcelas utilizando o sistema de amortização francês (Tabela Price), com juros compostos mensais.\n",
    "\n",
    "Cada linha representa uma parcela com os seguintes dados:\n",
    "\n",
    "- Número da parcela\n",
    "- Valor da parcela (fixo)\n",
    "- Juros mensal da parcela\n",
    "- Amortização da parcela\n",
    "- Saldo restante após a amortização\n"
   ]
  },
  {
   "cell_type": "code",
   "execution_count": 0,
   "metadata": {
    "application/vnd.databricks.v1+cell": {
     "cellMetadata": {
      "byteLimit": 2048000,
      "rowLimit": 10000
     },
     "inputWidgets": {},
     "nuid": "758bc244-f671-4866-a37e-4fa07a506f61",
     "showTitle": false,
     "tableResultSettingsMap": {},
     "title": ""
    }
   },
   "outputs": [],
   "source": [
    "from pyspark.sql.functions import expr, col, sequence, explode, lit\n",
    "from pyspark.sql.types import DoubleType\n",
    "\n",
    "# Apenas transações parceladas do tipo BILLS com cartão\n",
    "df_parceladas = df_silver.filter(\n",
    "    (col(\"tipo_transacao\") == \"BILLS\") &\n",
    "    (col(\"forma_pagamento\") == \"Credit card\") &\n",
    "    (col(\"parcelas\") > 1)\n",
    ")\n",
    "\n",
    "# Adiciona coluna com sequência de número de parcelas: [1, 2, ..., n]\n",
    "df_parceladas = df_parceladas.withColumn(\"numero_parcela\", explode(sequence(lit(1), col(\"parcelas\"))))\n"
   ]
  },
  {
   "cell_type": "markdown",
   "metadata": {
    "application/vnd.databricks.v1+cell": {
     "cellMetadata": {},
     "inputWidgets": {},
     "nuid": "1582c7a6-f5b3-45b8-b6a1-8bdcaed187c0",
     "showTitle": false,
     "tableResultSettingsMap": {},
     "title": ""
    }
   },
   "source": [
    "## Geração da tabela de parcelas (transactions_installments)\n",
    "\n",
    "Nesta etapa, para cada transação parcelada do tipo BILLS paga com cartão de crédito será detalhado o num mensal de parcelas conforme a Tabela Price (amortização francesa).\n",
    "\n",
    "Cada linha da tabela representa uma parcela, contendo:\n",
    "\n",
    "- ID da transação\n",
    "- Número da parcela\n",
    "- Valor total da parcela\n",
    "- Juros do período\n",
    "- Amortização (parte que reduz o saldo devedor)\n",
    "- Saldo devedor restante após a parcela\n",
    "\n",
    "A lógica é aplicada por meio de um Pandas UDF.\n"
   ]
  },
  {
   "cell_type": "code",
   "execution_count": 0,
   "metadata": {
    "application/vnd.databricks.v1+cell": {
     "cellMetadata": {
      "byteLimit": 2048000,
      "rowLimit": 10000
     },
     "inputWidgets": {},
     "nuid": "bceeac6b-10f4-409f-af2c-280064269f47",
     "showTitle": false,
     "tableResultSettingsMap": {},
     "title": ""
    }
   },
   "outputs": [],
   "source": [
    "from pyspark.sql.functions import col, explode, sequence, lit, pow, round\n",
    "\n",
    "# Constante da taxa de juros mensal (3,49%)\n",
    "juros_mensal = 0.0349\n",
    "\n",
    "# Filtra BILLS parceladas com cartão\n",
    "df_parceladas = df_silver.filter(\n",
    "    (col(\"tipo_transacao\") == \"BILLS\") &\n",
    "    (col(\"forma_pagamento\") == \"Credit card\") &\n",
    "    (col(\"parcelas\") > 1)\n",
    ")\n",
    "\n",
    "# Gera sequência de parcelas\n",
    "df_exp = df_parceladas.withColumn(\"numero_parcela\", explode(sequence(lit(1), col(\"parcelas\"))))\n",
    "\n",
    "# Calcula saldo anterior a cada parcela (approx simplificada pela Tabela Price)\n",
    "df_installments = df_exp.withColumn(\n",
    "    \"valor_juros\", round((col(\"valor_com_taxa\") * pow(1 + juros_mensal, col(\"parcelas\") - col(\"numero_parcela\"))) * juros_mensal, 2)\n",
    ").withColumn(\n",
    "    \"valor_parcela\", round(col(\"valor_parcela\"), 2)\n",
    ").withColumn(\n",
    "    \"valor_amortizacao\", round(col(\"valor_parcela\") - col(\"valor_juros\"), 2)\n",
    ").withColumn(\n",
    "    \"saldo_restante\", round(\n",
    "        col(\"valor_com_taxa\") - (\n",
    "            (col(\"numero_parcela\") * col(\"valor_parcela\")) - \n",
    "            (col(\"numero_parcela\") * col(\"valor_juros\"))\n",
    "        ), 2\n",
    "    )\n",
    ").select(\n",
    "    \"id_transacao\", \"numero_parcela\", \"valor_parcela\",\n",
    "    \"valor_juros\", \"valor_amortizacao\", \"saldo_restante\"\n",
    ")\n"
   ]
  },
  {
   "cell_type": "code",
   "execution_count": 0,
   "metadata": {
    "application/vnd.databricks.v1+cell": {
     "cellMetadata": {
      "byteLimit": 2048000,
      "rowLimit": 10000
     },
     "inputWidgets": {},
     "nuid": "9a3a059e-021c-43c7-903d-fbe993b29e86",
     "showTitle": false,
     "tableResultSettingsMap": {},
     "title": ""
    }
   },
   "outputs": [
    {
     "output_type": "display_data",
     "data": {
      "text/html": [
       "<style scoped>\n",
       "  .table-result-container {\n",
       "    max-height: 300px;\n",
       "    overflow: auto;\n",
       "  }\n",
       "  table, th, td {\n",
       "    border: 1px solid black;\n",
       "    border-collapse: collapse;\n",
       "  }\n",
       "  th, td {\n",
       "    padding: 5px;\n",
       "  }\n",
       "  th {\n",
       "    text-align: left;\n",
       "  }\n",
       "</style><div class='table-result-container'><table class='table-result'><thead style='background-color: white'><tr><th>id_transacao</th><th>numero_parcela</th><th>valor_parcela</th><th>valor_juros</th><th>valor_amortizacao</th><th>saldo_restante</th></tr></thead><tbody><tr><td>2</td><td>1</td><td>148.23</td><td>26.8</td><td>121.43</td><td>548.01</td></tr><tr><td>2</td><td>2</td><td>148.23</td><td>25.9</td><td>122.33</td><td>424.78</td></tr><tr><td>2</td><td>3</td><td>148.23</td><td>25.02</td><td>123.21</td><td>299.81</td></tr><tr><td>2</td><td>4</td><td>148.23</td><td>24.18</td><td>124.05</td><td>173.24</td></tr><tr><td>2</td><td>5</td><td>148.23</td><td>23.36</td><td>124.87</td><td>45.09</td></tr><tr><td>3</td><td>1</td><td>179.72</td><td>54.84</td><td>124.88</td><td>1111.0</td></tr><tr><td>3</td><td>2</td><td>179.72</td><td>52.99</td><td>126.73</td><td>982.42</td></tr><tr><td>3</td><td>3</td><td>179.72</td><td>51.2</td><td>128.52</td><td>850.32</td></tr><tr><td>3</td><td>4</td><td>179.72</td><td>49.48</td><td>130.24</td><td>714.92</td></tr><tr><td>3</td><td>5</td><td>179.72</td><td>47.81</td><td>131.91</td><td>576.33</td></tr><tr><td>3</td><td>6</td><td>179.72</td><td>46.2</td><td>133.52</td><td>434.76</td></tr><tr><td>3</td><td>7</td><td>179.72</td><td>44.64</td><td>135.08</td><td>290.32</td></tr><tr><td>3</td><td>8</td><td>179.72</td><td>43.13</td><td>136.59</td><td>143.16</td></tr><tr><td>7</td><td>1</td><td>532.58</td><td>262.1</td><td>270.48</td><td>4879.02</td></tr><tr><td>7</td><td>2</td><td>532.58</td><td>253.26</td><td>279.32</td><td>4590.86</td></tr><tr><td>7</td><td>3</td><td>532.58</td><td>244.72</td><td>287.86</td><td>4285.92</td></tr><tr><td>7</td><td>4</td><td>532.58</td><td>236.47</td><td>296.11</td><td>3965.06</td></tr><tr><td>7</td><td>5</td><td>532.58</td><td>228.5</td><td>304.08</td><td>3629.1</td></tr><tr><td>7</td><td>6</td><td>532.58</td><td>220.79</td><td>311.79</td><td>3278.76</td></tr><tr><td>7</td><td>7</td><td>532.58</td><td>213.34</td><td>319.24</td><td>2914.82</td></tr><tr><td>7</td><td>8</td><td>532.58</td><td>206.15</td><td>326.43</td><td>2538.06</td></tr><tr><td>7</td><td>9</td><td>532.58</td><td>199.2</td><td>333.38</td><td>2149.08</td></tr><tr><td>7</td><td>10</td><td>532.58</td><td>192.48</td><td>340.1</td><td>1748.5</td></tr><tr><td>7</td><td>11</td><td>532.58</td><td>185.99</td><td>346.59</td><td>1337.01</td></tr><tr><td>7</td><td>12</td><td>532.58</td><td>179.72</td><td>352.86</td><td>915.18</td></tr><tr><td>9</td><td>1</td><td>1681.95</td><td>239.04</td><td>1442.91</td><td>4736.49</td></tr><tr><td>9</td><td>2</td><td>1681.95</td><td>230.98</td><td>1450.97</td><td>3277.46</td></tr><tr><td>9</td><td>3</td><td>1681.95</td><td>223.19</td><td>1458.76</td><td>1803.12</td></tr><tr><td>9</td><td>4</td><td>1681.95</td><td>215.66</td><td>1466.29</td><td>314.24</td></tr></tbody></table></div>"
      ]
     },
     "metadata": {
      "application/vnd.databricks.v1+output": {
       "addedWidgets": {},
       "aggData": [],
       "aggError": "",
       "aggOverflow": false,
       "aggSchema": [],
       "aggSeriesLimitReached": false,
       "aggType": "",
       "arguments": {},
       "columnCustomDisplayInfos": {},
       "data": [
        [
         "2",
         1,
         148.23,
         26.8,
         121.43,
         548.01
        ],
        [
         "2",
         2,
         148.23,
         25.9,
         122.33,
         424.78
        ],
        [
         "2",
         3,
         148.23,
         25.02,
         123.21,
         299.81
        ],
        [
         "2",
         4,
         148.23,
         24.18,
         124.05,
         173.24
        ],
        [
         "2",
         5,
         148.23,
         23.36,
         124.87,
         45.09
        ],
        [
         "3",
         1,
         179.72,
         54.84,
         124.88,
         1111.0
        ],
        [
         "3",
         2,
         179.72,
         52.99,
         126.73,
         982.42
        ],
        [
         "3",
         3,
         179.72,
         51.2,
         128.52,
         850.32
        ],
        [
         "3",
         4,
         179.72,
         49.48,
         130.24,
         714.92
        ],
        [
         "3",
         5,
         179.72,
         47.81,
         131.91,
         576.33
        ],
        [
         "3",
         6,
         179.72,
         46.2,
         133.52,
         434.76
        ],
        [
         "3",
         7,
         179.72,
         44.64,
         135.08,
         290.32
        ],
        [
         "3",
         8,
         179.72,
         43.13,
         136.59,
         143.16
        ],
        [
         "7",
         1,
         532.58,
         262.1,
         270.48,
         4879.02
        ],
        [
         "7",
         2,
         532.58,
         253.26,
         279.32,
         4590.86
        ],
        [
         "7",
         3,
         532.58,
         244.72,
         287.86,
         4285.92
        ],
        [
         "7",
         4,
         532.58,
         236.47,
         296.11,
         3965.06
        ],
        [
         "7",
         5,
         532.58,
         228.5,
         304.08,
         3629.1
        ],
        [
         "7",
         6,
         532.58,
         220.79,
         311.79,
         3278.76
        ],
        [
         "7",
         7,
         532.58,
         213.34,
         319.24,
         2914.82
        ],
        [
         "7",
         8,
         532.58,
         206.15,
         326.43,
         2538.06
        ],
        [
         "7",
         9,
         532.58,
         199.2,
         333.38,
         2149.08
        ],
        [
         "7",
         10,
         532.58,
         192.48,
         340.1,
         1748.5
        ],
        [
         "7",
         11,
         532.58,
         185.99,
         346.59,
         1337.01
        ],
        [
         "7",
         12,
         532.58,
         179.72,
         352.86,
         915.18
        ],
        [
         "9",
         1,
         1681.95,
         239.04,
         1442.91,
         4736.49
        ],
        [
         "9",
         2,
         1681.95,
         230.98,
         1450.97,
         3277.46
        ],
        [
         "9",
         3,
         1681.95,
         223.19,
         1458.76,
         1803.12
        ],
        [
         "9",
         4,
         1681.95,
         215.66,
         1466.29,
         314.24
        ]
       ],
       "datasetInfos": [],
       "dbfsResultPath": null,
       "isJsonSchema": true,
       "metadata": {},
       "overflow": false,
       "plotOptions": {
        "customPlotOptions": {},
        "displayType": "table",
        "pivotAggregation": null,
        "pivotColumns": null,
        "xColumns": null,
        "yColumns": null
       },
       "removedWidgets": [],
       "schema": [
        {
         "metadata": "{}",
         "name": "id_transacao",
         "type": "\"string\""
        },
        {
         "metadata": "{}",
         "name": "numero_parcela",
         "type": "\"integer\""
        },
        {
         "metadata": "{}",
         "name": "valor_parcela",
         "type": "\"double\""
        },
        {
         "metadata": "{}",
         "name": "valor_juros",
         "type": "\"double\""
        },
        {
         "metadata": "{}",
         "name": "valor_amortizacao",
         "type": "\"double\""
        },
        {
         "metadata": "{}",
         "name": "saldo_restante",
         "type": "\"double\""
        }
       ],
       "type": "table"
      }
     },
     "output_type": "display_data"
    }
   ],
   "source": [
    "df_installments.write.format(\"delta\").mode(\"overwrite\").save(\n",
    "    \"abfss://processed@stcensodados.dfs.core.windows.net/picpay_analytics_case_receitas/transactions_installments\"\n",
    ")\n",
    "display(df_installments)"
   ]
  },
  {
   "cell_type": "code",
   "execution_count": 0,
   "metadata": {
    "application/vnd.databricks.v1+cell": {
     "cellMetadata": {
      "byteLimit": 2048000,
      "rowLimit": 10000
     },
     "inputWidgets": {},
     "nuid": "e53bf256-128b-401a-a679-1fcc4d9c42a7",
     "showTitle": false,
     "tableResultSettingsMap": {},
     "title": ""
    }
   },
   "outputs": [],
   "source": [
    "df_installments.write.option(\"header\", True).mode(\"overwrite\").csv(\n",
    "    \"abfss://analytics@stcensodados.dfs.core.windows.net/picpay_analytics_case_receitas/entrega_csv/installments\"\n",
    ")\n"
   ]
  },
  {
   "cell_type": "markdown",
   "metadata": {
    "application/vnd.databricks.v1+cell": {
     "cellMetadata": {},
     "inputWidgets": {},
     "nuid": "bbf505b4-7ff2-422a-b214-8fa87b425f3a",
     "showTitle": false,
     "tableResultSettingsMap": {},
     "title": ""
    }
   },
   "source": [
    "## Conclusão\n",
    "\n",
    "A solução implementada entrega um pipeline analítico completo para cálculo de receitas financeiras com base em transações do tipo P2P e BILLS.\n",
    "\n",
    "- Os dados foram organizados em camadas (Bronze, Silver, Gold) no Data Lake (ADLS Gen2).\n",
    "- Utilizamos Delta Lake para garantir confiabilidade e performance.\n",
    "- A tabela `transactions_installments` foi gerada com base na Tabela Price, pronta para análise financeira.\n",
    "- Todos os dados foram armazenados na camada Gold e exportados em formato `.csv`."
   ]
  }
 ],
 "metadata": {
  "application/vnd.databricks.v1+notebook": {
   "computePreferences": null,
   "dashboards": [],
   "environmentMetadata": {
    "base_environment": "",
    "environment_version": "2"
   },
   "inputWidgetPreferences": null,
   "language": "python",
   "notebookMetadata": {
    "pythonIndentUnit": 4
   },
   "notebookName": "picpay_analytics_case_receitas",
   "widgets": {}
  },
  "language_info": {
   "name": "python"
  }
 },
 "nbformat": 4,
 "nbformat_minor": 0
}