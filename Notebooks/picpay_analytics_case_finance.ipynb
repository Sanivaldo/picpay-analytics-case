{
 "cells": [
  {
   "cell_type": "markdown",
   "metadata": {
    "application/vnd.databricks.v1+cell": {
     "cellMetadata": {
      "byteLimit": 2048000,
      "rowLimit": 10000
     },
     "inputWidgets": {},
     "nuid": "6c055093-1a6e-4b91-a534-8852f33734cc",
     "showTitle": false,
     "tableResultSettingsMap": {},
     "title": ""
    }
   },
   "source": [
    "# PicPay – Case Técnico: Receita Financeira\n",
    "\n",
    "Este notebook em Databricks apresenta a solução para o case técnico de receita financeira enviado pelo PicPay. O objetivo é aplicar regras de negócio sobre transações financeiras, com foco no cálculo de receitas provenientes de:\n",
    "\n",
    "- P2P (pagamentos entre usuários via cartão de crédito)\n",
    "- BILLS (pagamento de boletos, com ou sem parcelamento)\n",
    "\n",
    "\n",
    "O pipeline organiza as etapas de ingestão, tratamento e geração de dados analíticos em camadas, utilizando recursos nativos da plataforma Azure.\n",
    "\n",
    "- **Bronze**: ingestão dos dados brutos no formato original (CSV)\n",
    "- **Silver**: aplicação de regras de negócio e normalização dos dados\n",
    "- **Gold**: geração da tabela de installments detalhadas (Tabela Price) com juros compostos\n",
    "\n"
   ]
  },
  {
   "cell_type": "markdown",
   "metadata": {
    "application/vnd.databricks.v1+cell": {
     "cellMetadata": {
      "byteLimit": 2048000,
      "rowLimit": 10000
     },
     "inputWidgets": {},
     "nuid": "3d2f75bf-e25d-4b00-93eb-ead47aef87b7",
     "showTitle": false,
     "tableResultSettingsMap": {},
     "title": ""
    }
   },
   "source": [
    "Autenticação com o Azure Data Lake Storage (ADLS Gen2)\n",
    "A leitura e escrita dos dados neste notebook é feita diretamente no Azure Data Lake Storage Gen2.\n",
    "Para garantir segurança e evitar exposição de credenciais, foi utilizado um Secret Scope (picpay_scope) configurado no Azure Databricks.\n",
    "\n",
    "A chave da Storage Account foi armazenada no Databricks por meio da CLI, e acessada de forma segura utilizando a função dbutils.secrets.get()."
   ]
  },
  {
   "cell_type": "code",
   "execution_count": 0,
   "metadata": {
    "application/vnd.databricks.v1+cell": {
     "cellMetadata": {
      "byteLimit": 2048000,
      "rowLimit": 10000
     },
     "inputWidgets": {},
     "nuid": "a437cd4f-853f-4e89-ba99-e6ac516a665c",
     "showTitle": false,
     "tableResultSettingsMap": {},
     "title": ""
    }
   },
   "outputs": [],
   "source": [
    "spark.conf.set(\n",
    "    \"fs.azure.account.key.stcensodados.dfs.core.windows.net\",\n",
    "    dbutils.secrets.get(scope=\"picpay_scope\", key=\"stcensodados_key\")\n",
    ")"
   ]
  },
  {
   "cell_type": "markdown",
   "metadata": {
    "application/vnd.databricks.v1+cell": {
     "cellMetadata": {
      "byteLimit": 2048000,
      "rowLimit": 10000
     },
     "inputWidgets": {},
     "nuid": "9ce6ed6a-bef4-49e2-afbe-18ed08f9fa6d",
     "showTitle": false,
     "tableResultSettingsMap": {},
     "title": ""
    }
   },
   "source": [
    "Leitura dos dados brutos (Camada Bronze)\n",
    "Nesta etapa, os dados da camada Bronze são lidos diretamente do Data Lake.\n",
    "\n",
    "O arquivo transactions.csv foi carregado via updload para a camada bronze (raw) no adls.\n",
    "\n",
    "sep = ';'"
   ]
  },
  {
   "cell_type": "code",
   "execution_count": 0,
   "metadata": {
    "application/vnd.databricks.v1+cell": {
     "cellMetadata": {
      "byteLimit": 2048000,
      "rowLimit": 10000
     },
     "inputWidgets": {},
     "nuid": "2a96d51c-481d-4367-9e82-88f0d8e9acdb",
     "showTitle": false,
     "tableResultSettingsMap": {},
     "title": ""
    }
   },
   "outputs": [
    {
     "output_type": "display_data",
     "data": {
      "text/html": [
       "<style scoped>\n",
       "  .table-result-container {\n",
       "    max-height: 300px;\n",
       "    overflow: auto;\n",
       "  }\n",
       "  table, th, td {\n",
       "    border: 1px solid black;\n",
       "    border-collapse: collapse;\n",
       "  }\n",
       "  th, td {\n",
       "    padding: 5px;\n",
       "  }\n",
       "  th {\n",
       "    text-align: left;\n",
       "  }\n",
       "</style><div class='table-result-container'><table class='table-result'><thead style='background-color: white'><tr><th>transaction_id</th><th>transaction_date</th><th>transaction_type</th><th>transaction_value</th><th>receiver_used_cc_limit</th><th>payment_method</th><th>installments</th><th>p2p_surcharge_rate</th><th>bills_surcharge_rate</th><th>installment_rate</th></tr></thead><tbody><tr><td>1</td><td>03/01/2021</td><td>P2P</td><td>400</td><td>600</td><td>Credit card</td><td>12</td><td>1.99</td><td>2.99</td><td>3.49</td></tr><tr><td>2</td><td>14/09/2021</td><td>BILLS</td><td>650</td><td>300</td><td>Credit card</td><td>5</td><td>1.99</td><td>2.99</td><td>3.49</td></tr><tr><td>3</td><td>20/07/2021</td><td>BILLS</td><td>1200</td><td>0</td><td>Credit card</td><td>8</td><td>1.99</td><td>2.99</td><td>3.49</td></tr><tr><td>4</td><td>06/08/2021</td><td>P2P</td><td>350</td><td>800</td><td>Credit card</td><td>9</td><td>1.99</td><td>2.99</td><td>3.49</td></tr><tr><td>5</td><td>13/04/2021</td><td>P2P</td><td>3500</td><td>0</td><td>Credit card</td><td>10</td><td>1.99</td><td>2.99</td><td>3.49</td></tr><tr><td>6</td><td>24/05/2021</td><td>P2P</td><td>3420</td><td>0</td><td>Credit card</td><td>7</td><td>1.99</td><td>2.99</td><td>3.49</td></tr><tr><td>7</td><td>31/03/2021</td><td>BILLS</td><td>5000</td><td>0</td><td>Credit card</td><td>12</td><td>1.99</td><td>2.99</td><td>3.49</td></tr><tr><td>8</td><td>30/08/2021</td><td>P2P</td><td>2800</td><td>0</td><td>Credit card</td><td>12</td><td>1.99</td><td>2.99</td><td>3.49</td></tr><tr><td>9</td><td>28/08/2021</td><td>BILLS</td><td>6000</td><td>0</td><td>Credit card</td><td>4</td><td>1.99</td><td>2.99</td><td>3.49</td></tr><tr><td>10</td><td>27/09/2021</td><td>P2P</td><td>8000</td><td>0</td><td>Credit card</td><td>6</td><td>1.99</td><td>2.99</td><td>3.49</td></tr></tbody></table></div>"
      ]
     },
     "metadata": {
      "application/vnd.databricks.v1+output": {
       "addedWidgets": {},
       "aggData": [],
       "aggError": "",
       "aggOverflow": false,
       "aggSchema": [],
       "aggSeriesLimitReached": false,
       "aggType": "",
       "arguments": {},
       "columnCustomDisplayInfos": {},
       "data": [
        [
         "1",
         "03/01/2021",
         "P2P",
         "400",
         "600",
         "Credit card",
         "12",
         "1.99",
         "2.99",
         "3.49"
        ],
        [
         "2",
         "14/09/2021",
         "BILLS",
         "650",
         "300",
         "Credit card",
         "5",
         "1.99",
         "2.99",
         "3.49"
        ],
        [
         "3",
         "20/07/2021",
         "BILLS",
         "1200",
         "0",
         "Credit card",
         "8",
         "1.99",
         "2.99",
         "3.49"
        ],
        [
         "4",
         "06/08/2021",
         "P2P",
         "350",
         "800",
         "Credit card",
         "9",
         "1.99",
         "2.99",
         "3.49"
        ],
        [
         "5",
         "13/04/2021",
         "P2P",
         "3500",
         "0",
         "Credit card",
         "10",
         "1.99",
         "2.99",
         "3.49"
        ],
        [
         "6",
         "24/05/2021",
         "P2P",
         "3420",
         "0",
         "Credit card",
         "7",
         "1.99",
         "2.99",
         "3.49"
        ],
        [
         "7",
         "31/03/2021",
         "BILLS",
         "5000",
         "0",
         "Credit card",
         "12",
         "1.99",
         "2.99",
         "3.49"
        ],
        [
         "8",
         "30/08/2021",
         "P2P",
         "2800",
         "0",
         "Credit card",
         "12",
         "1.99",
         "2.99",
         "3.49"
        ],
        [
         "9",
         "28/08/2021",
         "BILLS",
         "6000",
         "0",
         "Credit card",
         "4",
         "1.99",
         "2.99",
         "3.49"
        ],
        [
         "10",
         "27/09/2021",
         "P2P",
         "8000",
         "0",
         "Credit card",
         "6",
         "1.99",
         "2.99",
         "3.49"
        ]
       ],
       "datasetInfos": [],
       "dbfsResultPath": null,
       "isJsonSchema": true,
       "metadata": {},
       "overflow": false,
       "plotOptions": {
        "customPlotOptions": {},
        "displayType": "table",
        "pivotAggregation": null,
        "pivotColumns": null,
        "xColumns": null,
        "yColumns": null
       },
       "removedWidgets": [],
       "schema": [
        {
         "metadata": "{}",
         "name": "transaction_id",
         "type": "\"string\""
        },
        {
         "metadata": "{}",
         "name": "transaction_date",
         "type": "\"string\""
        },
        {
         "metadata": "{}",
         "name": "transaction_type",
         "type": "\"string\""
        },
        {
         "metadata": "{}",
         "name": "transaction_value",
         "type": "\"string\""
        },
        {
         "metadata": "{}",
         "name": "receiver_used_cc_limit",
         "type": "\"string\""
        },
        {
         "metadata": "{}",
         "name": "payment_method",
         "type": "\"string\""
        },
        {
         "metadata": "{}",
         "name": "installments",
         "type": "\"string\""
        },
        {
         "metadata": "{}",
         "name": "p2p_surcharge_rate",
         "type": "\"string\""
        },
        {
         "metadata": "{}",
         "name": "bills_surcharge_rate",
         "type": "\"string\""
        },
        {
         "metadata": "{}",
         "name": "installment_rate",
         "type": "\"string\""
        }
       ],
       "type": "table"
      }
     },
     "output_type": "display_data"
    }
   ],
   "source": [
    "bronze_path = \"abfss://raw@stcensodados.dfs.core.windows.net/picpay_analytics_case_receitas/transactions.csv\"\n",
    "\n",
    "df_raw = spark.read.option(\"header\", True).option(\"sep\", \";\").csv(bronze_path)\n",
    "\n",
    "display(df_raw)"
   ]
  },
  {
   "cell_type": "markdown",
   "metadata": {
    "application/vnd.databricks.v1+cell": {
     "cellMetadata": {
      "byteLimit": 2048000,
      "rowLimit": 10000
     },
     "inputWidgets": {},
     "nuid": "f7a1cdef-ed6e-43a3-bbdc-ea14fcfe2ae4",
     "showTitle": false,
     "tableResultSettingsMap": {},
     "title": ""
    }
   },
   "source": [
    "- Análise exploratória inicial\n",
    "Antes da fase de transformação, foram inspecionados alguns pontos, tais como a estrutura do dataset, tipos de dados incorretos, campos nulos e avaliar a consistência dos valores."
   ]
  },
  {
   "cell_type": "code",
   "execution_count": 0,
   "metadata": {
    "application/vnd.databricks.v1+cell": {
     "cellMetadata": {
      "byteLimit": 2048000,
      "rowLimit": 10000
     },
     "inputWidgets": {},
     "nuid": "b3cfad6d-91b9-4867-9993-41c027bbedb2",
     "showTitle": false,
     "tableResultSettingsMap": {},
     "title": ""
    }
   },
   "outputs": [
    {
     "output_type": "stream",
     "name": "stdout",
     "output_type": "stream",
     "text": [
      "root\n |-- transaction_id: string (nullable = true)\n |-- transaction_date: string (nullable = true)\n |-- transaction_type: string (nullable = true)\n |-- transaction_value: string (nullable = true)\n |-- receiver_used_cc_limit: string (nullable = true)\n |-- payment_method: string (nullable = true)\n |-- installments: string (nullable = true)\n |-- p2p_surcharge_rate: string (nullable = true)\n |-- bills_surcharge_rate: string (nullable = true)\n |-- installment_rate: string (nullable = true)\n\nTotal de linhas: 10 | Total de colunas: 10\n"
     ]
    }
   ],
   "source": [
    "df_raw.printSchema()\n",
    "\n",
    "print(f\"Total de linhas: {df_raw.count()} | Total de colunas: {len(df_raw.columns)}\")\n"
   ]
  },
  {
   "cell_type": "code",
   "execution_count": 0,
   "metadata": {
    "application/vnd.databricks.v1+cell": {
     "cellMetadata": {
      "byteLimit": 2048000,
      "rowLimit": 10000
     },
     "inputWidgets": {},
     "nuid": "53f21055-60ef-493a-9728-292379d88300",
     "showTitle": false,
     "tableResultSettingsMap": {},
     "title": ""
    }
   },
   "outputs": [
    {
     "output_type": "stream",
     "name": "stdout",
     "output_type": "stream",
     "text": [
      "+-------+-----------------+----------------------+\n|summary|transaction_value|receiver_used_cc_limit|\n+-------+-----------------+----------------------+\n|  count|               10|                    10|\n|   mean|           3132.0|                 170.0|\n| stddev|2599.939315531123|      298.328677803526|\n|    min|             1200|                     0|\n|    max|             8000|                   800|\n+-------+-----------------+----------------------+\n\n"
     ]
    }
   ],
   "source": [
    "# Estatísticas básicas\n",
    "df_raw.describe([\"transaction_value\", \"receiver_used_cc_limit\"]).show()\n"
   ]
  },
  {
   "cell_type": "markdown",
   "metadata": {
    "application/vnd.databricks.v1+cell": {
     "cellMetadata": {
      "byteLimit": 2048000,
      "rowLimit": 10000
     },
     "inputWidgets": {},
     "nuid": "ac1497ff-df2d-4e05-96e3-4f0ab6fa4788",
     "showTitle": false,
     "tableResultSettingsMap": {},
     "title": ""
    }
   },
   "source": [
    "Camada Silver (processed): Conversão e Normalização dos Dados\n",
    "\n",
    "Nesta etapa, os dados da camada Bronze são padronizados para facilitar a aplicação das regras de negócio e análise posterior."
   ]
  },
  {
   "cell_type": "code",
   "execution_count": 0,
   "metadata": {
    "application/vnd.databricks.v1+cell": {
     "cellMetadata": {
      "byteLimit": 2048000,
      "rowLimit": 10000
     },
     "inputWidgets": {},
     "nuid": "5fc02983-e536-429d-96b0-4a55c30bc8ec",
     "showTitle": false,
     "tableResultSettingsMap": {},
     "title": ""
    }
   },
   "outputs": [
    {
     "output_type": "display_data",
     "data": {
      "text/html": [
       "<style scoped>\n",
       "  .table-result-container {\n",
       "    max-height: 300px;\n",
       "    overflow: auto;\n",
       "  }\n",
       "  table, th, td {\n",
       "    border: 1px solid black;\n",
       "    border-collapse: collapse;\n",
       "  }\n",
       "  th, td {\n",
       "    padding: 5px;\n",
       "  }\n",
       "  th {\n",
       "    text-align: left;\n",
       "  }\n",
       "</style><div class='table-result-container'><table class='table-result'><thead style='background-color: white'><tr><th>transaction_id</th><th>transaction_date</th><th>transaction_type</th><th>transaction_value</th><th>receiver_used_cc_limit</th><th>payment_method</th><th>installments</th><th>p2p_surcharge_rate</th><th>bills_surcharge_rate</th><th>installment_rate</th></tr></thead><tbody><tr><td>1</td><td>2021-01-03</td><td>P2P</td><td>400.0</td><td>600.0</td><td>Credit card</td><td>12</td><td>0.0199</td><td>0.029900000000000003</td><td>0.0349</td></tr><tr><td>2</td><td>2021-09-14</td><td>BILLS</td><td>650.0</td><td>300.0</td><td>Credit card</td><td>5</td><td>0.0199</td><td>0.029900000000000003</td><td>0.0349</td></tr><tr><td>3</td><td>2021-07-20</td><td>BILLS</td><td>1200.0</td><td>0.0</td><td>Credit card</td><td>8</td><td>0.0199</td><td>0.029900000000000003</td><td>0.0349</td></tr><tr><td>4</td><td>2021-08-06</td><td>P2P</td><td>350.0</td><td>800.0</td><td>Credit card</td><td>9</td><td>0.0199</td><td>0.029900000000000003</td><td>0.0349</td></tr><tr><td>5</td><td>2021-04-13</td><td>P2P</td><td>3500.0</td><td>0.0</td><td>Credit card</td><td>10</td><td>0.0199</td><td>0.029900000000000003</td><td>0.0349</td></tr><tr><td>6</td><td>2021-05-24</td><td>P2P</td><td>3420.0</td><td>0.0</td><td>Credit card</td><td>7</td><td>0.0199</td><td>0.029900000000000003</td><td>0.0349</td></tr><tr><td>7</td><td>2021-03-31</td><td>BILLS</td><td>5000.0</td><td>0.0</td><td>Credit card</td><td>12</td><td>0.0199</td><td>0.029900000000000003</td><td>0.0349</td></tr><tr><td>8</td><td>2021-08-30</td><td>P2P</td><td>2800.0</td><td>0.0</td><td>Credit card</td><td>12</td><td>0.0199</td><td>0.029900000000000003</td><td>0.0349</td></tr><tr><td>9</td><td>2021-08-28</td><td>BILLS</td><td>6000.0</td><td>0.0</td><td>Credit card</td><td>4</td><td>0.0199</td><td>0.029900000000000003</td><td>0.0349</td></tr><tr><td>10</td><td>2021-09-27</td><td>P2P</td><td>8000.0</td><td>0.0</td><td>Credit card</td><td>6</td><td>0.0199</td><td>0.029900000000000003</td><td>0.0349</td></tr></tbody></table></div>"
      ]
     },
     "metadata": {
      "application/vnd.databricks.v1+output": {
       "addedWidgets": {},
       "aggData": [],
       "aggError": "",
       "aggOverflow": false,
       "aggSchema": [],
       "aggSeriesLimitReached": false,
       "aggType": "",
       "arguments": {},
       "columnCustomDisplayInfos": {},
       "data": [
        [
         "1",
         "2021-01-03",
         "P2P",
         400.0,
         600.0,
         "Credit card",
         12,
         0.0199,
         0.029900000000000003,
         0.0349
        ],
        [
         "2",
         "2021-09-14",
         "BILLS",
         650.0,
         300.0,
         "Credit card",
         5,
         0.0199,
         0.029900000000000003,
         0.0349
        ],
        [
         "3",
         "2021-07-20",
         "BILLS",
         1200.0,
         0.0,
         "Credit card",
         8,
         0.0199,
         0.029900000000000003,
         0.0349
        ],
        [
         "4",
         "2021-08-06",
         "P2P",
         350.0,
         800.0,
         "Credit card",
         9,
         0.0199,
         0.029900000000000003,
         0.0349
        ],
        [
         "5",
         "2021-04-13",
         "P2P",
         3500.0,
         0.0,
         "Credit card",
         10,
         0.0199,
         0.029900000000000003,
         0.0349
        ],
        [
         "6",
         "2021-05-24",
         "P2P",
         3420.0,
         0.0,
         "Credit card",
         7,
         0.0199,
         0.029900000000000003,
         0.0349
        ],
        [
         "7",
         "2021-03-31",
         "BILLS",
         5000.0,
         0.0,
         "Credit card",
         12,
         0.0199,
         0.029900000000000003,
         0.0349
        ],
        [
         "8",
         "2021-08-30",
         "P2P",
         2800.0,
         0.0,
         "Credit card",
         12,
         0.0199,
         0.029900000000000003,
         0.0349
        ],
        [
         "9",
         "2021-08-28",
         "BILLS",
         6000.0,
         0.0,
         "Credit card",
         4,
         0.0199,
         0.029900000000000003,
         0.0349
        ],
        [
         "10",
         "2021-09-27",
         "P2P",
         8000.0,
         0.0,
         "Credit card",
         6,
         0.0199,
         0.029900000000000003,
         0.0349
        ]
       ],
       "datasetInfos": [],
       "dbfsResultPath": null,
       "isJsonSchema": true,
       "metadata": {},
       "overflow": false,
       "plotOptions": {
        "customPlotOptions": {},
        "displayType": "table",
        "pivotAggregation": null,
        "pivotColumns": null,
        "xColumns": null,
        "yColumns": null
       },
       "removedWidgets": [],
       "schema": [
        {
         "metadata": "{}",
         "name": "transaction_id",
         "type": "\"string\""
        },
        {
         "metadata": "{}",
         "name": "transaction_date",
         "type": "\"date\""
        },
        {
         "metadata": "{}",
         "name": "transaction_type",
         "type": "\"string\""
        },
        {
         "metadata": "{}",
         "name": "transaction_value",
         "type": "\"double\""
        },
        {
         "metadata": "{}",
         "name": "receiver_used_cc_limit",
         "type": "\"double\""
        },
        {
         "metadata": "{}",
         "name": "payment_method",
         "type": "\"string\""
        },
        {
         "metadata": "{}",
         "name": "installments",
         "type": "\"integer\""
        },
        {
         "metadata": "{}",
         "name": "p2p_surcharge_rate",
         "type": "\"double\""
        },
        {
         "metadata": "{}",
         "name": "bills_surcharge_rate",
         "type": "\"double\""
        },
        {
         "metadata": "{}",
         "name": "installment_rate",
         "type": "\"double\""
        }
       ],
       "type": "table"
      }
     },
     "output_type": "display_data"
    }
   ],
   "source": [
    "from pyspark.sql.functions import col, to_date, trim\n",
    "\n",
    "df_silver = df_raw \\\n",
    "    .filter(col(\"transaction_type\") != \"\") \\\n",
    "    .withColumn(\"transaction_date\", to_date(\"transaction_date\", \"dd/MM/yyyy\")) \\\n",
    "    .withColumn(\"transaction_value\", col(\"transaction_value\").cast(\"double\")) \\\n",
    "    .withColumn(\"receiver_used_cc_limit\", col(\"receiver_used_cc_limit\").cast(\"double\")) \\\n",
    "    .withColumn(\"installments\", col(\"installments\").cast(\"int\")) \\\n",
    "    .withColumn(\"p2p_surcharge_rate\", col(\"p2p_surcharge_rate\").cast(\"double\") / 100) \\\n",
    "    .withColumn(\"bills_surcharge_rate\", col(\"bills_surcharge_rate\").cast(\"double\") / 100) \\\n",
    "    .withColumn(\"installment_rate\", col(\"installment_rate\").cast(\"double\") / 100) \\\n",
    "    .withColumn(\"transaction_type\", trim(col(\"transaction_type\"))) \\\n",
    "    .withColumn(\"payment_method\", trim(col(\"payment_method\")))\n",
    "\n",
    "silver_path = \"abfss://processed@stcensodados.dfs.core.windows.net/picpay_analytics_case_receitas/transactions_silver\"\n",
    "df_silver.write.format(\"delta\").mode(\"overwrite\").save(silver_path)\n",
    "\n",
    "df_silver.write \\\n",
    "    .option(\"header\", True) \\\n",
    "    .mode(\"overwrite\") \\\n",
    "    .csv(\"abfss://processed@stcensodados.dfs.core.windows.net/\"\n",
    "         \"picpay_analytics_case_receitas/transctions_processed.csv\")\n",
    "\n",
    "display(df_silver)"
   ]
  },
  {
   "cell_type": "markdown",
   "metadata": {
    "application/vnd.databricks.v1+cell": {
     "cellMetadata": {
      "byteLimit": 2048000,
      "rowLimit": 10000
     },
     "inputWidgets": {},
     "nuid": "254567a1-a453-4c7d-a8e4-60c73a9e08d1",
     "showTitle": false,
     "tableResultSettingsMap": {},
     "title": ""
    }
   },
   "source": [
    "Valor da taxa adicional para transações P2P\n",
    "\n",
    "Esta etapa aplica a regra de negócio definida para transações do tipo P2P, onde é cobrada uma taxa de 1,99% sobre o valor excedente a R$800, por recebedor, considerando o total de recebimentos via cartão de crédito no mês.\n",
    "\n",
    "O resultado será armazenado em uma nova coluna chamada `p2p_surcharge`.\n"
   ]
  },
  {
   "cell_type": "code",
   "execution_count": 0,
   "metadata": {
    "application/vnd.databricks.v1+cell": {
     "cellMetadata": {
      "byteLimit": 2048000,
      "rowLimit": 10000
     },
     "inputWidgets": {},
     "nuid": "74f72aa3-05d0-45a7-a0d3-652041e882c3",
     "showTitle": false,
     "tableResultSettingsMap": {},
     "title": ""
    }
   },
   "outputs": [
    {
     "output_type": "display_data",
     "data": {
      "text/html": [
       "<style scoped>\n",
       "  .table-result-container {\n",
       "    max-height: 300px;\n",
       "    overflow: auto;\n",
       "  }\n",
       "  table, th, td {\n",
       "    border: 1px solid black;\n",
       "    border-collapse: collapse;\n",
       "  }\n",
       "  th, td {\n",
       "    padding: 5px;\n",
       "  }\n",
       "  th {\n",
       "    text-align: left;\n",
       "  }\n",
       "</style><div class='table-result-container'><table class='table-result'><thead style='background-color: white'><tr><th>transaction_id</th><th>receiver_used_cc_limit</th><th>transaction_value</th><th>p2p_surcharge_rate</th><th>p2p_surcharge</th></tr></thead><tbody><tr><td>1</td><td>600.0</td><td>400.0</td><td>0.0199</td><td>3.98</td></tr><tr><td>2</td><td>300.0</td><td>650.0</td><td>0.0199</td><td>0.0</td></tr><tr><td>3</td><td>0.0</td><td>1200.0</td><td>0.0199</td><td>0.0</td></tr><tr><td>4</td><td>800.0</td><td>350.0</td><td>0.0199</td><td>6.97</td></tr><tr><td>5</td><td>0.0</td><td>3500.0</td><td>0.0199</td><td>53.73</td></tr><tr><td>6</td><td>0.0</td><td>3420.0</td><td>0.0199</td><td>52.14</td></tr><tr><td>7</td><td>0.0</td><td>5000.0</td><td>0.0199</td><td>0.0</td></tr><tr><td>8</td><td>0.0</td><td>2800.0</td><td>0.0199</td><td>39.8</td></tr><tr><td>9</td><td>0.0</td><td>6000.0</td><td>0.0199</td><td>0.0</td></tr><tr><td>10</td><td>0.0</td><td>8000.0</td><td>0.0199</td><td>143.28</td></tr></tbody></table></div>"
      ]
     },
     "metadata": {
      "application/vnd.databricks.v1+output": {
       "addedWidgets": {},
       "aggData": [],
       "aggError": "",
       "aggOverflow": false,
       "aggSchema": [],
       "aggSeriesLimitReached": false,
       "aggType": "",
       "arguments": {},
       "columnCustomDisplayInfos": {},
       "data": [
        [
         "1",
         600.0,
         400.0,
         0.0199,
         3.98
        ],
        [
         "2",
         300.0,
         650.0,
         0.0199,
         0.0
        ],
        [
         "3",
         0.0,
         1200.0,
         0.0199,
         0.0
        ],
        [
         "4",
         800.0,
         350.0,
         0.0199,
         6.97
        ],
        [
         "5",
         0.0,
         3500.0,
         0.0199,
         53.73
        ],
        [
         "6",
         0.0,
         3420.0,
         0.0199,
         52.14
        ],
        [
         "7",
         0.0,
         5000.0,
         0.0199,
         0.0
        ],
        [
         "8",
         0.0,
         2800.0,
         0.0199,
         39.8
        ],
        [
         "9",
         0.0,
         6000.0,
         0.0199,
         0.0
        ],
        [
         "10",
         0.0,
         8000.0,
         0.0199,
         143.28
        ]
       ],
       "datasetInfos": [],
       "dbfsResultPath": null,
       "isJsonSchema": true,
       "metadata": {},
       "overflow": false,
       "plotOptions": {
        "customPlotOptions": {},
        "displayType": "table",
        "pivotAggregation": null,
        "pivotColumns": null,
        "xColumns": null,
        "yColumns": null
       },
       "removedWidgets": [],
       "schema": [
        {
         "metadata": "{}",
         "name": "transaction_id",
         "type": "\"string\""
        },
        {
         "metadata": "{}",
         "name": "receiver_used_cc_limit",
         "type": "\"double\""
        },
        {
         "metadata": "{}",
         "name": "transaction_value",
         "type": "\"double\""
        },
        {
         "metadata": "{}",
         "name": "p2p_surcharge_rate",
         "type": "\"double\""
        },
        {
         "metadata": "{}",
         "name": "p2p_surcharge",
         "type": "\"double\""
        }
       ],
       "type": "table"
      }
     },
     "output_type": "display_data"
    }
   ],
   "source": [
    "from pyspark.sql import functions as F\n",
    "from pyspark.sql import Window\n",
    "\n",
    "LIMITE_P2P = 800\n",
    "\n",
    "df_silver = df_silver.withColumn(\n",
    "    \"p2p_surcharge\",\n",
    "    F.round(\n",
    "      F.when(\n",
    "        (F.col(\"transaction_type\") == \"P2P\") &\n",
    "        (F.col(\"payment_method\")    == \"Credit card\"),\n",
    "        F.least(\n",
    "          F.greatest(\n",
    "            F.col(\"receiver_used_cc_limit\") + F.col(\"transaction_value\") - LIMITE_P2P,\n",
    "            F.lit(0.0)\n",
    "          ),\n",
    "          F.col(\"transaction_value\")\n",
    "        )\n",
    "        * F.col(\"p2p_surcharge_rate\")\n",
    "      )\n",
    "      .otherwise(0.0),\n",
    "      2\n",
    "    )\n",
    ")\n",
    "\n",
    "display(df_silver.select(\n",
    "  \"transaction_id\",\"receiver_used_cc_limit\",\"transaction_value\",\n",
    "  \"p2p_surcharge_rate\",\"p2p_surcharge\"\n",
    "))\n"
   ]
  },
  {
   "cell_type": "markdown",
   "metadata": {
    "application/vnd.databricks.v1+cell": {
     "cellMetadata": {
      "byteLimit": 2048000,
      "rowLimit": 10000
     },
     "inputWidgets": {},
     "nuid": "101b8d04-07e4-45ac-9463-a17957799a63",
     "showTitle": false,
     "tableResultSettingsMap": {},
     "title": ""
    }
   },
   "source": [
    "\n",
    "Valor da taxa adicional para transações BILLS\n",
    "\n",
    "Para transações do tipo `BILLS` pagas com cartão de crédito, é aplicada uma taxa fixa de 2,99% sobre o valor da transação.\n",
    "\n",
    "Caso o pagamento tenha sido parcelado (coluna `installments` > 1), é aplicado também juros compostos mensais de 3,49%, com base na Tabela Price.\n",
    "\n",
    "O valor da transação é ajustado com a taxa fixa antes do cálculo dos juros.\n",
    "\n"
   ]
  },
  {
   "cell_type": "code",
   "execution_count": 0,
   "metadata": {
    "application/vnd.databricks.v1+cell": {
     "cellMetadata": {
      "byteLimit": 2048000,
      "rowLimit": 10000
     },
     "inputWidgets": {},
     "nuid": "700482e2-cedb-4ae5-8bc2-8b7e51798983",
     "showTitle": false,
     "tableResultSettingsMap": {},
     "title": ""
    }
   },
   "outputs": [
    {
     "output_type": "display_data",
     "data": {
      "text/html": [
       "<style scoped>\n",
       "  .table-result-container {\n",
       "    max-height: 300px;\n",
       "    overflow: auto;\n",
       "  }\n",
       "  table, th, td {\n",
       "    border: 1px solid black;\n",
       "    border-collapse: collapse;\n",
       "  }\n",
       "  th, td {\n",
       "    padding: 5px;\n",
       "  }\n",
       "  th {\n",
       "    text-align: left;\n",
       "  }\n",
       "</style><div class='table-result-container'><table class='table-result'><thead style='background-color: white'><tr><th>transaction_id</th><th>transaction_type</th><th>transaction_value</th><th>bills_surcharge_rate</th><th>bills_surcharge</th><th>principal_after_fee</th></tr></thead><tbody><tr><td>1</td><td>P2P</td><td>400.0</td><td>0.029900000000000003</td><td>0.0</td><td>403.98</td></tr><tr><td>2</td><td>BILLS</td><td>650.0</td><td>0.029900000000000003</td><td>19.44</td><td>669.44</td></tr><tr><td>3</td><td>BILLS</td><td>1200.0</td><td>0.029900000000000003</td><td>35.88</td><td>1235.88</td></tr><tr><td>4</td><td>P2P</td><td>350.0</td><td>0.029900000000000003</td><td>0.0</td><td>356.97</td></tr><tr><td>5</td><td>P2P</td><td>3500.0</td><td>0.029900000000000003</td><td>0.0</td><td>3553.73</td></tr><tr><td>6</td><td>P2P</td><td>3420.0</td><td>0.029900000000000003</td><td>0.0</td><td>3472.14</td></tr><tr><td>7</td><td>BILLS</td><td>5000.0</td><td>0.029900000000000003</td><td>149.5</td><td>5149.5</td></tr><tr><td>8</td><td>P2P</td><td>2800.0</td><td>0.029900000000000003</td><td>0.0</td><td>2839.8</td></tr><tr><td>9</td><td>BILLS</td><td>6000.0</td><td>0.029900000000000003</td><td>179.4</td><td>6179.4</td></tr><tr><td>10</td><td>P2P</td><td>8000.0</td><td>0.029900000000000003</td><td>0.0</td><td>8143.28</td></tr></tbody></table></div>"
      ]
     },
     "metadata": {
      "application/vnd.databricks.v1+output": {
       "addedWidgets": {},
       "aggData": [],
       "aggError": "",
       "aggOverflow": false,
       "aggSchema": [],
       "aggSeriesLimitReached": false,
       "aggType": "",
       "arguments": {},
       "columnCustomDisplayInfos": {},
       "data": [
        [
         "1",
         "P2P",
         400.0,
         0.029900000000000003,
         0.0,
         403.98
        ],
        [
         "2",
         "BILLS",
         650.0,
         0.029900000000000003,
         19.44,
         669.44
        ],
        [
         "3",
         "BILLS",
         1200.0,
         0.029900000000000003,
         35.88,
         1235.88
        ],
        [
         "4",
         "P2P",
         350.0,
         0.029900000000000003,
         0.0,
         356.97
        ],
        [
         "5",
         "P2P",
         3500.0,
         0.029900000000000003,
         0.0,
         3553.73
        ],
        [
         "6",
         "P2P",
         3420.0,
         0.029900000000000003,
         0.0,
         3472.14
        ],
        [
         "7",
         "BILLS",
         5000.0,
         0.029900000000000003,
         149.5,
         5149.5
        ],
        [
         "8",
         "P2P",
         2800.0,
         0.029900000000000003,
         0.0,
         2839.8
        ],
        [
         "9",
         "BILLS",
         6000.0,
         0.029900000000000003,
         179.4,
         6179.4
        ],
        [
         "10",
         "P2P",
         8000.0,
         0.029900000000000003,
         0.0,
         8143.28
        ]
       ],
       "datasetInfos": [],
       "dbfsResultPath": null,
       "isJsonSchema": true,
       "metadata": {},
       "overflow": false,
       "plotOptions": {
        "customPlotOptions": {},
        "displayType": "table",
        "pivotAggregation": null,
        "pivotColumns": null,
        "xColumns": null,
        "yColumns": null
       },
       "removedWidgets": [],
       "schema": [
        {
         "metadata": "{}",
         "name": "transaction_id",
         "type": "\"string\""
        },
        {
         "metadata": "{}",
         "name": "transaction_type",
         "type": "\"string\""
        },
        {
         "metadata": "{}",
         "name": "transaction_value",
         "type": "\"double\""
        },
        {
         "metadata": "{}",
         "name": "bills_surcharge_rate",
         "type": "\"double\""
        },
        {
         "metadata": "{}",
         "name": "bills_surcharge",
         "type": "\"double\""
        },
        {
         "metadata": "{}",
         "name": "principal_after_fee",
         "type": "\"double\""
        }
       ],
       "type": "table"
      }
     },
     "output_type": "display_data"
    }
   ],
   "source": [
    "# Cálculo da taxa BILLS\n",
    "from pyspark.sql import functions as F\n",
    "\n",
    "# Taxa BILLS: 2,99% sobre o valor da transação\n",
    "df_silver = df_silver.withColumn(\n",
    "    \"bills_surcharge\",\n",
    "    F.round(\n",
    "        F.when(\n",
    "            (F.col(\"transaction_type\") == \"BILLS\") &\n",
    "            (F.col(\"payment_method\")    == \"Credit card\"),\n",
    "            F.col(\"transaction_value\") * F.col(\"bills_surcharge_rate\")\n",
    "        )\n",
    "        .otherwise(0.0),\n",
    "        2\n",
    "    )\n",
    ")\n",
    "\n",
    "# Value principal ajustado incluindo surcharge\n",
    "df_silver = df_silver.withColumn(\n",
    "    \"principal_after_fee\",\n",
    "    F.col(\"transaction_value\")\n",
    "    + F.when(F.col(\"transaction_type\") == \"P2P\", F.col(\"p2p_surcharge\"))\n",
    "       .otherwise(F.col(\"bills_surcharge\"))\n",
    ")\n",
    "\n",
    "\n",
    "display(df_silver.select(\n",
    "    \"transaction_id\",\"transaction_type\",\"transaction_value\",\n",
    "    \"bills_surcharge_rate\",\"bills_surcharge\",\"principal_after_fee\"\n",
    "))\n"
   ]
  },
  {
   "cell_type": "markdown",
   "metadata": {
    "application/vnd.databricks.v1+cell": {
     "cellMetadata": {
      "byteLimit": 2048000,
      "rowLimit": 10000
     },
     "inputWidgets": {},
     "nuid": "29535d9d-9fb2-4c5b-9b05-b30adf08d1e3",
     "showTitle": false,
     "tableResultSettingsMap": {},
     "title": ""
    }
   },
   "source": [
    "Prestação fixa (Tabela Price)"
   ]
  },
  {
   "cell_type": "code",
   "execution_count": 0,
   "metadata": {
    "application/vnd.databricks.v1+cell": {
     "cellMetadata": {
      "byteLimit": 2048000,
      "rowLimit": 10000
     },
     "inputWidgets": {},
     "nuid": "35aadfd1-1104-4d6f-baf9-1dee41500576",
     "showTitle": false,
     "tableResultSettingsMap": {},
     "title": ""
    }
   },
   "outputs": [
    {
     "output_type": "display_data",
     "data": {
      "text/html": [
       "<style scoped>\n",
       "  .table-result-container {\n",
       "    max-height: 300px;\n",
       "    overflow: auto;\n",
       "  }\n",
       "  table, th, td {\n",
       "    border: 1px solid black;\n",
       "    border-collapse: collapse;\n",
       "  }\n",
       "  th, td {\n",
       "    padding: 5px;\n",
       "  }\n",
       "  th {\n",
       "    text-align: left;\n",
       "  }\n",
       "</style><div class='table-result-container'><table class='table-result'><thead style='background-color: white'><tr><th>transaction_id</th><th>installments</th><th>principal_after_fee</th><th>due_amount</th></tr></thead><tbody><tr><td>2</td><td>5</td><td>669.44</td><td>148.23</td></tr><tr><td>3</td><td>8</td><td>1235.88</td><td>179.72</td></tr><tr><td>7</td><td>12</td><td>5149.5</td><td>532.58</td></tr><tr><td>9</td><td>4</td><td>6179.4</td><td>1681.95</td></tr></tbody></table></div>"
      ]
     },
     "metadata": {
      "application/vnd.databricks.v1+output": {
       "addedWidgets": {},
       "aggData": [],
       "aggError": "",
       "aggOverflow": false,
       "aggSchema": [],
       "aggSeriesLimitReached": false,
       "aggType": "",
       "arguments": {},
       "columnCustomDisplayInfos": {},
       "data": [
        [
         "2",
         5,
         669.44,
         148.23
        ],
        [
         "3",
         8,
         1235.88,
         179.72
        ],
        [
         "7",
         12,
         5149.5,
         532.58
        ],
        [
         "9",
         4,
         6179.4,
         1681.95
        ]
       ],
       "datasetInfos": [],
       "dbfsResultPath": null,
       "isJsonSchema": true,
       "metadata": {},
       "overflow": false,
       "plotOptions": {
        "customPlotOptions": {},
        "displayType": "table",
        "pivotAggregation": null,
        "pivotColumns": null,
        "xColumns": null,
        "yColumns": null
       },
       "removedWidgets": [],
       "schema": [
        {
         "metadata": "{}",
         "name": "transaction_id",
         "type": "\"string\""
        },
        {
         "metadata": "{}",
         "name": "installments",
         "type": "\"integer\""
        },
        {
         "metadata": "{}",
         "name": "principal_after_fee",
         "type": "\"double\""
        },
        {
         "metadata": "{}",
         "name": "due_amount",
         "type": "\"double\""
        }
       ],
       "type": "table"
      }
     },
     "output_type": "display_data"
    }
   ],
   "source": [
    "from pyspark.sql import functions as F\n",
    "\n",
    "monthly_rate = 0.0349\n",
    "\n",
    "df_silver = df_silver.withColumn(\n",
    "    \"due_amount\",\n",
    "    F.round(\n",
    "        F.when(F.col(\"installments\") > 1,\n",
    "            # Price: P = S0 * [j / (1 - (1+j)^(-n))]\n",
    "            F.col(\"principal_after_fee\")\n",
    "            * (monthly_rate /\n",
    "               (1 - F.pow(F.lit(1 + monthly_rate), -F.col(\"installments\"))))\n",
    "        )\n",
    "        .otherwise(F.col(\"principal_after_fee\")),  # à vista: parcela = principal\n",
    "        2\n",
    "    )\n",
    ")\n",
    "\n",
    "display(df_silver.filter(\"transaction_type='BILLS'\") \\\n",
    "    .select(\"transaction_id\",\"installments\",\"principal_after_fee\",\"due_amount\"))\n"
   ]
  },
  {
   "cell_type": "markdown",
   "metadata": {
    "application/vnd.databricks.v1+cell": {
     "cellMetadata": {
      "byteLimit": 2048000,
      "rowLimit": 10000
     },
     "inputWidgets": {},
     "nuid": "d49141c4-def5-445c-a023-d7e41fdc2d6a",
     "showTitle": false,
     "tableResultSettingsMap": {},
     "title": ""
    }
   },
   "source": [
    "Calculo de installment_fee e individual_installment para fechar o df_transactions"
   ]
  },
  {
   "cell_type": "code",
   "execution_count": 0,
   "metadata": {
    "application/vnd.databricks.v1+cell": {
     "cellMetadata": {
      "byteLimit": 2048000,
      "rowLimit": 10000
     },
     "inputWidgets": {},
     "nuid": "e1765cf8-18f7-4049-aff5-9275304e656d",
     "showTitle": false,
     "tableResultSettingsMap": {},
     "title": ""
    }
   },
   "outputs": [
    {
     "output_type": "stream",
     "name": "stdout",
     "output_type": "stream",
     "text": [
      "+--------------+------------+-------------------+----------+---------------+----------------------+\n|transaction_id|installments|principal_after_fee|due_amount|installment_fee|individual_installment|\n+--------------+------------+-------------------+----------+---------------+----------------------+\n|1             |12          |403.98             |41.78     |97.38          |41.78                 |\n|10            |6           |8143.28            |1527.73   |1023.1         |1527.73               |\n|2             |5           |669.44             |148.23    |71.71          |148.23                |\n|3             |8           |1235.88            |179.72    |201.88         |179.72                |\n|4             |9           |356.97             |46.9      |65.13          |46.9                  |\n|5             |10          |3553.73            |427.09    |717.17         |427.09                |\n|6             |7           |3472.14            |567.64    |501.34         |567.64                |\n|7             |12          |5149.5             |532.58    |1241.46        |532.58                |\n|8             |12          |2839.8             |293.7     |684.6          |293.7                 |\n|9             |4           |6179.4             |1681.95   |548.4          |1681.95               |\n+--------------+------------+-------------------+----------+---------------+----------------------+\n\n"
     ]
    }
   ],
   "source": [
    "from pyspark.sql import functions as F\n",
    "\n",
    "# 4) Calcular installment_fee e individual_installment\n",
    "df_silver = df_silver \\\n",
    "    .withColumn(\n",
    "        \"installment_fee\",\n",
    "        F.round(\n",
    "            F.when(F.col(\"installments\") > 1,\n",
    "                   F.col(\"due_amount\") * F.col(\"installments\") - F.col(\"principal_after_fee\")\n",
    "            ).otherwise(0.0),\n",
    "            2\n",
    "        )\n",
    "    ) \\\n",
    "    .withColumn(\n",
    "        \"individual_installment\",\n",
    "        F.col(\"due_amount\")\n",
    "    )\n",
    "\n",
    "# Exibir resultado para os IDs que têm parcelamento\n",
    "df_silver.filter(F.col(\"installments\") > 1) \\\n",
    "    .select(\n",
    "        \"transaction_id\",\n",
    "        \"installments\",\n",
    "        \"principal_after_fee\",\n",
    "        \"due_amount\",\n",
    "        \"installment_fee\",\n",
    "        \"individual_installment\"\n",
    "    ) \\\n",
    "    .orderBy(\"transaction_id\") \\\n",
    "    .show(10, False)\n"
   ]
  },
  {
   "cell_type": "code",
   "execution_count": 0,
   "metadata": {
    "application/vnd.databricks.v1+cell": {
     "cellMetadata": {
      "byteLimit": 2048000,
      "rowLimit": 10000
     },
     "inputWidgets": {},
     "nuid": "8c3a81a5-dbf0-41b5-9cf5-bdc39371dbff",
     "showTitle": false,
     "tableResultSettingsMap": {},
     "title": ""
    }
   },
   "outputs": [
    {
     "output_type": "display_data",
     "data": {
      "text/html": [
       "<style scoped>\n",
       "  .table-result-container {\n",
       "    max-height: 300px;\n",
       "    overflow: auto;\n",
       "  }\n",
       "  table, th, td {\n",
       "    border: 1px solid black;\n",
       "    border-collapse: collapse;\n",
       "  }\n",
       "  th, td {\n",
       "    padding: 5px;\n",
       "  }\n",
       "  th {\n",
       "    text-align: left;\n",
       "  }\n",
       "</style><div class='table-result-container'><table class='table-result'><thead style='background-color: white'><tr><th>transaction_id</th><th>transaction_date</th><th>transaction_type</th><th>transaction_value</th><th>receiver_used_cc_limit</th><th>payment_method</th><th>installments</th><th>p2p_surcharge_rate</th><th>bills_surcharge_rate</th><th>installment_rate</th><th>p2p_surcharge</th><th>bill_surcharge</th><th>surcharged_transaction_value</th><th>installment_fee</th><th>individual_installment</th></tr></thead><tbody><tr><td>1</td><td>2021-01-03</td><td>P2P</td><td>400.0</td><td>600.0</td><td>Credit card</td><td>12</td><td>0.0199</td><td>0.029900000000000003</td><td>0.0349</td><td>3.98</td><td>0.0</td><td>403.98</td><td>97.38</td><td>41.78</td></tr><tr><td>2</td><td>2021-09-14</td><td>BILLS</td><td>650.0</td><td>300.0</td><td>Credit card</td><td>5</td><td>0.0199</td><td>0.029900000000000003</td><td>0.0349</td><td>0.0</td><td>19.44</td><td>669.44</td><td>71.71</td><td>148.23</td></tr><tr><td>3</td><td>2021-07-20</td><td>BILLS</td><td>1200.0</td><td>0.0</td><td>Credit card</td><td>8</td><td>0.0199</td><td>0.029900000000000003</td><td>0.0349</td><td>0.0</td><td>35.88</td><td>1235.88</td><td>201.88</td><td>179.72</td></tr><tr><td>4</td><td>2021-08-06</td><td>P2P</td><td>350.0</td><td>800.0</td><td>Credit card</td><td>9</td><td>0.0199</td><td>0.029900000000000003</td><td>0.0349</td><td>6.97</td><td>0.0</td><td>356.97</td><td>65.13</td><td>46.9</td></tr><tr><td>5</td><td>2021-04-13</td><td>P2P</td><td>3500.0</td><td>0.0</td><td>Credit card</td><td>10</td><td>0.0199</td><td>0.029900000000000003</td><td>0.0349</td><td>53.73</td><td>0.0</td><td>3553.73</td><td>717.17</td><td>427.09</td></tr><tr><td>6</td><td>2021-05-24</td><td>P2P</td><td>3420.0</td><td>0.0</td><td>Credit card</td><td>7</td><td>0.0199</td><td>0.029900000000000003</td><td>0.0349</td><td>52.14</td><td>0.0</td><td>3472.14</td><td>501.34</td><td>567.64</td></tr><tr><td>7</td><td>2021-03-31</td><td>BILLS</td><td>5000.0</td><td>0.0</td><td>Credit card</td><td>12</td><td>0.0199</td><td>0.029900000000000003</td><td>0.0349</td><td>0.0</td><td>149.5</td><td>5149.5</td><td>1241.46</td><td>532.58</td></tr><tr><td>8</td><td>2021-08-30</td><td>P2P</td><td>2800.0</td><td>0.0</td><td>Credit card</td><td>12</td><td>0.0199</td><td>0.029900000000000003</td><td>0.0349</td><td>39.8</td><td>0.0</td><td>2839.8</td><td>684.6</td><td>293.7</td></tr><tr><td>9</td><td>2021-08-28</td><td>BILLS</td><td>6000.0</td><td>0.0</td><td>Credit card</td><td>4</td><td>0.0199</td><td>0.029900000000000003</td><td>0.0349</td><td>0.0</td><td>179.4</td><td>6179.4</td><td>548.4</td><td>1681.95</td></tr><tr><td>10</td><td>2021-09-27</td><td>P2P</td><td>8000.0</td><td>0.0</td><td>Credit card</td><td>6</td><td>0.0199</td><td>0.029900000000000003</td><td>0.0349</td><td>143.28</td><td>0.0</td><td>8143.28</td><td>1023.1</td><td>1527.73</td></tr></tbody></table></div>"
      ]
     },
     "metadata": {
      "application/vnd.databricks.v1+output": {
       "addedWidgets": {},
       "aggData": [],
       "aggError": "",
       "aggOverflow": false,
       "aggSchema": [],
       "aggSeriesLimitReached": false,
       "aggType": "",
       "arguments": {},
       "columnCustomDisplayInfos": {},
       "data": [
        [
         "1",
         "2021-01-03",
         "P2P",
         400.0,
         600.0,
         "Credit card",
         12,
         0.0199,
         0.029900000000000003,
         0.0349,
         3.98,
         0.0,
         403.98,
         97.38,
         41.78
        ],
        [
         "2",
         "2021-09-14",
         "BILLS",
         650.0,
         300.0,
         "Credit card",
         5,
         0.0199,
         0.029900000000000003,
         0.0349,
         0.0,
         19.44,
         669.44,
         71.71,
         148.23
        ],
        [
         "3",
         "2021-07-20",
         "BILLS",
         1200.0,
         0.0,
         "Credit card",
         8,
         0.0199,
         0.029900000000000003,
         0.0349,
         0.0,
         35.88,
         1235.88,
         201.88,
         179.72
        ],
        [
         "4",
         "2021-08-06",
         "P2P",
         350.0,
         800.0,
         "Credit card",
         9,
         0.0199,
         0.029900000000000003,
         0.0349,
         6.97,
         0.0,
         356.97,
         65.13,
         46.9
        ],
        [
         "5",
         "2021-04-13",
         "P2P",
         3500.0,
         0.0,
         "Credit card",
         10,
         0.0199,
         0.029900000000000003,
         0.0349,
         53.73,
         0.0,
         3553.73,
         717.17,
         427.09
        ],
        [
         "6",
         "2021-05-24",
         "P2P",
         3420.0,
         0.0,
         "Credit card",
         7,
         0.0199,
         0.029900000000000003,
         0.0349,
         52.14,
         0.0,
         3472.14,
         501.34,
         567.64
        ],
        [
         "7",
         "2021-03-31",
         "BILLS",
         5000.0,
         0.0,
         "Credit card",
         12,
         0.0199,
         0.029900000000000003,
         0.0349,
         0.0,
         149.5,
         5149.5,
         1241.46,
         532.58
        ],
        [
         "8",
         "2021-08-30",
         "P2P",
         2800.0,
         0.0,
         "Credit card",
         12,
         0.0199,
         0.029900000000000003,
         0.0349,
         39.8,
         0.0,
         2839.8,
         684.6,
         293.7
        ],
        [
         "9",
         "2021-08-28",
         "BILLS",
         6000.0,
         0.0,
         "Credit card",
         4,
         0.0199,
         0.029900000000000003,
         0.0349,
         0.0,
         179.4,
         6179.4,
         548.4,
         1681.95
        ],
        [
         "10",
         "2021-09-27",
         "P2P",
         8000.0,
         0.0,
         "Credit card",
         6,
         0.0199,
         0.029900000000000003,
         0.0349,
         143.28,
         0.0,
         8143.28,
         1023.1,
         1527.73
        ]
       ],
       "datasetInfos": [],
       "dbfsResultPath": null,
       "isJsonSchema": true,
       "metadata": {},
       "overflow": false,
       "plotOptions": {
        "customPlotOptions": {},
        "displayType": "table",
        "pivotAggregation": null,
        "pivotColumns": null,
        "xColumns": null,
        "yColumns": null
       },
       "removedWidgets": [],
       "schema": [
        {
         "metadata": "{}",
         "name": "transaction_id",
         "type": "\"string\""
        },
        {
         "metadata": "{}",
         "name": "transaction_date",
         "type": "\"date\""
        },
        {
         "metadata": "{}",
         "name": "transaction_type",
         "type": "\"string\""
        },
        {
         "metadata": "{}",
         "name": "transaction_value",
         "type": "\"double\""
        },
        {
         "metadata": "{}",
         "name": "receiver_used_cc_limit",
         "type": "\"double\""
        },
        {
         "metadata": "{}",
         "name": "payment_method",
         "type": "\"string\""
        },
        {
         "metadata": "{}",
         "name": "installments",
         "type": "\"integer\""
        },
        {
         "metadata": "{}",
         "name": "p2p_surcharge_rate",
         "type": "\"double\""
        },
        {
         "metadata": "{}",
         "name": "bills_surcharge_rate",
         "type": "\"double\""
        },
        {
         "metadata": "{}",
         "name": "installment_rate",
         "type": "\"double\""
        },
        {
         "metadata": "{}",
         "name": "p2p_surcharge",
         "type": "\"double\""
        },
        {
         "metadata": "{}",
         "name": "bill_surcharge",
         "type": "\"double\""
        },
        {
         "metadata": "{}",
         "name": "surcharged_transaction_value",
         "type": "\"double\""
        },
        {
         "metadata": "{}",
         "name": "installment_fee",
         "type": "\"double\""
        },
        {
         "metadata": "{}",
         "name": "individual_installment",
         "type": "\"double\""
        }
       ],
       "type": "table"
      }
     },
     "output_type": "display_data"
    }
   ],
   "source": [
    "from pyspark.sql import functions as F\n",
    "\n",
    "df_transactions = df_silver.select(\n",
    "    \"transaction_id\",\n",
    "    \"transaction_date\",\n",
    "    \"transaction_type\",\n",
    "    \"transaction_value\",\n",
    "    \"receiver_used_cc_limit\",\n",
    "    \"payment_method\",\n",
    "    \"installments\",\n",
    "    \"p2p_surcharge_rate\",\n",
    "    \"bills_surcharge_rate\",\n",
    "    \"installment_rate\",\n",
    "\n",
    "    # Valor da taxa adicional para transações P2P\n",
    "    F.col(\"p2p_surcharge\"),\n",
    "\n",
    "    # Valor da taxa adicional para transações BILLS\n",
    "    F.col(\"bills_surcharge\").alias(\"bill_surcharge\"),\n",
    "\n",
    "    # Valor total da transação incluindo taxas P2P e BILLS\n",
    "    F.col(\"principal_after_fee\").alias(\"surcharged_transaction_value\"),\n",
    "\n",
    "    # Valor total do juros a ser cobrado pelo parcelamento (valor para a transação, não por parcela) \n",
    "    F.col(\"installment_fee\"),\n",
    "\n",
    "    # Valor de cada parcela a ser paga pelo usuário que fez um pagamento parcelado com cartão de crédito\n",
    "    F.col(\"individual_installment\")\n",
    ")\n",
    "\n",
    "display(df_transactions)\n",
    "    \n",
    "df_transactions.write \\\n",
    "    .option(\"header\", True) \\\n",
    "    .mode(\"overwrite\") \\\n",
    "    .csv(\"abfss://analytics@stcensodados.dfs.core.windows.net/\"\n",
    "         \"picpay_analytics_case_receitas/transactions.csv\")\n"
   ]
  },
  {
   "cell_type": "markdown",
   "metadata": {
    "application/vnd.databricks.v1+cell": {
     "cellMetadata": {
      "byteLimit": 2048000,
      "rowLimit": 10000
     },
     "inputWidgets": {},
     "nuid": "1d34d6e0-b42d-4a3f-9cad-76333197fcbb",
     "showTitle": false,
     "tableResultSettingsMap": {},
     "title": ""
    }
   },
   "source": [
    "Filtrar parcelamentos no cartão e preparar colunas base"
   ]
  },
  {
   "cell_type": "code",
   "execution_count": 0,
   "metadata": {
    "application/vnd.databricks.v1+cell": {
     "cellMetadata": {
      "byteLimit": 2048000,
      "rowLimit": 10000
     },
     "inputWidgets": {},
     "nuid": "3bd2330b-22b9-4690-91bc-78799dd9a233",
     "showTitle": false,
     "tableResultSettingsMap": {},
     "title": ""
    }
   },
   "outputs": [
    {
     "output_type": "display_data",
     "data": {
      "text/html": [
       "<style scoped>\n",
       "  .table-result-container {\n",
       "    max-height: 300px;\n",
       "    overflow: auto;\n",
       "  }\n",
       "  table, th, td {\n",
       "    border: 1px solid black;\n",
       "    border-collapse: collapse;\n",
       "  }\n",
       "  th, td {\n",
       "    padding: 5px;\n",
       "  }\n",
       "  th {\n",
       "    text-align: left;\n",
       "  }\n",
       "</style><div class='table-result-container'><table class='table-result'><thead style='background-color: white'><tr><th>transaction_id</th><th>transaction_date</th><th>transaction_type</th><th>transaction_value</th><th>installments</th><th>principal_after_fee</th><th>installment_rate</th><th>due_amount</th></tr></thead><tbody><tr><td>1</td><td>2021-01-03</td><td>P2P</td><td>400.0</td><td>12</td><td>403.98</td><td>0.0349</td><td>41.78</td></tr><tr><td>2</td><td>2021-09-14</td><td>BILLS</td><td>650.0</td><td>5</td><td>669.44</td><td>0.0349</td><td>148.23</td></tr><tr><td>3</td><td>2021-07-20</td><td>BILLS</td><td>1200.0</td><td>8</td><td>1235.88</td><td>0.0349</td><td>179.72</td></tr><tr><td>4</td><td>2021-08-06</td><td>P2P</td><td>350.0</td><td>9</td><td>356.97</td><td>0.0349</td><td>46.9</td></tr><tr><td>5</td><td>2021-04-13</td><td>P2P</td><td>3500.0</td><td>10</td><td>3553.73</td><td>0.0349</td><td>427.09</td></tr><tr><td>6</td><td>2021-05-24</td><td>P2P</td><td>3420.0</td><td>7</td><td>3472.14</td><td>0.0349</td><td>567.64</td></tr><tr><td>7</td><td>2021-03-31</td><td>BILLS</td><td>5000.0</td><td>12</td><td>5149.5</td><td>0.0349</td><td>532.58</td></tr><tr><td>8</td><td>2021-08-30</td><td>P2P</td><td>2800.0</td><td>12</td><td>2839.8</td><td>0.0349</td><td>293.7</td></tr><tr><td>9</td><td>2021-08-28</td><td>BILLS</td><td>6000.0</td><td>4</td><td>6179.4</td><td>0.0349</td><td>1681.95</td></tr><tr><td>10</td><td>2021-09-27</td><td>P2P</td><td>8000.0</td><td>6</td><td>8143.28</td><td>0.0349</td><td>1527.73</td></tr></tbody></table></div>"
      ]
     },
     "metadata": {
      "application/vnd.databricks.v1+output": {
       "addedWidgets": {},
       "aggData": [],
       "aggError": "",
       "aggOverflow": false,
       "aggSchema": [],
       "aggSeriesLimitReached": false,
       "aggType": "",
       "arguments": {},
       "columnCustomDisplayInfos": {},
       "data": [
        [
         "1",
         "2021-01-03",
         "P2P",
         400.0,
         12,
         403.98,
         0.0349,
         41.78
        ],
        [
         "2",
         "2021-09-14",
         "BILLS",
         650.0,
         5,
         669.44,
         0.0349,
         148.23
        ],
        [
         "3",
         "2021-07-20",
         "BILLS",
         1200.0,
         8,
         1235.88,
         0.0349,
         179.72
        ],
        [
         "4",
         "2021-08-06",
         "P2P",
         350.0,
         9,
         356.97,
         0.0349,
         46.9
        ],
        [
         "5",
         "2021-04-13",
         "P2P",
         3500.0,
         10,
         3553.73,
         0.0349,
         427.09
        ],
        [
         "6",
         "2021-05-24",
         "P2P",
         3420.0,
         7,
         3472.14,
         0.0349,
         567.64
        ],
        [
         "7",
         "2021-03-31",
         "BILLS",
         5000.0,
         12,
         5149.5,
         0.0349,
         532.58
        ],
        [
         "8",
         "2021-08-30",
         "P2P",
         2800.0,
         12,
         2839.8,
         0.0349,
         293.7
        ],
        [
         "9",
         "2021-08-28",
         "BILLS",
         6000.0,
         4,
         6179.4,
         0.0349,
         1681.95
        ],
        [
         "10",
         "2021-09-27",
         "P2P",
         8000.0,
         6,
         8143.28,
         0.0349,
         1527.73
        ]
       ],
       "datasetInfos": [],
       "dbfsResultPath": null,
       "isJsonSchema": true,
       "metadata": {},
       "overflow": false,
       "plotOptions": {
        "customPlotOptions": {},
        "displayType": "table",
        "pivotAggregation": null,
        "pivotColumns": null,
        "xColumns": null,
        "yColumns": null
       },
       "removedWidgets": [],
       "schema": [
        {
         "metadata": "{}",
         "name": "transaction_id",
         "type": "\"string\""
        },
        {
         "metadata": "{}",
         "name": "transaction_date",
         "type": "\"date\""
        },
        {
         "metadata": "{}",
         "name": "transaction_type",
         "type": "\"string\""
        },
        {
         "metadata": "{}",
         "name": "transaction_value",
         "type": "\"double\""
        },
        {
         "metadata": "{}",
         "name": "installments",
         "type": "\"integer\""
        },
        {
         "metadata": "{}",
         "name": "principal_after_fee",
         "type": "\"double\""
        },
        {
         "metadata": "{}",
         "name": "installment_rate",
         "type": "\"double\""
        },
        {
         "metadata": "{}",
         "name": "due_amount",
         "type": "\"double\""
        }
       ],
       "type": "table"
      }
     },
     "output_type": "display_data"
    }
   ],
   "source": [
    "from pyspark.sql import functions as F\n",
    "\n",
    "df_inst_base = (\n",
    "    df_silver\n",
    "    .filter(\n",
    "        (F.col(\"payment_method\") == \"Credit card\") &\n",
    "        (F.col(\"installments\") > 1)\n",
    "    )\n",
    "    .select(\n",
    "        \"transaction_id\",\n",
    "        \"transaction_date\",\n",
    "        \"transaction_type\",\n",
    "        \"transaction_value\",\n",
    "        \"installments\",\n",
    "        F.col(\"principal_after_fee\"),\n",
    "        F.col(\"installment_rate\"),\n",
    "        F.col(\"due_amount\")\n",
    "    )\n",
    ")\n",
    "\n",
    "# Preview: confira 5 linhas\n",
    "display(df_inst_base)"
   ]
  },
  {
   "cell_type": "markdown",
   "metadata": {
    "application/vnd.databricks.v1+cell": {
     "cellMetadata": {
      "byteLimit": 2048000,
      "rowLimit": 10000
     },
     "inputWidgets": {},
     "nuid": "e1d0af07-5bb5-4f3f-8c2c-58061d5407ac",
     "showTitle": false,
     "tableResultSettingsMap": {},
     "title": ""
    }
   },
   "source": [
    "Abrir o cronograma de parcelas 1 para n"
   ]
  },
  {
   "cell_type": "code",
   "execution_count": 0,
   "metadata": {
    "application/vnd.databricks.v1+cell": {
     "cellMetadata": {
      "byteLimit": 2048000,
      "rowLimit": 10000
     },
     "inputWidgets": {},
     "nuid": "b7bc290f-4efb-45b0-98c7-cd3d28476445",
     "showTitle": false,
     "tableResultSettingsMap": {},
     "title": ""
    }
   },
   "outputs": [
    {
     "output_type": "display_data",
     "data": {
      "text/html": [
       "<style scoped>\n",
       "  .table-result-container {\n",
       "    max-height: 300px;\n",
       "    overflow: auto;\n",
       "  }\n",
       "  table, th, td {\n",
       "    border: 1px solid black;\n",
       "    border-collapse: collapse;\n",
       "  }\n",
       "  th, td {\n",
       "    padding: 5px;\n",
       "  }\n",
       "  th {\n",
       "    text-align: left;\n",
       "  }\n",
       "</style><div class='table-result-container'><table class='table-result'><thead style='background-color: white'><tr><th>transaction_id</th><th>transaction_date</th><th>transaction_type</th><th>transaction_value</th><th>installments</th><th>principal_after_fee</th><th>installment_rate</th><th>due_amount</th><th>installment_number</th></tr></thead><tbody><tr><td>1</td><td>2021-01-03</td><td>P2P</td><td>400.0</td><td>12</td><td>403.98</td><td>0.0349</td><td>41.78</td><td>1</td></tr><tr><td>1</td><td>2021-01-03</td><td>P2P</td><td>400.0</td><td>12</td><td>403.98</td><td>0.0349</td><td>41.78</td><td>2</td></tr><tr><td>1</td><td>2021-01-03</td><td>P2P</td><td>400.0</td><td>12</td><td>403.98</td><td>0.0349</td><td>41.78</td><td>3</td></tr><tr><td>1</td><td>2021-01-03</td><td>P2P</td><td>400.0</td><td>12</td><td>403.98</td><td>0.0349</td><td>41.78</td><td>4</td></tr><tr><td>1</td><td>2021-01-03</td><td>P2P</td><td>400.0</td><td>12</td><td>403.98</td><td>0.0349</td><td>41.78</td><td>5</td></tr><tr><td>1</td><td>2021-01-03</td><td>P2P</td><td>400.0</td><td>12</td><td>403.98</td><td>0.0349</td><td>41.78</td><td>6</td></tr><tr><td>1</td><td>2021-01-03</td><td>P2P</td><td>400.0</td><td>12</td><td>403.98</td><td>0.0349</td><td>41.78</td><td>7</td></tr><tr><td>1</td><td>2021-01-03</td><td>P2P</td><td>400.0</td><td>12</td><td>403.98</td><td>0.0349</td><td>41.78</td><td>8</td></tr><tr><td>1</td><td>2021-01-03</td><td>P2P</td><td>400.0</td><td>12</td><td>403.98</td><td>0.0349</td><td>41.78</td><td>9</td></tr><tr><td>1</td><td>2021-01-03</td><td>P2P</td><td>400.0</td><td>12</td><td>403.98</td><td>0.0349</td><td>41.78</td><td>10</td></tr><tr><td>1</td><td>2021-01-03</td><td>P2P</td><td>400.0</td><td>12</td><td>403.98</td><td>0.0349</td><td>41.78</td><td>11</td></tr><tr><td>1</td><td>2021-01-03</td><td>P2P</td><td>400.0</td><td>12</td><td>403.98</td><td>0.0349</td><td>41.78</td><td>12</td></tr><tr><td>2</td><td>2021-09-14</td><td>BILLS</td><td>650.0</td><td>5</td><td>669.44</td><td>0.0349</td><td>148.23</td><td>1</td></tr><tr><td>2</td><td>2021-09-14</td><td>BILLS</td><td>650.0</td><td>5</td><td>669.44</td><td>0.0349</td><td>148.23</td><td>2</td></tr><tr><td>2</td><td>2021-09-14</td><td>BILLS</td><td>650.0</td><td>5</td><td>669.44</td><td>0.0349</td><td>148.23</td><td>3</td></tr><tr><td>2</td><td>2021-09-14</td><td>BILLS</td><td>650.0</td><td>5</td><td>669.44</td><td>0.0349</td><td>148.23</td><td>4</td></tr><tr><td>2</td><td>2021-09-14</td><td>BILLS</td><td>650.0</td><td>5</td><td>669.44</td><td>0.0349</td><td>148.23</td><td>5</td></tr><tr><td>3</td><td>2021-07-20</td><td>BILLS</td><td>1200.0</td><td>8</td><td>1235.88</td><td>0.0349</td><td>179.72</td><td>1</td></tr><tr><td>3</td><td>2021-07-20</td><td>BILLS</td><td>1200.0</td><td>8</td><td>1235.88</td><td>0.0349</td><td>179.72</td><td>2</td></tr><tr><td>3</td><td>2021-07-20</td><td>BILLS</td><td>1200.0</td><td>8</td><td>1235.88</td><td>0.0349</td><td>179.72</td><td>3</td></tr><tr><td>3</td><td>2021-07-20</td><td>BILLS</td><td>1200.0</td><td>8</td><td>1235.88</td><td>0.0349</td><td>179.72</td><td>4</td></tr><tr><td>3</td><td>2021-07-20</td><td>BILLS</td><td>1200.0</td><td>8</td><td>1235.88</td><td>0.0349</td><td>179.72</td><td>5</td></tr><tr><td>3</td><td>2021-07-20</td><td>BILLS</td><td>1200.0</td><td>8</td><td>1235.88</td><td>0.0349</td><td>179.72</td><td>6</td></tr><tr><td>3</td><td>2021-07-20</td><td>BILLS</td><td>1200.0</td><td>8</td><td>1235.88</td><td>0.0349</td><td>179.72</td><td>7</td></tr><tr><td>3</td><td>2021-07-20</td><td>BILLS</td><td>1200.0</td><td>8</td><td>1235.88</td><td>0.0349</td><td>179.72</td><td>8</td></tr><tr><td>4</td><td>2021-08-06</td><td>P2P</td><td>350.0</td><td>9</td><td>356.97</td><td>0.0349</td><td>46.9</td><td>1</td></tr><tr><td>4</td><td>2021-08-06</td><td>P2P</td><td>350.0</td><td>9</td><td>356.97</td><td>0.0349</td><td>46.9</td><td>2</td></tr><tr><td>4</td><td>2021-08-06</td><td>P2P</td><td>350.0</td><td>9</td><td>356.97</td><td>0.0349</td><td>46.9</td><td>3</td></tr><tr><td>4</td><td>2021-08-06</td><td>P2P</td><td>350.0</td><td>9</td><td>356.97</td><td>0.0349</td><td>46.9</td><td>4</td></tr><tr><td>4</td><td>2021-08-06</td><td>P2P</td><td>350.0</td><td>9</td><td>356.97</td><td>0.0349</td><td>46.9</td><td>5</td></tr></tbody></table></div>"
      ]
     },
     "metadata": {
      "application/vnd.databricks.v1+output": {
       "addedWidgets": {},
       "aggData": [],
       "aggError": "",
       "aggOverflow": false,
       "aggSchema": [],
       "aggSeriesLimitReached": false,
       "aggType": "",
       "arguments": {},
       "columnCustomDisplayInfos": {},
       "data": [
        [
         "1",
         "2021-01-03",
         "P2P",
         400.0,
         12,
         403.98,
         0.0349,
         41.78,
         1
        ],
        [
         "1",
         "2021-01-03",
         "P2P",
         400.0,
         12,
         403.98,
         0.0349,
         41.78,
         2
        ],
        [
         "1",
         "2021-01-03",
         "P2P",
         400.0,
         12,
         403.98,
         0.0349,
         41.78,
         3
        ],
        [
         "1",
         "2021-01-03",
         "P2P",
         400.0,
         12,
         403.98,
         0.0349,
         41.78,
         4
        ],
        [
         "1",
         "2021-01-03",
         "P2P",
         400.0,
         12,
         403.98,
         0.0349,
         41.78,
         5
        ],
        [
         "1",
         "2021-01-03",
         "P2P",
         400.0,
         12,
         403.98,
         0.0349,
         41.78,
         6
        ],
        [
         "1",
         "2021-01-03",
         "P2P",
         400.0,
         12,
         403.98,
         0.0349,
         41.78,
         7
        ],
        [
         "1",
         "2021-01-03",
         "P2P",
         400.0,
         12,
         403.98,
         0.0349,
         41.78,
         8
        ],
        [
         "1",
         "2021-01-03",
         "P2P",
         400.0,
         12,
         403.98,
         0.0349,
         41.78,
         9
        ],
        [
         "1",
         "2021-01-03",
         "P2P",
         400.0,
         12,
         403.98,
         0.0349,
         41.78,
         10
        ],
        [
         "1",
         "2021-01-03",
         "P2P",
         400.0,
         12,
         403.98,
         0.0349,
         41.78,
         11
        ],
        [
         "1",
         "2021-01-03",
         "P2P",
         400.0,
         12,
         403.98,
         0.0349,
         41.78,
         12
        ],
        [
         "2",
         "2021-09-14",
         "BILLS",
         650.0,
         5,
         669.44,
         0.0349,
         148.23,
         1
        ],
        [
         "2",
         "2021-09-14",
         "BILLS",
         650.0,
         5,
         669.44,
         0.0349,
         148.23,
         2
        ],
        [
         "2",
         "2021-09-14",
         "BILLS",
         650.0,
         5,
         669.44,
         0.0349,
         148.23,
         3
        ],
        [
         "2",
         "2021-09-14",
         "BILLS",
         650.0,
         5,
         669.44,
         0.0349,
         148.23,
         4
        ],
        [
         "2",
         "2021-09-14",
         "BILLS",
         650.0,
         5,
         669.44,
         0.0349,
         148.23,
         5
        ],
        [
         "3",
         "2021-07-20",
         "BILLS",
         1200.0,
         8,
         1235.88,
         0.0349,
         179.72,
         1
        ],
        [
         "3",
         "2021-07-20",
         "BILLS",
         1200.0,
         8,
         1235.88,
         0.0349,
         179.72,
         2
        ],
        [
         "3",
         "2021-07-20",
         "BILLS",
         1200.0,
         8,
         1235.88,
         0.0349,
         179.72,
         3
        ],
        [
         "3",
         "2021-07-20",
         "BILLS",
         1200.0,
         8,
         1235.88,
         0.0349,
         179.72,
         4
        ],
        [
         "3",
         "2021-07-20",
         "BILLS",
         1200.0,
         8,
         1235.88,
         0.0349,
         179.72,
         5
        ],
        [
         "3",
         "2021-07-20",
         "BILLS",
         1200.0,
         8,
         1235.88,
         0.0349,
         179.72,
         6
        ],
        [
         "3",
         "2021-07-20",
         "BILLS",
         1200.0,
         8,
         1235.88,
         0.0349,
         179.72,
         7
        ],
        [
         "3",
         "2021-07-20",
         "BILLS",
         1200.0,
         8,
         1235.88,
         0.0349,
         179.72,
         8
        ],
        [
         "4",
         "2021-08-06",
         "P2P",
         350.0,
         9,
         356.97,
         0.0349,
         46.9,
         1
        ],
        [
         "4",
         "2021-08-06",
         "P2P",
         350.0,
         9,
         356.97,
         0.0349,
         46.9,
         2
        ],
        [
         "4",
         "2021-08-06",
         "P2P",
         350.0,
         9,
         356.97,
         0.0349,
         46.9,
         3
        ],
        [
         "4",
         "2021-08-06",
         "P2P",
         350.0,
         9,
         356.97,
         0.0349,
         46.9,
         4
        ],
        [
         "4",
         "2021-08-06",
         "P2P",
         350.0,
         9,
         356.97,
         0.0349,
         46.9,
         5
        ]
       ],
       "datasetInfos": [],
       "dbfsResultPath": null,
       "isJsonSchema": true,
       "metadata": {},
       "overflow": false,
       "plotOptions": {
        "customPlotOptions": {},
        "displayType": "table",
        "pivotAggregation": null,
        "pivotColumns": null,
        "xColumns": null,
        "yColumns": null
       },
       "removedWidgets": [],
       "schema": [
        {
         "metadata": "{}",
         "name": "transaction_id",
         "type": "\"string\""
        },
        {
         "metadata": "{}",
         "name": "transaction_date",
         "type": "\"date\""
        },
        {
         "metadata": "{}",
         "name": "transaction_type",
         "type": "\"string\""
        },
        {
         "metadata": "{}",
         "name": "transaction_value",
         "type": "\"double\""
        },
        {
         "metadata": "{}",
         "name": "installments",
         "type": "\"integer\""
        },
        {
         "metadata": "{}",
         "name": "principal_after_fee",
         "type": "\"double\""
        },
        {
         "metadata": "{}",
         "name": "installment_rate",
         "type": "\"double\""
        },
        {
         "metadata": "{}",
         "name": "due_amount",
         "type": "\"double\""
        },
        {
         "metadata": "{}",
         "name": "installment_number",
         "type": "\"integer\""
        }
       ],
       "type": "table"
      }
     },
     "output_type": "display_data"
    }
   ],
   "source": [
    "from pyspark.sql.functions import sequence, explode, col\n",
    "\n",
    "df_inst_expanded = (\n",
    "    df_inst_base\n",
    "    .withColumn(\n",
    "        \"installment_number\",\n",
    "        explode(sequence(col(\"installments\") * 0 + 1, col(\"installments\")))\n",
    "    )\n",
    ")\n",
    "\n",
    "display(df_inst_expanded.limit(30))\n"
   ]
  },
  {
   "cell_type": "markdown",
   "metadata": {
    "application/vnd.databricks.v1+cell": {
     "cellMetadata": {
      "byteLimit": 2048000,
      "rowLimit": 10000
     },
     "inputWidgets": {},
     "nuid": "51423603-144e-4da7-83a3-9bb1bed29be5",
     "showTitle": false,
     "tableResultSettingsMap": {},
     "title": ""
    }
   },
   "source": [
    "Calcular data de Vencimento (due_date)"
   ]
  },
  {
   "cell_type": "code",
   "execution_count": 0,
   "metadata": {
    "application/vnd.databricks.v1+cell": {
     "cellMetadata": {
      "byteLimit": 2048000,
      "rowLimit": 10000
     },
     "inputWidgets": {},
     "nuid": "fe25a1b5-e379-4deb-8d48-d7a1d3cf3139",
     "showTitle": false,
     "tableResultSettingsMap": {},
     "title": ""
    }
   },
   "outputs": [
    {
     "output_type": "display_data",
     "data": {
      "text/html": [
       "<style scoped>\n",
       "  .table-result-container {\n",
       "    max-height: 300px;\n",
       "    overflow: auto;\n",
       "  }\n",
       "  table, th, td {\n",
       "    border: 1px solid black;\n",
       "    border-collapse: collapse;\n",
       "  }\n",
       "  th, td {\n",
       "    padding: 5px;\n",
       "  }\n",
       "  th {\n",
       "    text-align: left;\n",
       "  }\n",
       "</style><div class='table-result-container'><table class='table-result'><thead style='background-color: white'><tr><th>transaction_id</th><th>installment_number</th><th>due_date</th></tr></thead><tbody><tr><td>1</td><td>1</td><td>2021-02-03</td></tr><tr><td>1</td><td>2</td><td>2021-03-03</td></tr><tr><td>1</td><td>3</td><td>2021-04-03</td></tr><tr><td>1</td><td>4</td><td>2021-05-03</td></tr><tr><td>1</td><td>5</td><td>2021-06-03</td></tr><tr><td>1</td><td>6</td><td>2021-07-03</td></tr><tr><td>1</td><td>7</td><td>2021-08-03</td></tr><tr><td>1</td><td>8</td><td>2021-09-03</td></tr><tr><td>1</td><td>9</td><td>2021-10-03</td></tr><tr><td>1</td><td>10</td><td>2021-11-03</td></tr><tr><td>1</td><td>11</td><td>2021-12-03</td></tr><tr><td>1</td><td>12</td><td>2022-01-03</td></tr><tr><td>10</td><td>1</td><td>2021-10-27</td></tr><tr><td>10</td><td>2</td><td>2021-11-27</td></tr><tr><td>10</td><td>3</td><td>2021-12-27</td></tr><tr><td>10</td><td>4</td><td>2022-01-27</td></tr><tr><td>10</td><td>5</td><td>2022-02-27</td></tr><tr><td>10</td><td>6</td><td>2022-03-27</td></tr><tr><td>2</td><td>1</td><td>2021-10-14</td></tr><tr><td>2</td><td>2</td><td>2021-11-14</td></tr><tr><td>2</td><td>3</td><td>2021-12-14</td></tr><tr><td>2</td><td>4</td><td>2022-01-14</td></tr><tr><td>2</td><td>5</td><td>2022-02-14</td></tr><tr><td>3</td><td>1</td><td>2021-08-20</td></tr><tr><td>3</td><td>2</td><td>2021-09-20</td></tr><tr><td>3</td><td>3</td><td>2021-10-20</td></tr><tr><td>3</td><td>4</td><td>2021-11-20</td></tr><tr><td>3</td><td>5</td><td>2021-12-20</td></tr><tr><td>3</td><td>6</td><td>2022-01-20</td></tr><tr><td>3</td><td>7</td><td>2022-02-20</td></tr><tr><td>3</td><td>8</td><td>2022-03-20</td></tr><tr><td>4</td><td>1</td><td>2021-09-06</td></tr><tr><td>4</td><td>2</td><td>2021-10-06</td></tr><tr><td>4</td><td>3</td><td>2021-11-06</td></tr><tr><td>4</td><td>4</td><td>2021-12-06</td></tr><tr><td>4</td><td>5</td><td>2022-01-06</td></tr><tr><td>4</td><td>6</td><td>2022-02-06</td></tr><tr><td>4</td><td>7</td><td>2022-03-06</td></tr><tr><td>4</td><td>8</td><td>2022-04-06</td></tr><tr><td>4</td><td>9</td><td>2022-05-06</td></tr><tr><td>5</td><td>1</td><td>2021-05-13</td></tr><tr><td>5</td><td>2</td><td>2021-06-13</td></tr><tr><td>5</td><td>3</td><td>2021-07-13</td></tr><tr><td>5</td><td>4</td><td>2021-08-13</td></tr><tr><td>5</td><td>5</td><td>2021-09-13</td></tr><tr><td>5</td><td>6</td><td>2021-10-13</td></tr><tr><td>5</td><td>7</td><td>2021-11-13</td></tr><tr><td>5</td><td>8</td><td>2021-12-13</td></tr><tr><td>5</td><td>9</td><td>2022-01-13</td></tr><tr><td>5</td><td>10</td><td>2022-02-13</td></tr><tr><td>6</td><td>1</td><td>2021-06-24</td></tr><tr><td>6</td><td>2</td><td>2021-07-24</td></tr><tr><td>6</td><td>3</td><td>2021-08-24</td></tr><tr><td>6</td><td>4</td><td>2021-09-24</td></tr><tr><td>6</td><td>5</td><td>2021-10-24</td></tr><tr><td>6</td><td>6</td><td>2021-11-24</td></tr><tr><td>6</td><td>7</td><td>2021-12-24</td></tr><tr><td>7</td><td>1</td><td>2021-04-30</td></tr><tr><td>7</td><td>2</td><td>2021-05-31</td></tr><tr><td>7</td><td>3</td><td>2021-06-30</td></tr><tr><td>7</td><td>4</td><td>2021-07-31</td></tr><tr><td>7</td><td>5</td><td>2021-08-31</td></tr><tr><td>7</td><td>6</td><td>2021-09-30</td></tr><tr><td>7</td><td>7</td><td>2021-10-31</td></tr><tr><td>7</td><td>8</td><td>2021-11-30</td></tr><tr><td>7</td><td>9</td><td>2021-12-31</td></tr><tr><td>7</td><td>10</td><td>2022-01-31</td></tr><tr><td>7</td><td>11</td><td>2022-02-28</td></tr><tr><td>7</td><td>12</td><td>2022-03-31</td></tr><tr><td>8</td><td>1</td><td>2021-09-30</td></tr><tr><td>8</td><td>2</td><td>2021-10-30</td></tr><tr><td>8</td><td>3</td><td>2021-11-30</td></tr><tr><td>8</td><td>4</td><td>2021-12-30</td></tr><tr><td>8</td><td>5</td><td>2022-01-30</td></tr><tr><td>8</td><td>6</td><td>2022-02-28</td></tr><tr><td>8</td><td>7</td><td>2022-03-30</td></tr><tr><td>8</td><td>8</td><td>2022-04-30</td></tr><tr><td>8</td><td>9</td><td>2022-05-30</td></tr><tr><td>8</td><td>10</td><td>2022-06-30</td></tr><tr><td>8</td><td>11</td><td>2022-07-30</td></tr><tr><td>8</td><td>12</td><td>2022-08-30</td></tr><tr><td>9</td><td>1</td><td>2021-09-28</td></tr><tr><td>9</td><td>2</td><td>2021-10-28</td></tr><tr><td>9</td><td>3</td><td>2021-11-28</td></tr><tr><td>9</td><td>4</td><td>2021-12-28</td></tr></tbody></table></div>"
      ]
     },
     "metadata": {
      "application/vnd.databricks.v1+output": {
       "addedWidgets": {},
       "aggData": [],
       "aggError": "",
       "aggOverflow": false,
       "aggSchema": [],
       "aggSeriesLimitReached": false,
       "aggType": "",
       "arguments": {},
       "columnCustomDisplayInfos": {},
       "data": [
        [
         "1",
         1,
         "2021-02-03"
        ],
        [
         "1",
         2,
         "2021-03-03"
        ],
        [
         "1",
         3,
         "2021-04-03"
        ],
        [
         "1",
         4,
         "2021-05-03"
        ],
        [
         "1",
         5,
         "2021-06-03"
        ],
        [
         "1",
         6,
         "2021-07-03"
        ],
        [
         "1",
         7,
         "2021-08-03"
        ],
        [
         "1",
         8,
         "2021-09-03"
        ],
        [
         "1",
         9,
         "2021-10-03"
        ],
        [
         "1",
         10,
         "2021-11-03"
        ],
        [
         "1",
         11,
         "2021-12-03"
        ],
        [
         "1",
         12,
         "2022-01-03"
        ],
        [
         "10",
         1,
         "2021-10-27"
        ],
        [
         "10",
         2,
         "2021-11-27"
        ],
        [
         "10",
         3,
         "2021-12-27"
        ],
        [
         "10",
         4,
         "2022-01-27"
        ],
        [
         "10",
         5,
         "2022-02-27"
        ],
        [
         "10",
         6,
         "2022-03-27"
        ],
        [
         "2",
         1,
         "2021-10-14"
        ],
        [
         "2",
         2,
         "2021-11-14"
        ],
        [
         "2",
         3,
         "2021-12-14"
        ],
        [
         "2",
         4,
         "2022-01-14"
        ],
        [
         "2",
         5,
         "2022-02-14"
        ],
        [
         "3",
         1,
         "2021-08-20"
        ],
        [
         "3",
         2,
         "2021-09-20"
        ],
        [
         "3",
         3,
         "2021-10-20"
        ],
        [
         "3",
         4,
         "2021-11-20"
        ],
        [
         "3",
         5,
         "2021-12-20"
        ],
        [
         "3",
         6,
         "2022-01-20"
        ],
        [
         "3",
         7,
         "2022-02-20"
        ],
        [
         "3",
         8,
         "2022-03-20"
        ],
        [
         "4",
         1,
         "2021-09-06"
        ],
        [
         "4",
         2,
         "2021-10-06"
        ],
        [
         "4",
         3,
         "2021-11-06"
        ],
        [
         "4",
         4,
         "2021-12-06"
        ],
        [
         "4",
         5,
         "2022-01-06"
        ],
        [
         "4",
         6,
         "2022-02-06"
        ],
        [
         "4",
         7,
         "2022-03-06"
        ],
        [
         "4",
         8,
         "2022-04-06"
        ],
        [
         "4",
         9,
         "2022-05-06"
        ],
        [
         "5",
         1,
         "2021-05-13"
        ],
        [
         "5",
         2,
         "2021-06-13"
        ],
        [
         "5",
         3,
         "2021-07-13"
        ],
        [
         "5",
         4,
         "2021-08-13"
        ],
        [
         "5",
         5,
         "2021-09-13"
        ],
        [
         "5",
         6,
         "2021-10-13"
        ],
        [
         "5",
         7,
         "2021-11-13"
        ],
        [
         "5",
         8,
         "2021-12-13"
        ],
        [
         "5",
         9,
         "2022-01-13"
        ],
        [
         "5",
         10,
         "2022-02-13"
        ],
        [
         "6",
         1,
         "2021-06-24"
        ],
        [
         "6",
         2,
         "2021-07-24"
        ],
        [
         "6",
         3,
         "2021-08-24"
        ],
        [
         "6",
         4,
         "2021-09-24"
        ],
        [
         "6",
         5,
         "2021-10-24"
        ],
        [
         "6",
         6,
         "2021-11-24"
        ],
        [
         "6",
         7,
         "2021-12-24"
        ],
        [
         "7",
         1,
         "2021-04-30"
        ],
        [
         "7",
         2,
         "2021-05-31"
        ],
        [
         "7",
         3,
         "2021-06-30"
        ],
        [
         "7",
         4,
         "2021-07-31"
        ],
        [
         "7",
         5,
         "2021-08-31"
        ],
        [
         "7",
         6,
         "2021-09-30"
        ],
        [
         "7",
         7,
         "2021-10-31"
        ],
        [
         "7",
         8,
         "2021-11-30"
        ],
        [
         "7",
         9,
         "2021-12-31"
        ],
        [
         "7",
         10,
         "2022-01-31"
        ],
        [
         "7",
         11,
         "2022-02-28"
        ],
        [
         "7",
         12,
         "2022-03-31"
        ],
        [
         "8",
         1,
         "2021-09-30"
        ],
        [
         "8",
         2,
         "2021-10-30"
        ],
        [
         "8",
         3,
         "2021-11-30"
        ],
        [
         "8",
         4,
         "2021-12-30"
        ],
        [
         "8",
         5,
         "2022-01-30"
        ],
        [
         "8",
         6,
         "2022-02-28"
        ],
        [
         "8",
         7,
         "2022-03-30"
        ],
        [
         "8",
         8,
         "2022-04-30"
        ],
        [
         "8",
         9,
         "2022-05-30"
        ],
        [
         "8",
         10,
         "2022-06-30"
        ],
        [
         "8",
         11,
         "2022-07-30"
        ],
        [
         "8",
         12,
         "2022-08-30"
        ],
        [
         "9",
         1,
         "2021-09-28"
        ],
        [
         "9",
         2,
         "2021-10-28"
        ],
        [
         "9",
         3,
         "2021-11-28"
        ],
        [
         "9",
         4,
         "2021-12-28"
        ]
       ],
       "datasetInfos": [],
       "dbfsResultPath": null,
       "isJsonSchema": true,
       "metadata": {},
       "overflow": false,
       "plotOptions": {
        "customPlotOptions": {},
        "displayType": "table",
        "pivotAggregation": null,
        "pivotColumns": null,
        "xColumns": null,
        "yColumns": null
       },
       "removedWidgets": [],
       "schema": [
        {
         "metadata": "{}",
         "name": "transaction_id",
         "type": "\"string\""
        },
        {
         "metadata": "{}",
         "name": "installment_number",
         "type": "\"integer\""
        },
        {
         "metadata": "{}",
         "name": "due_date",
         "type": "\"date\""
        }
       ],
       "type": "table"
      }
     },
     "output_type": "display_data"
    }
   ],
   "source": [
    "from pyspark.sql.functions import add_months, col\n",
    "\n",
    "df_inst_due = df_inst_expanded.withColumn(\n",
    "    \"due_date\",\n",
    "    add_months(col(\"transaction_date\"), col(\"installment_number\"))\n",
    ")\n",
    "\n",
    "display(\n",
    "    df_inst_due\n",
    "      .select(\"transaction_id\", \"installment_number\", \"due_date\")\n",
    "      .orderBy(\"transaction_id\", \"installment_number\")\n",
    ")\n",
    "\n"
   ]
  },
  {
   "cell_type": "markdown",
   "metadata": {
    "application/vnd.databricks.v1+cell": {
     "cellMetadata": {
      "byteLimit": 2048000,
      "rowLimit": 10000
     },
     "inputWidgets": {},
     "nuid": "037c7c33-7abc-4748-a68b-21591fafa2e2",
     "showTitle": false,
     "tableResultSettingsMap": {},
     "title": ""
    }
   },
   "source": [
    "Calculo do Saldo devedor antes de cada parcela"
   ]
  },
  {
   "cell_type": "code",
   "execution_count": 0,
   "metadata": {
    "application/vnd.databricks.v1+cell": {
     "cellMetadata": {
      "byteLimit": 2048000,
      "rowLimit": 10000
     },
     "inputWidgets": {},
     "nuid": "d8009e71-70fe-4024-8d09-fd47d9238ff0",
     "showTitle": false,
     "tableResultSettingsMap": {},
     "title": ""
    }
   },
   "outputs": [
    {
     "output_type": "display_data",
     "data": {
      "text/html": [
       "<style scoped>\n",
       "  .table-result-container {\n",
       "    max-height: 300px;\n",
       "    overflow: auto;\n",
       "  }\n",
       "  table, th, td {\n",
       "    border: 1px solid black;\n",
       "    border-collapse: collapse;\n",
       "  }\n",
       "  th, td {\n",
       "    padding: 5px;\n",
       "  }\n",
       "  th {\n",
       "    text-align: left;\n",
       "  }\n",
       "</style><div class='table-result-container'><table class='table-result'><thead style='background-color: white'><tr><th>transaction_id</th><th>installment_number</th><th>remaining_balance</th></tr></thead><tbody><tr><td>1</td><td>1</td><td>589.17</td></tr><tr><td>1</td><td>2</td><td>569.3</td></tr><tr><td>1</td><td>3</td><td>550.1</td></tr><tr><td>1</td><td>4</td><td>531.55</td></tr><tr><td>1</td><td>5</td><td>513.63</td></tr><tr><td>1</td><td>6</td><td>496.31</td></tr><tr><td>1</td><td>7</td><td>479.57</td></tr><tr><td>1</td><td>8</td><td>463.4</td></tr><tr><td>1</td><td>9</td><td>447.77</td></tr><tr><td>1</td><td>10</td><td>432.67</td></tr><tr><td>1</td><td>11</td><td>418.08</td></tr><tr><td>1</td><td>12</td><td>403.98</td></tr><tr><td>10</td><td>1</td><td>9666.99</td></tr><tr><td>10</td><td>2</td><td>9340.99</td></tr><tr><td>10</td><td>3</td><td>9025.98</td></tr><tr><td>10</td><td>4</td><td>8721.6</td></tr><tr><td>10</td><td>5</td><td>8427.48</td></tr><tr><td>10</td><td>6</td><td>8143.28</td></tr><tr><td>2</td><td>1</td><td>767.9</td></tr><tr><td>2</td><td>2</td><td>742.0</td></tr><tr><td>2</td><td>3</td><td>716.98</td></tr><tr><td>2</td><td>4</td><td>692.8</td></tr><tr><td>2</td><td>5</td><td>669.44</td></tr><tr><td>3</td><td>1</td><td>1571.32</td></tr><tr><td>3</td><td>2</td><td>1518.33</td></tr><tr><td>3</td><td>3</td><td>1467.13</td></tr><tr><td>3</td><td>4</td><td>1417.65</td></tr><tr><td>3</td><td>5</td><td>1369.85</td></tr><tr><td>3</td><td>6</td><td>1323.65</td></tr><tr><td>3</td><td>7</td><td>1279.01</td></tr><tr><td>3</td><td>8</td><td>1235.88</td></tr><tr><td>4</td><td>1</td><td>469.7</td></tr><tr><td>4</td><td>2</td><td>453.86</td></tr><tr><td>4</td><td>3</td><td>438.55</td></tr><tr><td>4</td><td>4</td><td>423.76</td></tr><tr><td>4</td><td>5</td><td>409.47</td></tr><tr><td>4</td><td>6</td><td>395.66</td></tr><tr><td>4</td><td>7</td><td>382.32</td></tr><tr><td>4</td><td>8</td><td>369.43</td></tr><tr><td>4</td><td>9</td><td>356.97</td></tr><tr><td>5</td><td>1</td><td>4839.16</td></tr><tr><td>5</td><td>2</td><td>4675.97</td></tr><tr><td>5</td><td>3</td><td>4518.28</td></tr><tr><td>5</td><td>4</td><td>4365.91</td></tr><tr><td>5</td><td>5</td><td>4218.68</td></tr><tr><td>5</td><td>6</td><td>4076.41</td></tr><tr><td>5</td><td>7</td><td>3938.94</td></tr><tr><td>5</td><td>8</td><td>3806.11</td></tr><tr><td>5</td><td>9</td><td>3677.76</td></tr><tr><td>5</td><td>10</td><td>3553.73</td></tr><tr><td>6</td><td>1</td><td>4265.67</td></tr><tr><td>6</td><td>2</td><td>4121.82</td></tr><tr><td>6</td><td>3</td><td>3982.82</td></tr><tr><td>6</td><td>4</td><td>3848.51</td></tr><tr><td>6</td><td>5</td><td>3718.72</td></tr><tr><td>6</td><td>6</td><td>3593.32</td></tr><tr><td>6</td><td>7</td><td>3472.14</td></tr><tr><td>7</td><td>1</td><td>7510.13</td></tr><tr><td>7</td><td>2</td><td>7256.86</td></tr><tr><td>7</td><td>3</td><td>7012.14</td></tr><tr><td>7</td><td>4</td><td>6775.67</td></tr><tr><td>7</td><td>5</td><td>6547.17</td></tr><tr><td>7</td><td>6</td><td>6326.38</td></tr><tr><td>7</td><td>7</td><td>6113.04</td></tr><tr><td>7</td><td>8</td><td>5906.89</td></tr><tr><td>7</td><td>9</td><td>5707.69</td></tr><tr><td>7</td><td>10</td><td>5515.21</td></tr><tr><td>7</td><td>11</td><td>5329.22</td></tr><tr><td>7</td><td>12</td><td>5149.5</td></tr><tr><td>8</td><td>1</td><td>4141.62</td></tr><tr><td>8</td><td>2</td><td>4001.95</td></tr><tr><td>8</td><td>3</td><td>3866.99</td></tr><tr><td>8</td><td>4</td><td>3736.58</td></tr><tr><td>8</td><td>5</td><td>3610.58</td></tr><tr><td>8</td><td>6</td><td>3488.82</td></tr><tr><td>8</td><td>7</td><td>3371.16</td></tr><tr><td>8</td><td>8</td><td>3257.48</td></tr><tr><td>8</td><td>9</td><td>3147.62</td></tr><tr><td>8</td><td>10</td><td>3041.48</td></tr><tr><td>8</td><td>11</td><td>2938.91</td></tr><tr><td>8</td><td>12</td><td>2839.8</td></tr><tr><td>9</td><td>1</td><td>6849.23</td></tr><tr><td>9</td><td>2</td><td>6618.25</td></tr><tr><td>9</td><td>3</td><td>6395.06</td></tr><tr><td>9</td><td>4</td><td>6179.4</td></tr></tbody></table></div>"
      ]
     },
     "metadata": {
      "application/vnd.databricks.v1+output": {
       "addedWidgets": {},
       "aggData": [],
       "aggError": "",
       "aggOverflow": false,
       "aggSchema": [],
       "aggSeriesLimitReached": false,
       "aggType": "",
       "arguments": {},
       "columnCustomDisplayInfos": {},
       "data": [
        [
         "1",
         1,
         589.17
        ],
        [
         "1",
         2,
         569.3
        ],
        [
         "1",
         3,
         550.1
        ],
        [
         "1",
         4,
         531.55
        ],
        [
         "1",
         5,
         513.63
        ],
        [
         "1",
         6,
         496.31
        ],
        [
         "1",
         7,
         479.57
        ],
        [
         "1",
         8,
         463.4
        ],
        [
         "1",
         9,
         447.77
        ],
        [
         "1",
         10,
         432.67
        ],
        [
         "1",
         11,
         418.08
        ],
        [
         "1",
         12,
         403.98
        ],
        [
         "10",
         1,
         9666.99
        ],
        [
         "10",
         2,
         9340.99
        ],
        [
         "10",
         3,
         9025.98
        ],
        [
         "10",
         4,
         8721.6
        ],
        [
         "10",
         5,
         8427.48
        ],
        [
         "10",
         6,
         8143.28
        ],
        [
         "2",
         1,
         767.9
        ],
        [
         "2",
         2,
         742.0
        ],
        [
         "2",
         3,
         716.98
        ],
        [
         "2",
         4,
         692.8
        ],
        [
         "2",
         5,
         669.44
        ],
        [
         "3",
         1,
         1571.32
        ],
        [
         "3",
         2,
         1518.33
        ],
        [
         "3",
         3,
         1467.13
        ],
        [
         "3",
         4,
         1417.65
        ],
        [
         "3",
         5,
         1369.85
        ],
        [
         "3",
         6,
         1323.65
        ],
        [
         "3",
         7,
         1279.01
        ],
        [
         "3",
         8,
         1235.88
        ],
        [
         "4",
         1,
         469.7
        ],
        [
         "4",
         2,
         453.86
        ],
        [
         "4",
         3,
         438.55
        ],
        [
         "4",
         4,
         423.76
        ],
        [
         "4",
         5,
         409.47
        ],
        [
         "4",
         6,
         395.66
        ],
        [
         "4",
         7,
         382.32
        ],
        [
         "4",
         8,
         369.43
        ],
        [
         "4",
         9,
         356.97
        ],
        [
         "5",
         1,
         4839.16
        ],
        [
         "5",
         2,
         4675.97
        ],
        [
         "5",
         3,
         4518.28
        ],
        [
         "5",
         4,
         4365.91
        ],
        [
         "5",
         5,
         4218.68
        ],
        [
         "5",
         6,
         4076.41
        ],
        [
         "5",
         7,
         3938.94
        ],
        [
         "5",
         8,
         3806.11
        ],
        [
         "5",
         9,
         3677.76
        ],
        [
         "5",
         10,
         3553.73
        ],
        [
         "6",
         1,
         4265.67
        ],
        [
         "6",
         2,
         4121.82
        ],
        [
         "6",
         3,
         3982.82
        ],
        [
         "6",
         4,
         3848.51
        ],
        [
         "6",
         5,
         3718.72
        ],
        [
         "6",
         6,
         3593.32
        ],
        [
         "6",
         7,
         3472.14
        ],
        [
         "7",
         1,
         7510.13
        ],
        [
         "7",
         2,
         7256.86
        ],
        [
         "7",
         3,
         7012.14
        ],
        [
         "7",
         4,
         6775.67
        ],
        [
         "7",
         5,
         6547.17
        ],
        [
         "7",
         6,
         6326.38
        ],
        [
         "7",
         7,
         6113.04
        ],
        [
         "7",
         8,
         5906.89
        ],
        [
         "7",
         9,
         5707.69
        ],
        [
         "7",
         10,
         5515.21
        ],
        [
         "7",
         11,
         5329.22
        ],
        [
         "7",
         12,
         5149.5
        ],
        [
         "8",
         1,
         4141.62
        ],
        [
         "8",
         2,
         4001.95
        ],
        [
         "8",
         3,
         3866.99
        ],
        [
         "8",
         4,
         3736.58
        ],
        [
         "8",
         5,
         3610.58
        ],
        [
         "8",
         6,
         3488.82
        ],
        [
         "8",
         7,
         3371.16
        ],
        [
         "8",
         8,
         3257.48
        ],
        [
         "8",
         9,
         3147.62
        ],
        [
         "8",
         10,
         3041.48
        ],
        [
         "8",
         11,
         2938.91
        ],
        [
         "8",
         12,
         2839.8
        ],
        [
         "9",
         1,
         6849.23
        ],
        [
         "9",
         2,
         6618.25
        ],
        [
         "9",
         3,
         6395.06
        ],
        [
         "9",
         4,
         6179.4
        ]
       ],
       "datasetInfos": [],
       "dbfsResultPath": null,
       "isJsonSchema": true,
       "metadata": {},
       "overflow": false,
       "plotOptions": {
        "customPlotOptions": {},
        "displayType": "table",
        "pivotAggregation": null,
        "pivotColumns": null,
        "xColumns": null,
        "yColumns": null
       },
       "removedWidgets": [],
       "schema": [
        {
         "metadata": "{}",
         "name": "transaction_id",
         "type": "\"string\""
        },
        {
         "metadata": "{}",
         "name": "installment_number",
         "type": "\"integer\""
        },
        {
         "metadata": "{}",
         "name": "remaining_balance",
         "type": "\"double\""
        }
       ],
       "type": "table"
      }
     },
     "output_type": "display_data"
    }
   ],
   "source": [
    "from pyspark.sql import functions as F\n",
    "\n",
    "df_inst_balance = df_inst_due.withColumn(\n",
    "    \"remaining_balance\",\n",
    "    F.round(\n",
    "        F.col(\"principal_after_fee\") *\n",
    "        F.pow(\n",
    "            F.lit(1) + F.col(\"installment_rate\"),\n",
    "            F.col(\"installments\") - F.col(\"installment_number\")\n",
    "        ),\n",
    "        2\n",
    "    )\n",
    ")\n",
    "\n",
    "display(\n",
    "    df_inst_balance\n",
    "      .select(\"transaction_id\", \"installment_number\", \"remaining_balance\")\n",
    "      .orderBy(\"transaction_id\", \"installment_number\")\n",
    ")\n"
   ]
  },
  {
   "cell_type": "markdown",
   "metadata": {
    "application/vnd.databricks.v1+cell": {
     "cellMetadata": {
      "byteLimit": 2048000,
      "rowLimit": 10000
     },
     "inputWidgets": {},
     "nuid": "d90553bc-f1ad-46ac-b303-4f1f6287fd97",
     "showTitle": false,
     "tableResultSettingsMap": {},
     "title": ""
    }
   },
   "source": [
    "Juros e amortização por parcela"
   ]
  },
  {
   "cell_type": "code",
   "execution_count": 0,
   "metadata": {
    "application/vnd.databricks.v1+cell": {
     "cellMetadata": {
      "byteLimit": 2048000,
      "rowLimit": 10000
     },
     "inputWidgets": {},
     "nuid": "17bc90ff-d78a-4a19-b16e-012a155d4b0b",
     "showTitle": false,
     "tableResultSettingsMap": {},
     "title": ""
    }
   },
   "outputs": [
    {
     "output_type": "display_data",
     "data": {
      "text/html": [
       "<style scoped>\n",
       "  .table-result-container {\n",
       "    max-height: 300px;\n",
       "    overflow: auto;\n",
       "  }\n",
       "  table, th, td {\n",
       "    border: 1px solid black;\n",
       "    border-collapse: collapse;\n",
       "  }\n",
       "  th, td {\n",
       "    padding: 5px;\n",
       "  }\n",
       "  th {\n",
       "    text-align: left;\n",
       "  }\n",
       "</style><div class='table-result-container'><table class='table-result'><thead style='background-color: white'><tr><th>transaction_id</th><th>installment_number</th><th>installment_fee</th><th>installment_amortization</th></tr></thead><tbody><tr><td>1</td><td>1</td><td>20.56</td><td>21.22</td></tr><tr><td>1</td><td>2</td><td>19.87</td><td>21.91</td></tr><tr><td>1</td><td>3</td><td>19.2</td><td>22.58</td></tr><tr><td>1</td><td>4</td><td>18.55</td><td>23.23</td></tr><tr><td>1</td><td>5</td><td>17.93</td><td>23.85</td></tr><tr><td>1</td><td>6</td><td>17.32</td><td>24.46</td></tr><tr><td>1</td><td>7</td><td>16.74</td><td>25.04</td></tr><tr><td>1</td><td>8</td><td>16.17</td><td>25.61</td></tr><tr><td>1</td><td>9</td><td>15.63</td><td>26.15</td></tr><tr><td>1</td><td>10</td><td>15.1</td><td>26.68</td></tr><tr><td>1</td><td>11</td><td>14.59</td><td>27.19</td></tr><tr><td>1</td><td>12</td><td>14.1</td><td>27.68</td></tr><tr><td>10</td><td>1</td><td>337.38</td><td>1190.35</td></tr><tr><td>10</td><td>2</td><td>326.0</td><td>1201.73</td></tr><tr><td>10</td><td>3</td><td>315.01</td><td>1212.72</td></tr><tr><td>10</td><td>4</td><td>304.38</td><td>1223.35</td></tr><tr><td>10</td><td>5</td><td>294.12</td><td>1233.61</td></tr><tr><td>10</td><td>6</td><td>284.2</td><td>1243.53</td></tr><tr><td>2</td><td>1</td><td>26.8</td><td>121.43</td></tr><tr><td>2</td><td>2</td><td>25.9</td><td>122.33</td></tr><tr><td>2</td><td>3</td><td>25.02</td><td>123.21</td></tr><tr><td>2</td><td>4</td><td>24.18</td><td>124.05</td></tr><tr><td>2</td><td>5</td><td>23.36</td><td>124.87</td></tr><tr><td>3</td><td>1</td><td>54.84</td><td>124.88</td></tr><tr><td>3</td><td>2</td><td>52.99</td><td>126.73</td></tr><tr><td>3</td><td>3</td><td>51.2</td><td>128.52</td></tr><tr><td>3</td><td>4</td><td>49.48</td><td>130.24</td></tr><tr><td>3</td><td>5</td><td>47.81</td><td>131.91</td></tr><tr><td>3</td><td>6</td><td>46.2</td><td>133.52</td></tr><tr><td>3</td><td>7</td><td>44.64</td><td>135.08</td></tr><tr><td>3</td><td>8</td><td>43.13</td><td>136.59</td></tr><tr><td>4</td><td>1</td><td>16.39</td><td>30.51</td></tr><tr><td>4</td><td>2</td><td>15.84</td><td>31.06</td></tr><tr><td>4</td><td>3</td><td>15.31</td><td>31.59</td></tr><tr><td>4</td><td>4</td><td>14.79</td><td>32.11</td></tr><tr><td>4</td><td>5</td><td>14.29</td><td>32.61</td></tr><tr><td>4</td><td>6</td><td>13.81</td><td>33.09</td></tr><tr><td>4</td><td>7</td><td>13.34</td><td>33.56</td></tr><tr><td>4</td><td>8</td><td>12.89</td><td>34.01</td></tr><tr><td>4</td><td>9</td><td>12.46</td><td>34.44</td></tr><tr><td>5</td><td>1</td><td>168.89</td><td>258.2</td></tr><tr><td>5</td><td>2</td><td>163.19</td><td>263.9</td></tr><tr><td>5</td><td>3</td><td>157.69</td><td>269.4</td></tr><tr><td>5</td><td>4</td><td>152.37</td><td>274.72</td></tr><tr><td>5</td><td>5</td><td>147.23</td><td>279.86</td></tr><tr><td>5</td><td>6</td><td>142.27</td><td>284.82</td></tr><tr><td>5</td><td>7</td><td>137.47</td><td>289.62</td></tr><tr><td>5</td><td>8</td><td>132.83</td><td>294.26</td></tr><tr><td>5</td><td>9</td><td>128.35</td><td>298.74</td></tr><tr><td>5</td><td>10</td><td>124.03</td><td>303.06</td></tr><tr><td>6</td><td>1</td><td>148.87</td><td>418.77</td></tr><tr><td>6</td><td>2</td><td>143.85</td><td>423.79</td></tr><tr><td>6</td><td>3</td><td>139.0</td><td>428.64</td></tr><tr><td>6</td><td>4</td><td>134.31</td><td>433.33</td></tr><tr><td>6</td><td>5</td><td>129.78</td><td>437.86</td></tr><tr><td>6</td><td>6</td><td>125.41</td><td>442.23</td></tr><tr><td>6</td><td>7</td><td>121.18</td><td>446.46</td></tr><tr><td>7</td><td>1</td><td>262.1</td><td>270.48</td></tr><tr><td>7</td><td>2</td><td>253.26</td><td>279.32</td></tr><tr><td>7</td><td>3</td><td>244.72</td><td>287.86</td></tr><tr><td>7</td><td>4</td><td>236.47</td><td>296.11</td></tr><tr><td>7</td><td>5</td><td>228.5</td><td>304.08</td></tr><tr><td>7</td><td>6</td><td>220.79</td><td>311.79</td></tr><tr><td>7</td><td>7</td><td>213.35</td><td>319.23</td></tr><tr><td>7</td><td>8</td><td>206.15</td><td>326.43</td></tr><tr><td>7</td><td>9</td><td>199.2</td><td>333.38</td></tr><tr><td>7</td><td>10</td><td>192.48</td><td>340.1</td></tr><tr><td>7</td><td>11</td><td>185.99</td><td>346.59</td></tr><tr><td>7</td><td>12</td><td>179.72</td><td>352.86</td></tr><tr><td>8</td><td>1</td><td>144.54</td><td>149.16</td></tr><tr><td>8</td><td>2</td><td>139.67</td><td>154.03</td></tr><tr><td>8</td><td>3</td><td>134.96</td><td>158.74</td></tr><tr><td>8</td><td>4</td><td>130.41</td><td>163.29</td></tr><tr><td>8</td><td>5</td><td>126.01</td><td>167.69</td></tr><tr><td>8</td><td>6</td><td>121.76</td><td>171.94</td></tr><tr><td>8</td><td>7</td><td>117.65</td><td>176.05</td></tr><tr><td>8</td><td>8</td><td>113.69</td><td>180.01</td></tr><tr><td>8</td><td>9</td><td>109.85</td><td>183.85</td></tr><tr><td>8</td><td>10</td><td>106.15</td><td>187.55</td></tr><tr><td>8</td><td>11</td><td>102.57</td><td>191.13</td></tr><tr><td>8</td><td>12</td><td>99.11</td><td>194.59</td></tr><tr><td>9</td><td>1</td><td>239.04</td><td>1442.91</td></tr><tr><td>9</td><td>2</td><td>230.98</td><td>1450.97</td></tr><tr><td>9</td><td>3</td><td>223.19</td><td>1458.76</td></tr><tr><td>9</td><td>4</td><td>215.66</td><td>1466.29</td></tr></tbody></table></div>"
      ]
     },
     "metadata": {
      "application/vnd.databricks.v1+output": {
       "addedWidgets": {},
       "aggData": [],
       "aggError": "",
       "aggOverflow": false,
       "aggSchema": [],
       "aggSeriesLimitReached": false,
       "aggType": "",
       "arguments": {},
       "columnCustomDisplayInfos": {},
       "data": [
        [
         "1",
         1,
         20.56,
         21.22
        ],
        [
         "1",
         2,
         19.87,
         21.91
        ],
        [
         "1",
         3,
         19.2,
         22.58
        ],
        [
         "1",
         4,
         18.55,
         23.23
        ],
        [
         "1",
         5,
         17.93,
         23.85
        ],
        [
         "1",
         6,
         17.32,
         24.46
        ],
        [
         "1",
         7,
         16.74,
         25.04
        ],
        [
         "1",
         8,
         16.17,
         25.61
        ],
        [
         "1",
         9,
         15.63,
         26.15
        ],
        [
         "1",
         10,
         15.1,
         26.68
        ],
        [
         "1",
         11,
         14.59,
         27.19
        ],
        [
         "1",
         12,
         14.1,
         27.68
        ],
        [
         "10",
         1,
         337.38,
         1190.35
        ],
        [
         "10",
         2,
         326.0,
         1201.73
        ],
        [
         "10",
         3,
         315.01,
         1212.72
        ],
        [
         "10",
         4,
         304.38,
         1223.35
        ],
        [
         "10",
         5,
         294.12,
         1233.61
        ],
        [
         "10",
         6,
         284.2,
         1243.53
        ],
        [
         "2",
         1,
         26.8,
         121.43
        ],
        [
         "2",
         2,
         25.9,
         122.33
        ],
        [
         "2",
         3,
         25.02,
         123.21
        ],
        [
         "2",
         4,
         24.18,
         124.05
        ],
        [
         "2",
         5,
         23.36,
         124.87
        ],
        [
         "3",
         1,
         54.84,
         124.88
        ],
        [
         "3",
         2,
         52.99,
         126.73
        ],
        [
         "3",
         3,
         51.2,
         128.52
        ],
        [
         "3",
         4,
         49.48,
         130.24
        ],
        [
         "3",
         5,
         47.81,
         131.91
        ],
        [
         "3",
         6,
         46.2,
         133.52
        ],
        [
         "3",
         7,
         44.64,
         135.08
        ],
        [
         "3",
         8,
         43.13,
         136.59
        ],
        [
         "4",
         1,
         16.39,
         30.51
        ],
        [
         "4",
         2,
         15.84,
         31.06
        ],
        [
         "4",
         3,
         15.31,
         31.59
        ],
        [
         "4",
         4,
         14.79,
         32.11
        ],
        [
         "4",
         5,
         14.29,
         32.61
        ],
        [
         "4",
         6,
         13.81,
         33.09
        ],
        [
         "4",
         7,
         13.34,
         33.56
        ],
        [
         "4",
         8,
         12.89,
         34.01
        ],
        [
         "4",
         9,
         12.46,
         34.44
        ],
        [
         "5",
         1,
         168.89,
         258.2
        ],
        [
         "5",
         2,
         163.19,
         263.9
        ],
        [
         "5",
         3,
         157.69,
         269.4
        ],
        [
         "5",
         4,
         152.37,
         274.72
        ],
        [
         "5",
         5,
         147.23,
         279.86
        ],
        [
         "5",
         6,
         142.27,
         284.82
        ],
        [
         "5",
         7,
         137.47,
         289.62
        ],
        [
         "5",
         8,
         132.83,
         294.26
        ],
        [
         "5",
         9,
         128.35,
         298.74
        ],
        [
         "5",
         10,
         124.03,
         303.06
        ],
        [
         "6",
         1,
         148.87,
         418.77
        ],
        [
         "6",
         2,
         143.85,
         423.79
        ],
        [
         "6",
         3,
         139.0,
         428.64
        ],
        [
         "6",
         4,
         134.31,
         433.33
        ],
        [
         "6",
         5,
         129.78,
         437.86
        ],
        [
         "6",
         6,
         125.41,
         442.23
        ],
        [
         "6",
         7,
         121.18,
         446.46
        ],
        [
         "7",
         1,
         262.1,
         270.48
        ],
        [
         "7",
         2,
         253.26,
         279.32
        ],
        [
         "7",
         3,
         244.72,
         287.86
        ],
        [
         "7",
         4,
         236.47,
         296.11
        ],
        [
         "7",
         5,
         228.5,
         304.08
        ],
        [
         "7",
         6,
         220.79,
         311.79
        ],
        [
         "7",
         7,
         213.35,
         319.23
        ],
        [
         "7",
         8,
         206.15,
         326.43
        ],
        [
         "7",
         9,
         199.2,
         333.38
        ],
        [
         "7",
         10,
         192.48,
         340.1
        ],
        [
         "7",
         11,
         185.99,
         346.59
        ],
        [
         "7",
         12,
         179.72,
         352.86
        ],
        [
         "8",
         1,
         144.54,
         149.16
        ],
        [
         "8",
         2,
         139.67,
         154.03
        ],
        [
         "8",
         3,
         134.96,
         158.74
        ],
        [
         "8",
         4,
         130.41,
         163.29
        ],
        [
         "8",
         5,
         126.01,
         167.69
        ],
        [
         "8",
         6,
         121.76,
         171.94
        ],
        [
         "8",
         7,
         117.65,
         176.05
        ],
        [
         "8",
         8,
         113.69,
         180.01
        ],
        [
         "8",
         9,
         109.85,
         183.85
        ],
        [
         "8",
         10,
         106.15,
         187.55
        ],
        [
         "8",
         11,
         102.57,
         191.13
        ],
        [
         "8",
         12,
         99.11,
         194.59
        ],
        [
         "9",
         1,
         239.04,
         1442.91
        ],
        [
         "9",
         2,
         230.98,
         1450.97
        ],
        [
         "9",
         3,
         223.19,
         1458.76
        ],
        [
         "9",
         4,
         215.66,
         1466.29
        ]
       ],
       "datasetInfos": [],
       "dbfsResultPath": null,
       "isJsonSchema": true,
       "metadata": {},
       "overflow": false,
       "plotOptions": {
        "customPlotOptions": {},
        "displayType": "table",
        "pivotAggregation": null,
        "pivotColumns": null,
        "xColumns": null,
        "yColumns": null
       },
       "removedWidgets": [],
       "schema": [
        {
         "metadata": "{}",
         "name": "transaction_id",
         "type": "\"string\""
        },
        {
         "metadata": "{}",
         "name": "installment_number",
         "type": "\"integer\""
        },
        {
         "metadata": "{}",
         "name": "installment_fee",
         "type": "\"double\""
        },
        {
         "metadata": "{}",
         "name": "installment_amortization",
         "type": "\"double\""
        }
       ],
       "type": "table"
      }
     },
     "output_type": "display_data"
    }
   ],
   "source": [
    "from pyspark.sql import functions as F\n",
    "\n",
    "df_inst_calc = (\n",
    "    df_inst_balance\n",
    "    .withColumn(\n",
    "        \"installment_fee\",\n",
    "        F.round(F.col(\"remaining_balance\") * F.col(\"installment_rate\"), 2)\n",
    "    )\n",
    "    .withColumn(\n",
    "        \"installment_amortization\",\n",
    "        F.round(F.col(\"due_amount\") - F.col(\"installment_fee\"), 2)\n",
    "    )\n",
    ")\n",
    "\n",
    "display(\n",
    "    df_inst_calc\n",
    "      .select(\"transaction_id\", \"installment_number\", \"installment_fee\", \"installment_amortization\")\n",
    "      .orderBy(\"transaction_id\", \"installment_number\")\n",
    ")\n"
   ]
  },
  {
   "cell_type": "markdown",
   "metadata": {
    "application/vnd.databricks.v1+cell": {
     "cellMetadata": {
      "byteLimit": 2048000,
      "rowLimit": 10000
     },
     "inputWidgets": {},
     "nuid": "85f921d3-c189-4785-9630-0b2114000fd5",
     "showTitle": false,
     "tableResultSettingsMap": {},
     "title": ""
    }
   },
   "source": [
    "Criar o df_transactions_installments\n"
   ]
  },
  {
   "cell_type": "code",
   "execution_count": 0,
   "metadata": {
    "application/vnd.databricks.v1+cell": {
     "cellMetadata": {
      "byteLimit": 2048000,
      "rowLimit": 10000
     },
     "inputWidgets": {},
     "nuid": "c0c00ef7-31ec-4a1b-b902-b7c5a83f217e",
     "showTitle": false,
     "tableResultSettingsMap": {},
     "title": ""
    }
   },
   "outputs": [
    {
     "output_type": "display_data",
     "data": {
      "text/html": [
       "<style scoped>\n",
       "  .table-result-container {\n",
       "    max-height: 300px;\n",
       "    overflow: auto;\n",
       "  }\n",
       "  table, th, td {\n",
       "    border: 1px solid black;\n",
       "    border-collapse: collapse;\n",
       "  }\n",
       "  th, td {\n",
       "    padding: 5px;\n",
       "  }\n",
       "  th {\n",
       "    text-align: left;\n",
       "  }\n",
       "</style><div class='table-result-container'><table class='table-result'><thead style='background-color: white'><tr><th>transaction_id</th><th>installment_number</th><th>transaction_date</th><th>transaction_type</th><th>transaction_value</th><th>due_date</th><th>due_amount</th><th>installment_amortization</th><th>installment_fee</th></tr></thead><tbody><tr><td>1</td><td>1</td><td>2021-01-03</td><td>P2P</td><td>400.0</td><td>2021-02-03</td><td>41.78</td><td>21.22</td><td>20.56</td></tr><tr><td>1</td><td>2</td><td>2021-01-03</td><td>P2P</td><td>400.0</td><td>2021-03-03</td><td>41.78</td><td>21.91</td><td>19.87</td></tr><tr><td>1</td><td>3</td><td>2021-01-03</td><td>P2P</td><td>400.0</td><td>2021-04-03</td><td>41.78</td><td>22.58</td><td>19.2</td></tr><tr><td>1</td><td>4</td><td>2021-01-03</td><td>P2P</td><td>400.0</td><td>2021-05-03</td><td>41.78</td><td>23.23</td><td>18.55</td></tr><tr><td>1</td><td>5</td><td>2021-01-03</td><td>P2P</td><td>400.0</td><td>2021-06-03</td><td>41.78</td><td>23.85</td><td>17.93</td></tr><tr><td>1</td><td>6</td><td>2021-01-03</td><td>P2P</td><td>400.0</td><td>2021-07-03</td><td>41.78</td><td>24.46</td><td>17.32</td></tr><tr><td>1</td><td>7</td><td>2021-01-03</td><td>P2P</td><td>400.0</td><td>2021-08-03</td><td>41.78</td><td>25.04</td><td>16.74</td></tr><tr><td>1</td><td>8</td><td>2021-01-03</td><td>P2P</td><td>400.0</td><td>2021-09-03</td><td>41.78</td><td>25.61</td><td>16.17</td></tr><tr><td>1</td><td>9</td><td>2021-01-03</td><td>P2P</td><td>400.0</td><td>2021-10-03</td><td>41.78</td><td>26.15</td><td>15.63</td></tr><tr><td>1</td><td>10</td><td>2021-01-03</td><td>P2P</td><td>400.0</td><td>2021-11-03</td><td>41.78</td><td>26.68</td><td>15.1</td></tr><tr><td>1</td><td>11</td><td>2021-01-03</td><td>P2P</td><td>400.0</td><td>2021-12-03</td><td>41.78</td><td>27.19</td><td>14.59</td></tr><tr><td>1</td><td>12</td><td>2021-01-03</td><td>P2P</td><td>400.0</td><td>2022-01-03</td><td>41.78</td><td>27.68</td><td>14.1</td></tr><tr><td>2</td><td>1</td><td>2021-09-14</td><td>BILLS</td><td>650.0</td><td>2021-10-14</td><td>148.23</td><td>121.43</td><td>26.8</td></tr><tr><td>2</td><td>2</td><td>2021-09-14</td><td>BILLS</td><td>650.0</td><td>2021-11-14</td><td>148.23</td><td>122.33</td><td>25.9</td></tr><tr><td>2</td><td>3</td><td>2021-09-14</td><td>BILLS</td><td>650.0</td><td>2021-12-14</td><td>148.23</td><td>123.21</td><td>25.02</td></tr><tr><td>2</td><td>4</td><td>2021-09-14</td><td>BILLS</td><td>650.0</td><td>2022-01-14</td><td>148.23</td><td>124.05</td><td>24.18</td></tr><tr><td>2</td><td>5</td><td>2021-09-14</td><td>BILLS</td><td>650.0</td><td>2022-02-14</td><td>148.23</td><td>124.87</td><td>23.36</td></tr><tr><td>3</td><td>1</td><td>2021-07-20</td><td>BILLS</td><td>1200.0</td><td>2021-08-20</td><td>179.72</td><td>124.88</td><td>54.84</td></tr><tr><td>3</td><td>2</td><td>2021-07-20</td><td>BILLS</td><td>1200.0</td><td>2021-09-20</td><td>179.72</td><td>126.73</td><td>52.99</td></tr><tr><td>3</td><td>3</td><td>2021-07-20</td><td>BILLS</td><td>1200.0</td><td>2021-10-20</td><td>179.72</td><td>128.52</td><td>51.2</td></tr><tr><td>3</td><td>4</td><td>2021-07-20</td><td>BILLS</td><td>1200.0</td><td>2021-11-20</td><td>179.72</td><td>130.24</td><td>49.48</td></tr><tr><td>3</td><td>5</td><td>2021-07-20</td><td>BILLS</td><td>1200.0</td><td>2021-12-20</td><td>179.72</td><td>131.91</td><td>47.81</td></tr><tr><td>3</td><td>6</td><td>2021-07-20</td><td>BILLS</td><td>1200.0</td><td>2022-01-20</td><td>179.72</td><td>133.52</td><td>46.2</td></tr><tr><td>3</td><td>7</td><td>2021-07-20</td><td>BILLS</td><td>1200.0</td><td>2022-02-20</td><td>179.72</td><td>135.08</td><td>44.64</td></tr><tr><td>3</td><td>8</td><td>2021-07-20</td><td>BILLS</td><td>1200.0</td><td>2022-03-20</td><td>179.72</td><td>136.59</td><td>43.13</td></tr><tr><td>4</td><td>1</td><td>2021-08-06</td><td>P2P</td><td>350.0</td><td>2021-09-06</td><td>46.9</td><td>30.51</td><td>16.39</td></tr><tr><td>4</td><td>2</td><td>2021-08-06</td><td>P2P</td><td>350.0</td><td>2021-10-06</td><td>46.9</td><td>31.06</td><td>15.84</td></tr><tr><td>4</td><td>3</td><td>2021-08-06</td><td>P2P</td><td>350.0</td><td>2021-11-06</td><td>46.9</td><td>31.59</td><td>15.31</td></tr><tr><td>4</td><td>4</td><td>2021-08-06</td><td>P2P</td><td>350.0</td><td>2021-12-06</td><td>46.9</td><td>32.11</td><td>14.79</td></tr><tr><td>4</td><td>5</td><td>2021-08-06</td><td>P2P</td><td>350.0</td><td>2022-01-06</td><td>46.9</td><td>32.61</td><td>14.29</td></tr><tr><td>4</td><td>6</td><td>2021-08-06</td><td>P2P</td><td>350.0</td><td>2022-02-06</td><td>46.9</td><td>33.09</td><td>13.81</td></tr><tr><td>4</td><td>7</td><td>2021-08-06</td><td>P2P</td><td>350.0</td><td>2022-03-06</td><td>46.9</td><td>33.56</td><td>13.34</td></tr><tr><td>4</td><td>8</td><td>2021-08-06</td><td>P2P</td><td>350.0</td><td>2022-04-06</td><td>46.9</td><td>34.01</td><td>12.89</td></tr><tr><td>4</td><td>9</td><td>2021-08-06</td><td>P2P</td><td>350.0</td><td>2022-05-06</td><td>46.9</td><td>34.44</td><td>12.46</td></tr><tr><td>5</td><td>1</td><td>2021-04-13</td><td>P2P</td><td>3500.0</td><td>2021-05-13</td><td>427.09</td><td>258.2</td><td>168.89</td></tr><tr><td>5</td><td>2</td><td>2021-04-13</td><td>P2P</td><td>3500.0</td><td>2021-06-13</td><td>427.09</td><td>263.9</td><td>163.19</td></tr><tr><td>5</td><td>3</td><td>2021-04-13</td><td>P2P</td><td>3500.0</td><td>2021-07-13</td><td>427.09</td><td>269.4</td><td>157.69</td></tr><tr><td>5</td><td>4</td><td>2021-04-13</td><td>P2P</td><td>3500.0</td><td>2021-08-13</td><td>427.09</td><td>274.72</td><td>152.37</td></tr><tr><td>5</td><td>5</td><td>2021-04-13</td><td>P2P</td><td>3500.0</td><td>2021-09-13</td><td>427.09</td><td>279.86</td><td>147.23</td></tr><tr><td>5</td><td>6</td><td>2021-04-13</td><td>P2P</td><td>3500.0</td><td>2021-10-13</td><td>427.09</td><td>284.82</td><td>142.27</td></tr><tr><td>5</td><td>7</td><td>2021-04-13</td><td>P2P</td><td>3500.0</td><td>2021-11-13</td><td>427.09</td><td>289.62</td><td>137.47</td></tr><tr><td>5</td><td>8</td><td>2021-04-13</td><td>P2P</td><td>3500.0</td><td>2021-12-13</td><td>427.09</td><td>294.26</td><td>132.83</td></tr><tr><td>5</td><td>9</td><td>2021-04-13</td><td>P2P</td><td>3500.0</td><td>2022-01-13</td><td>427.09</td><td>298.74</td><td>128.35</td></tr><tr><td>5</td><td>10</td><td>2021-04-13</td><td>P2P</td><td>3500.0</td><td>2022-02-13</td><td>427.09</td><td>303.06</td><td>124.03</td></tr><tr><td>6</td><td>1</td><td>2021-05-24</td><td>P2P</td><td>3420.0</td><td>2021-06-24</td><td>567.64</td><td>418.77</td><td>148.87</td></tr><tr><td>6</td><td>2</td><td>2021-05-24</td><td>P2P</td><td>3420.0</td><td>2021-07-24</td><td>567.64</td><td>423.79</td><td>143.85</td></tr><tr><td>6</td><td>3</td><td>2021-05-24</td><td>P2P</td><td>3420.0</td><td>2021-08-24</td><td>567.64</td><td>428.64</td><td>139.0</td></tr><tr><td>6</td><td>4</td><td>2021-05-24</td><td>P2P</td><td>3420.0</td><td>2021-09-24</td><td>567.64</td><td>433.33</td><td>134.31</td></tr><tr><td>6</td><td>5</td><td>2021-05-24</td><td>P2P</td><td>3420.0</td><td>2021-10-24</td><td>567.64</td><td>437.86</td><td>129.78</td></tr><tr><td>6</td><td>6</td><td>2021-05-24</td><td>P2P</td><td>3420.0</td><td>2021-11-24</td><td>567.64</td><td>442.23</td><td>125.41</td></tr><tr><td>6</td><td>7</td><td>2021-05-24</td><td>P2P</td><td>3420.0</td><td>2021-12-24</td><td>567.64</td><td>446.46</td><td>121.18</td></tr><tr><td>7</td><td>1</td><td>2021-03-31</td><td>BILLS</td><td>5000.0</td><td>2021-04-30</td><td>532.58</td><td>270.48</td><td>262.1</td></tr><tr><td>7</td><td>2</td><td>2021-03-31</td><td>BILLS</td><td>5000.0</td><td>2021-05-31</td><td>532.58</td><td>279.32</td><td>253.26</td></tr><tr><td>7</td><td>3</td><td>2021-03-31</td><td>BILLS</td><td>5000.0</td><td>2021-06-30</td><td>532.58</td><td>287.86</td><td>244.72</td></tr><tr><td>7</td><td>4</td><td>2021-03-31</td><td>BILLS</td><td>5000.0</td><td>2021-07-31</td><td>532.58</td><td>296.11</td><td>236.47</td></tr><tr><td>7</td><td>5</td><td>2021-03-31</td><td>BILLS</td><td>5000.0</td><td>2021-08-31</td><td>532.58</td><td>304.08</td><td>228.5</td></tr><tr><td>7</td><td>6</td><td>2021-03-31</td><td>BILLS</td><td>5000.0</td><td>2021-09-30</td><td>532.58</td><td>311.79</td><td>220.79</td></tr><tr><td>7</td><td>7</td><td>2021-03-31</td><td>BILLS</td><td>5000.0</td><td>2021-10-31</td><td>532.58</td><td>319.23</td><td>213.35</td></tr><tr><td>7</td><td>8</td><td>2021-03-31</td><td>BILLS</td><td>5000.0</td><td>2021-11-30</td><td>532.58</td><td>326.43</td><td>206.15</td></tr><tr><td>7</td><td>9</td><td>2021-03-31</td><td>BILLS</td><td>5000.0</td><td>2021-12-31</td><td>532.58</td><td>333.38</td><td>199.2</td></tr><tr><td>7</td><td>10</td><td>2021-03-31</td><td>BILLS</td><td>5000.0</td><td>2022-01-31</td><td>532.58</td><td>340.1</td><td>192.48</td></tr><tr><td>7</td><td>11</td><td>2021-03-31</td><td>BILLS</td><td>5000.0</td><td>2022-02-28</td><td>532.58</td><td>346.59</td><td>185.99</td></tr><tr><td>7</td><td>12</td><td>2021-03-31</td><td>BILLS</td><td>5000.0</td><td>2022-03-31</td><td>532.58</td><td>352.86</td><td>179.72</td></tr><tr><td>8</td><td>1</td><td>2021-08-30</td><td>P2P</td><td>2800.0</td><td>2021-09-30</td><td>293.7</td><td>149.16</td><td>144.54</td></tr><tr><td>8</td><td>2</td><td>2021-08-30</td><td>P2P</td><td>2800.0</td><td>2021-10-30</td><td>293.7</td><td>154.03</td><td>139.67</td></tr><tr><td>8</td><td>3</td><td>2021-08-30</td><td>P2P</td><td>2800.0</td><td>2021-11-30</td><td>293.7</td><td>158.74</td><td>134.96</td></tr><tr><td>8</td><td>4</td><td>2021-08-30</td><td>P2P</td><td>2800.0</td><td>2021-12-30</td><td>293.7</td><td>163.29</td><td>130.41</td></tr><tr><td>8</td><td>5</td><td>2021-08-30</td><td>P2P</td><td>2800.0</td><td>2022-01-30</td><td>293.7</td><td>167.69</td><td>126.01</td></tr><tr><td>8</td><td>6</td><td>2021-08-30</td><td>P2P</td><td>2800.0</td><td>2022-02-28</td><td>293.7</td><td>171.94</td><td>121.76</td></tr><tr><td>8</td><td>7</td><td>2021-08-30</td><td>P2P</td><td>2800.0</td><td>2022-03-30</td><td>293.7</td><td>176.05</td><td>117.65</td></tr><tr><td>8</td><td>8</td><td>2021-08-30</td><td>P2P</td><td>2800.0</td><td>2022-04-30</td><td>293.7</td><td>180.01</td><td>113.69</td></tr><tr><td>8</td><td>9</td><td>2021-08-30</td><td>P2P</td><td>2800.0</td><td>2022-05-30</td><td>293.7</td><td>183.85</td><td>109.85</td></tr><tr><td>8</td><td>10</td><td>2021-08-30</td><td>P2P</td><td>2800.0</td><td>2022-06-30</td><td>293.7</td><td>187.55</td><td>106.15</td></tr><tr><td>8</td><td>11</td><td>2021-08-30</td><td>P2P</td><td>2800.0</td><td>2022-07-30</td><td>293.7</td><td>191.13</td><td>102.57</td></tr><tr><td>8</td><td>12</td><td>2021-08-30</td><td>P2P</td><td>2800.0</td><td>2022-08-30</td><td>293.7</td><td>194.59</td><td>99.11</td></tr><tr><td>9</td><td>1</td><td>2021-08-28</td><td>BILLS</td><td>6000.0</td><td>2021-09-28</td><td>1681.95</td><td>1442.91</td><td>239.04</td></tr><tr><td>9</td><td>2</td><td>2021-08-28</td><td>BILLS</td><td>6000.0</td><td>2021-10-28</td><td>1681.95</td><td>1450.97</td><td>230.98</td></tr><tr><td>9</td><td>3</td><td>2021-08-28</td><td>BILLS</td><td>6000.0</td><td>2021-11-28</td><td>1681.95</td><td>1458.76</td><td>223.19</td></tr><tr><td>9</td><td>4</td><td>2021-08-28</td><td>BILLS</td><td>6000.0</td><td>2021-12-28</td><td>1681.95</td><td>1466.29</td><td>215.66</td></tr><tr><td>10</td><td>1</td><td>2021-09-27</td><td>P2P</td><td>8000.0</td><td>2021-10-27</td><td>1527.73</td><td>1190.35</td><td>337.38</td></tr><tr><td>10</td><td>2</td><td>2021-09-27</td><td>P2P</td><td>8000.0</td><td>2021-11-27</td><td>1527.73</td><td>1201.73</td><td>326.0</td></tr><tr><td>10</td><td>3</td><td>2021-09-27</td><td>P2P</td><td>8000.0</td><td>2021-12-27</td><td>1527.73</td><td>1212.72</td><td>315.01</td></tr><tr><td>10</td><td>4</td><td>2021-09-27</td><td>P2P</td><td>8000.0</td><td>2022-01-27</td><td>1527.73</td><td>1223.35</td><td>304.38</td></tr><tr><td>10</td><td>5</td><td>2021-09-27</td><td>P2P</td><td>8000.0</td><td>2022-02-27</td><td>1527.73</td><td>1233.61</td><td>294.12</td></tr><tr><td>10</td><td>6</td><td>2021-09-27</td><td>P2P</td><td>8000.0</td><td>2022-03-27</td><td>1527.73</td><td>1243.53</td><td>284.2</td></tr></tbody></table></div>"
      ]
     },
     "metadata": {
      "application/vnd.databricks.v1+output": {
       "addedWidgets": {},
       "aggData": [],
       "aggError": "",
       "aggOverflow": false,
       "aggSchema": [],
       "aggSeriesLimitReached": false,
       "aggType": "",
       "arguments": {},
       "columnCustomDisplayInfos": {},
       "data": [
        [
         "1",
         1,
         "2021-01-03",
         "P2P",
         400.0,
         "2021-02-03",
         41.78,
         21.22,
         20.56
        ],
        [
         "1",
         2,
         "2021-01-03",
         "P2P",
         400.0,
         "2021-03-03",
         41.78,
         21.91,
         19.87
        ],
        [
         "1",
         3,
         "2021-01-03",
         "P2P",
         400.0,
         "2021-04-03",
         41.78,
         22.58,
         19.2
        ],
        [
         "1",
         4,
         "2021-01-03",
         "P2P",
         400.0,
         "2021-05-03",
         41.78,
         23.23,
         18.55
        ],
        [
         "1",
         5,
         "2021-01-03",
         "P2P",
         400.0,
         "2021-06-03",
         41.78,
         23.85,
         17.93
        ],
        [
         "1",
         6,
         "2021-01-03",
         "P2P",
         400.0,
         "2021-07-03",
         41.78,
         24.46,
         17.32
        ],
        [
         "1",
         7,
         "2021-01-03",
         "P2P",
         400.0,
         "2021-08-03",
         41.78,
         25.04,
         16.74
        ],
        [
         "1",
         8,
         "2021-01-03",
         "P2P",
         400.0,
         "2021-09-03",
         41.78,
         25.61,
         16.17
        ],
        [
         "1",
         9,
         "2021-01-03",
         "P2P",
         400.0,
         "2021-10-03",
         41.78,
         26.15,
         15.63
        ],
        [
         "1",
         10,
         "2021-01-03",
         "P2P",
         400.0,
         "2021-11-03",
         41.78,
         26.68,
         15.1
        ],
        [
         "1",
         11,
         "2021-01-03",
         "P2P",
         400.0,
         "2021-12-03",
         41.78,
         27.19,
         14.59
        ],
        [
         "1",
         12,
         "2021-01-03",
         "P2P",
         400.0,
         "2022-01-03",
         41.78,
         27.68,
         14.1
        ],
        [
         "2",
         1,
         "2021-09-14",
         "BILLS",
         650.0,
         "2021-10-14",
         148.23,
         121.43,
         26.8
        ],
        [
         "2",
         2,
         "2021-09-14",
         "BILLS",
         650.0,
         "2021-11-14",
         148.23,
         122.33,
         25.9
        ],
        [
         "2",
         3,
         "2021-09-14",
         "BILLS",
         650.0,
         "2021-12-14",
         148.23,
         123.21,
         25.02
        ],
        [
         "2",
         4,
         "2021-09-14",
         "BILLS",
         650.0,
         "2022-01-14",
         148.23,
         124.05,
         24.18
        ],
        [
         "2",
         5,
         "2021-09-14",
         "BILLS",
         650.0,
         "2022-02-14",
         148.23,
         124.87,
         23.36
        ],
        [
         "3",
         1,
         "2021-07-20",
         "BILLS",
         1200.0,
         "2021-08-20",
         179.72,
         124.88,
         54.84
        ],
        [
         "3",
         2,
         "2021-07-20",
         "BILLS",
         1200.0,
         "2021-09-20",
         179.72,
         126.73,
         52.99
        ],
        [
         "3",
         3,
         "2021-07-20",
         "BILLS",
         1200.0,
         "2021-10-20",
         179.72,
         128.52,
         51.2
        ],
        [
         "3",
         4,
         "2021-07-20",
         "BILLS",
         1200.0,
         "2021-11-20",
         179.72,
         130.24,
         49.48
        ],
        [
         "3",
         5,
         "2021-07-20",
         "BILLS",
         1200.0,
         "2021-12-20",
         179.72,
         131.91,
         47.81
        ],
        [
         "3",
         6,
         "2021-07-20",
         "BILLS",
         1200.0,
         "2022-01-20",
         179.72,
         133.52,
         46.2
        ],
        [
         "3",
         7,
         "2021-07-20",
         "BILLS",
         1200.0,
         "2022-02-20",
         179.72,
         135.08,
         44.64
        ],
        [
         "3",
         8,
         "2021-07-20",
         "BILLS",
         1200.0,
         "2022-03-20",
         179.72,
         136.59,
         43.13
        ],
        [
         "4",
         1,
         "2021-08-06",
         "P2P",
         350.0,
         "2021-09-06",
         46.9,
         30.51,
         16.39
        ],
        [
         "4",
         2,
         "2021-08-06",
         "P2P",
         350.0,
         "2021-10-06",
         46.9,
         31.06,
         15.84
        ],
        [
         "4",
         3,
         "2021-08-06",
         "P2P",
         350.0,
         "2021-11-06",
         46.9,
         31.59,
         15.31
        ],
        [
         "4",
         4,
         "2021-08-06",
         "P2P",
         350.0,
         "2021-12-06",
         46.9,
         32.11,
         14.79
        ],
        [
         "4",
         5,
         "2021-08-06",
         "P2P",
         350.0,
         "2022-01-06",
         46.9,
         32.61,
         14.29
        ],
        [
         "4",
         6,
         "2021-08-06",
         "P2P",
         350.0,
         "2022-02-06",
         46.9,
         33.09,
         13.81
        ],
        [
         "4",
         7,
         "2021-08-06",
         "P2P",
         350.0,
         "2022-03-06",
         46.9,
         33.56,
         13.34
        ],
        [
         "4",
         8,
         "2021-08-06",
         "P2P",
         350.0,
         "2022-04-06",
         46.9,
         34.01,
         12.89
        ],
        [
         "4",
         9,
         "2021-08-06",
         "P2P",
         350.0,
         "2022-05-06",
         46.9,
         34.44,
         12.46
        ],
        [
         "5",
         1,
         "2021-04-13",
         "P2P",
         3500.0,
         "2021-05-13",
         427.09,
         258.2,
         168.89
        ],
        [
         "5",
         2,
         "2021-04-13",
         "P2P",
         3500.0,
         "2021-06-13",
         427.09,
         263.9,
         163.19
        ],
        [
         "5",
         3,
         "2021-04-13",
         "P2P",
         3500.0,
         "2021-07-13",
         427.09,
         269.4,
         157.69
        ],
        [
         "5",
         4,
         "2021-04-13",
         "P2P",
         3500.0,
         "2021-08-13",
         427.09,
         274.72,
         152.37
        ],
        [
         "5",
         5,
         "2021-04-13",
         "P2P",
         3500.0,
         "2021-09-13",
         427.09,
         279.86,
         147.23
        ],
        [
         "5",
         6,
         "2021-04-13",
         "P2P",
         3500.0,
         "2021-10-13",
         427.09,
         284.82,
         142.27
        ],
        [
         "5",
         7,
         "2021-04-13",
         "P2P",
         3500.0,
         "2021-11-13",
         427.09,
         289.62,
         137.47
        ],
        [
         "5",
         8,
         "2021-04-13",
         "P2P",
         3500.0,
         "2021-12-13",
         427.09,
         294.26,
         132.83
        ],
        [
         "5",
         9,
         "2021-04-13",
         "P2P",
         3500.0,
         "2022-01-13",
         427.09,
         298.74,
         128.35
        ],
        [
         "5",
         10,
         "2021-04-13",
         "P2P",
         3500.0,
         "2022-02-13",
         427.09,
         303.06,
         124.03
        ],
        [
         "6",
         1,
         "2021-05-24",
         "P2P",
         3420.0,
         "2021-06-24",
         567.64,
         418.77,
         148.87
        ],
        [
         "6",
         2,
         "2021-05-24",
         "P2P",
         3420.0,
         "2021-07-24",
         567.64,
         423.79,
         143.85
        ],
        [
         "6",
         3,
         "2021-05-24",
         "P2P",
         3420.0,
         "2021-08-24",
         567.64,
         428.64,
         139.0
        ],
        [
         "6",
         4,
         "2021-05-24",
         "P2P",
         3420.0,
         "2021-09-24",
         567.64,
         433.33,
         134.31
        ],
        [
         "6",
         5,
         "2021-05-24",
         "P2P",
         3420.0,
         "2021-10-24",
         567.64,
         437.86,
         129.78
        ],
        [
         "6",
         6,
         "2021-05-24",
         "P2P",
         3420.0,
         "2021-11-24",
         567.64,
         442.23,
         125.41
        ],
        [
         "6",
         7,
         "2021-05-24",
         "P2P",
         3420.0,
         "2021-12-24",
         567.64,
         446.46,
         121.18
        ],
        [
         "7",
         1,
         "2021-03-31",
         "BILLS",
         5000.0,
         "2021-04-30",
         532.58,
         270.48,
         262.1
        ],
        [
         "7",
         2,
         "2021-03-31",
         "BILLS",
         5000.0,
         "2021-05-31",
         532.58,
         279.32,
         253.26
        ],
        [
         "7",
         3,
         "2021-03-31",
         "BILLS",
         5000.0,
         "2021-06-30",
         532.58,
         287.86,
         244.72
        ],
        [
         "7",
         4,
         "2021-03-31",
         "BILLS",
         5000.0,
         "2021-07-31",
         532.58,
         296.11,
         236.47
        ],
        [
         "7",
         5,
         "2021-03-31",
         "BILLS",
         5000.0,
         "2021-08-31",
         532.58,
         304.08,
         228.5
        ],
        [
         "7",
         6,
         "2021-03-31",
         "BILLS",
         5000.0,
         "2021-09-30",
         532.58,
         311.79,
         220.79
        ],
        [
         "7",
         7,
         "2021-03-31",
         "BILLS",
         5000.0,
         "2021-10-31",
         532.58,
         319.23,
         213.35
        ],
        [
         "7",
         8,
         "2021-03-31",
         "BILLS",
         5000.0,
         "2021-11-30",
         532.58,
         326.43,
         206.15
        ],
        [
         "7",
         9,
         "2021-03-31",
         "BILLS",
         5000.0,
         "2021-12-31",
         532.58,
         333.38,
         199.2
        ],
        [
         "7",
         10,
         "2021-03-31",
         "BILLS",
         5000.0,
         "2022-01-31",
         532.58,
         340.1,
         192.48
        ],
        [
         "7",
         11,
         "2021-03-31",
         "BILLS",
         5000.0,
         "2022-02-28",
         532.58,
         346.59,
         185.99
        ],
        [
         "7",
         12,
         "2021-03-31",
         "BILLS",
         5000.0,
         "2022-03-31",
         532.58,
         352.86,
         179.72
        ],
        [
         "8",
         1,
         "2021-08-30",
         "P2P",
         2800.0,
         "2021-09-30",
         293.7,
         149.16,
         144.54
        ],
        [
         "8",
         2,
         "2021-08-30",
         "P2P",
         2800.0,
         "2021-10-30",
         293.7,
         154.03,
         139.67
        ],
        [
         "8",
         3,
         "2021-08-30",
         "P2P",
         2800.0,
         "2021-11-30",
         293.7,
         158.74,
         134.96
        ],
        [
         "8",
         4,
         "2021-08-30",
         "P2P",
         2800.0,
         "2021-12-30",
         293.7,
         163.29,
         130.41
        ],
        [
         "8",
         5,
         "2021-08-30",
         "P2P",
         2800.0,
         "2022-01-30",
         293.7,
         167.69,
         126.01
        ],
        [
         "8",
         6,
         "2021-08-30",
         "P2P",
         2800.0,
         "2022-02-28",
         293.7,
         171.94,
         121.76
        ],
        [
         "8",
         7,
         "2021-08-30",
         "P2P",
         2800.0,
         "2022-03-30",
         293.7,
         176.05,
         117.65
        ],
        [
         "8",
         8,
         "2021-08-30",
         "P2P",
         2800.0,
         "2022-04-30",
         293.7,
         180.01,
         113.69
        ],
        [
         "8",
         9,
         "2021-08-30",
         "P2P",
         2800.0,
         "2022-05-30",
         293.7,
         183.85,
         109.85
        ],
        [
         "8",
         10,
         "2021-08-30",
         "P2P",
         2800.0,
         "2022-06-30",
         293.7,
         187.55,
         106.15
        ],
        [
         "8",
         11,
         "2021-08-30",
         "P2P",
         2800.0,
         "2022-07-30",
         293.7,
         191.13,
         102.57
        ],
        [
         "8",
         12,
         "2021-08-30",
         "P2P",
         2800.0,
         "2022-08-30",
         293.7,
         194.59,
         99.11
        ],
        [
         "9",
         1,
         "2021-08-28",
         "BILLS",
         6000.0,
         "2021-09-28",
         1681.95,
         1442.91,
         239.04
        ],
        [
         "9",
         2,
         "2021-08-28",
         "BILLS",
         6000.0,
         "2021-10-28",
         1681.95,
         1450.97,
         230.98
        ],
        [
         "9",
         3,
         "2021-08-28",
         "BILLS",
         6000.0,
         "2021-11-28",
         1681.95,
         1458.76,
         223.19
        ],
        [
         "9",
         4,
         "2021-08-28",
         "BILLS",
         6000.0,
         "2021-12-28",
         1681.95,
         1466.29,
         215.66
        ],
        [
         "10",
         1,
         "2021-09-27",
         "P2P",
         8000.0,
         "2021-10-27",
         1527.73,
         1190.35,
         337.38
        ],
        [
         "10",
         2,
         "2021-09-27",
         "P2P",
         8000.0,
         "2021-11-27",
         1527.73,
         1201.73,
         326.0
        ],
        [
         "10",
         3,
         "2021-09-27",
         "P2P",
         8000.0,
         "2021-12-27",
         1527.73,
         1212.72,
         315.01
        ],
        [
         "10",
         4,
         "2021-09-27",
         "P2P",
         8000.0,
         "2022-01-27",
         1527.73,
         1223.35,
         304.38
        ],
        [
         "10",
         5,
         "2021-09-27",
         "P2P",
         8000.0,
         "2022-02-27",
         1527.73,
         1233.61,
         294.12
        ],
        [
         "10",
         6,
         "2021-09-27",
         "P2P",
         8000.0,
         "2022-03-27",
         1527.73,
         1243.53,
         284.2
        ]
       ],
       "datasetInfos": [],
       "dbfsResultPath": null,
       "isJsonSchema": true,
       "metadata": {},
       "overflow": false,
       "plotOptions": {
        "customPlotOptions": {},
        "displayType": "table",
        "pivotAggregation": null,
        "pivotColumns": null,
        "xColumns": null,
        "yColumns": null
       },
       "removedWidgets": [],
       "schema": [
        {
         "metadata": "{}",
         "name": "transaction_id",
         "type": "\"string\""
        },
        {
         "metadata": "{}",
         "name": "installment_number",
         "type": "\"integer\""
        },
        {
         "metadata": "{}",
         "name": "transaction_date",
         "type": "\"date\""
        },
        {
         "metadata": "{}",
         "name": "transaction_type",
         "type": "\"string\""
        },
        {
         "metadata": "{}",
         "name": "transaction_value",
         "type": "\"double\""
        },
        {
         "metadata": "{}",
         "name": "due_date",
         "type": "\"date\""
        },
        {
         "metadata": "{}",
         "name": "due_amount",
         "type": "\"double\""
        },
        {
         "metadata": "{}",
         "name": "installment_amortization",
         "type": "\"double\""
        },
        {
         "metadata": "{}",
         "name": "installment_fee",
         "type": "\"double\""
        }
       ],
       "type": "table"
      }
     },
     "output_type": "display_data"
    }
   ],
   "source": [
    "#cria o df para gravar\n",
    "df_transactions_installments = df_inst_calc.select(\n",
    "    \"transaction_id\",\n",
    "    \"installment_number\",\n",
    "    \"transaction_date\",\n",
    "    \"transaction_type\",\n",
    "    \"transaction_value\",\n",
    "    \"due_date\",\n",
    "    \"due_amount\",\n",
    "    \"installment_amortization\",\n",
    "    \"installment_fee\"\n",
    ")\n",
    "\n",
    "df_installments_final.write \\\n",
    "    .option(\"header\", True) \\\n",
    "    .mode(\"overwrite\") \\\n",
    "    .csv(\"abfss://analytics@stcensodados.dfs.core.windows.net/\"\n",
    "         \"picpay_analytics_case_receitas/transactions_installments.csv\")\n",
    "\n",
    "\n",
    "# exibir\n",
    "display(df_transactions_installments)\n"
   ]
  },
  {
   "cell_type": "markdown",
   "metadata": {
    "application/vnd.databricks.v1+cell": {
     "cellMetadata": {
      "byteLimit": 2048000,
      "rowLimit": 10000
     },
     "inputWidgets": {},
     "nuid": "7d10b565-2e69-4573-a29a-ddcfb0d92c7f",
     "showTitle": false,
     "tableResultSettingsMap": {},
     "title": ""
    }
   },
   "source": []
  }
 ],
 "metadata": {
  "application/vnd.databricks.v1+notebook": {
   "computePreferences": null,
   "dashboards": [],
   "environmentMetadata": {
    "base_environment": "",
    "environment_version": "2"
   },
   "inputWidgetPreferences": null,
   "language": "python",
   "notebookMetadata": {
    "pythonIndentUnit": 4
   },
   "notebookName": "picpay_analytics_case_finance",
   "widgets": {}
  },
  "language_info": {
   "name": "python"
  }
 },
 "nbformat": 4,
 "nbformat_minor": 0
}
